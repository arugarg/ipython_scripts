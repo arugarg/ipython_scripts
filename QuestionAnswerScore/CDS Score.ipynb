{
 "cells": [
  {
   "cell_type": "code",
   "execution_count": 113,
   "metadata": {
    "collapsed": true
   },
   "outputs": [],
   "source": [
    "%matplotlib inline\n",
    "import numpy as np\n",
    "import re\n",
    "import pandas as pd\n",
    "import matplotlib.pyplot as plt\n",
    "import math"
   ]
  },
  {
   "cell_type": "code",
   "execution_count": 93,
   "metadata": {
    "collapsed": false
   },
   "outputs": [
    {
     "data": {
      "text/html": [
       "<div>\n",
       "<table border=\"1\" class=\"dataframe\">\n",
       "  <thead>\n",
       "    <tr style=\"text-align: right;\">\n",
       "      <th></th>\n",
       "      <th>doc_id</th>\n",
       "      <th>replydate</th>\n",
       "      <th>DDS</th>\n",
       "    </tr>\n",
       "  </thead>\n",
       "  <tbody>\n",
       "    <tr>\n",
       "      <th>0</th>\n",
       "      <td>52953</td>\n",
       "      <td>2015-10-09</td>\n",
       "      <td>84.401</td>\n",
       "    </tr>\n",
       "    <tr>\n",
       "      <th>1</th>\n",
       "      <td>123102</td>\n",
       "      <td>2015-09-09</td>\n",
       "      <td>90.095</td>\n",
       "    </tr>\n",
       "    <tr>\n",
       "      <th>2</th>\n",
       "      <td>140576</td>\n",
       "      <td>2015-09-03</td>\n",
       "      <td>50.019</td>\n",
       "    </tr>\n",
       "    <tr>\n",
       "      <th>3</th>\n",
       "      <td>3682</td>\n",
       "      <td>2015-09-16</td>\n",
       "      <td>80.213</td>\n",
       "    </tr>\n",
       "    <tr>\n",
       "      <th>4</th>\n",
       "      <td>95694</td>\n",
       "      <td>2015-07-30</td>\n",
       "      <td>85.329</td>\n",
       "    </tr>\n",
       "  </tbody>\n",
       "</table>\n",
       "</div>"
      ],
      "text/plain": [
       "   doc_id   replydate     DDS\n",
       "0   52953  2015-10-09  84.401\n",
       "1  123102  2015-09-09  90.095\n",
       "2  140576  2015-09-03  50.019\n",
       "3    3682  2015-09-16  80.213\n",
       "4   95694  2015-07-30  85.329"
      ]
     },
     "execution_count": 93,
     "metadata": {},
     "output_type": "execute_result"
    }
   ],
   "source": [
    "table = pd.read_csv('DDS.csv')\n",
    "table.head()"
   ]
  },
  {
   "cell_type": "code",
   "execution_count": 94,
   "metadata": {
    "collapsed": false
   },
   "outputs": [],
   "source": [
    "decay = pd.read_csv('decay.csv')"
   ]
  },
  {
   "cell_type": "code",
   "execution_count": 95,
   "metadata": {
    "collapsed": false
   },
   "outputs": [],
   "source": [
    "decays = pd.Series([0.017948,0.020617,0.020617,0.023683,0.027205,0.031250,0.035897,0.041235,0.047366,0.054409,0.062500,0.071794,0.082469,0.094732,0.108819,0.125000,0.143587,0.164938,0.189465,0.217638,0.250000,0.287175,0.329877,0.378929,0.435275,0.500000,0.574349,0.659754,0.757858,0.870551])"
   ]
  },
  {
   "cell_type": "code",
   "execution_count": 96,
   "metadata": {
    "collapsed": false
   },
   "outputs": [
    {
     "name": "stdout",
     "output_type": "stream",
     "text": [
      "2015-07-09 00:00:00 2016-03-06 00:00:00\n",
      "5.703\n"
     ]
    },
    {
     "name": "stderr",
     "output_type": "stream",
     "text": [
      "/Library/Frameworks/Python.framework/Versions/2.7/lib/python2.7/site-packages/IPython/kernel/__main__.py:2: FutureWarning: sort(columns=....) is deprecated, use sort_values(by=.....)\n",
      "  from IPython.kernel.zmq import kernelapp as app\n"
     ]
    },
    {
     "data": {
      "text/html": [
       "<div>\n",
       "<table border=\"1\" class=\"dataframe\">\n",
       "  <thead>\n",
       "    <tr style=\"text-align: right;\">\n",
       "      <th></th>\n",
       "      <th>doc_id</th>\n",
       "      <th>replydate</th>\n",
       "      <th>DDS</th>\n",
       "    </tr>\n",
       "  </thead>\n",
       "  <tbody>\n",
       "    <tr>\n",
       "      <th>16</th>\n",
       "      <td>219</td>\n",
       "      <td>2015-07-09</td>\n",
       "      <td>53.291</td>\n",
       "    </tr>\n",
       "    <tr>\n",
       "      <th>10154</th>\n",
       "      <td>219</td>\n",
       "      <td>2015-07-10</td>\n",
       "      <td>43.484</td>\n",
       "    </tr>\n",
       "    <tr>\n",
       "      <th>15</th>\n",
       "      <td>9830</td>\n",
       "      <td>2015-07-10</td>\n",
       "      <td>78.455</td>\n",
       "    </tr>\n",
       "    <tr>\n",
       "      <th>36</th>\n",
       "      <td>37438</td>\n",
       "      <td>2015-07-10</td>\n",
       "      <td>73.571</td>\n",
       "    </tr>\n",
       "    <tr>\n",
       "      <th>10153</th>\n",
       "      <td>37438</td>\n",
       "      <td>2015-07-11</td>\n",
       "      <td>29.692</td>\n",
       "    </tr>\n",
       "  </tbody>\n",
       "</table>\n",
       "</div>"
      ],
      "text/plain": [
       "       doc_id  replydate     DDS\n",
       "16        219 2015-07-09  53.291\n",
       "10154     219 2015-07-10  43.484\n",
       "15       9830 2015-07-10  78.455\n",
       "36      37438 2015-07-10  73.571\n",
       "10153   37438 2015-07-11  29.692"
      ]
     },
     "execution_count": 96,
     "metadata": {},
     "output_type": "execute_result"
    }
   ],
   "source": [
    "table['replydate'] = pd.to_datetime(table['replydate'])\n",
    "table = table.sort(['replydate'], ascending = True)\n",
    "min_date = table['replydate'].min()\n",
    "max_date = table['replydate'].max()\n",
    "print min_date, max_date\n",
    "print table['DDS'].min()\n",
    "table.head()"
   ]
  },
  {
   "cell_type": "code",
   "execution_count": 97,
   "metadata": {
    "collapsed": false
   },
   "outputs": [
    {
     "name": "stdout",
     "output_type": "stream",
     "text": [
      "              DDS                                                           \\\n",
      "doc_id     80     95     106    114    175    183     219    255    297      \n",
      "replydate                                                                    \n",
      "2015-07-09      0      0      0      0      0      0  53.291      0      0   \n",
      "2015-07-10      0      0      0      0      0      0  43.484      0      0   \n",
      "2015-07-11      0      0      0      0      0      0       0      0      0   \n",
      "2015-07-13      0      0      0      0      0      0       0      0      0   \n",
      "2015-07-14      0      0      0      0      0      0       0      0      0   \n",
      "\n",
      "                   ...                                                     \\\n",
      "doc_id     318     ...   500392 500634 506364 507128 508640 520628 528320   \n",
      "replydate          ...                                                      \n",
      "2015-07-09      0  ...        0      0      0      0      0      0      0   \n",
      "2015-07-10      0  ...        0      0      0      0      0      0      0   \n",
      "2015-07-11      0  ...        0      0      0      0      0      0      0   \n",
      "2015-07-13      0  ...        0      0      0      0      0      0      0   \n",
      "2015-07-14      0  ...        0      0      0      0      0      0      0   \n",
      "\n",
      "                                 \n",
      "doc_id     528707 529365 529755  \n",
      "replydate                        \n",
      "2015-07-09      0      0      0  \n",
      "2015-07-10      0      0      0  \n",
      "2015-07-11      0      0      0  \n",
      "2015-07-13      0      0      0  \n",
      "2015-07-14      0      0      0  \n",
      "\n",
      "[5 rows x 953 columns]\n"
     ]
    }
   ],
   "source": [
    "df =pd.pivot_table(table , values = ['DDS'],index = ['replydate'], columns=['doc_id'], fill_value = '0')\n",
    "print df.head()"
   ]
  },
  {
   "cell_type": "code",
   "execution_count": 98,
   "metadata": {
    "collapsed": false
   },
   "outputs": [],
   "source": [
    "stack = df.stack()\n",
    "stack['DDS'] = pd.to_numeric(stack['DDS'])"
   ]
  },
  {
   "cell_type": "code",
   "execution_count": 99,
   "metadata": {
    "collapsed": false
   },
   "outputs": [],
   "source": [
    "stack.reset_index(inplace=True)\n",
    "# stack['counter'] = stack['DDS'].map(lambda x: 1 if x>1 else 0)"
   ]
  },
  {
   "cell_type": "code",
   "execution_count": 100,
   "metadata": {
    "collapsed": false
   },
   "outputs": [
    {
     "name": "stdout",
     "output_type": "stream",
     "text": [
      "   replydate  doc_id  DDS\n",
      "0 2015-07-09      80    0\n",
      "1 2015-07-09      95    0\n",
      "2 2015-07-09     106    0\n",
      "3 2015-07-09     114    0\n",
      "4 2015-07-09     175    0\n"
     ]
    }
   ],
   "source": [
    "stack_doc = stack.groupby('doc_id',sort = True)\n",
    "print stack.head()"
   ]
  },
  {
   "cell_type": "code",
   "execution_count": 56,
   "metadata": {
    "collapsed": false
   },
   "outputs": [],
   "source": [
    "# pd.rolling_apply(stack_doc['DDS'].values, 29, lambda x: sum(decays)*np.average(x, weights=decays))"
   ]
  },
  {
   "cell_type": "code",
   "execution_count": 101,
   "metadata": {
    "collapsed": false
   },
   "outputs": [
    {
     "data": {
      "text/plain": [
       "30"
      ]
     },
     "execution_count": 101,
     "metadata": {},
     "output_type": "execute_result"
    }
   ],
   "source": [
    "len(decays)"
   ]
  },
  {
   "cell_type": "code",
   "execution_count": 102,
   "metadata": {
    "collapsed": false
   },
   "outputs": [],
   "source": [
    "stack[\"CDS\"] = 0\n",
    "stack.loc[2, \"CDS\"] = 2"
   ]
  },
  {
   "cell_type": "code",
   "execution_count": 103,
   "metadata": {
    "collapsed": false
   },
   "outputs": [
    {
     "data": {
      "text/html": [
       "<div>\n",
       "<table border=\"1\" class=\"dataframe\">\n",
       "  <thead>\n",
       "    <tr style=\"text-align: right;\">\n",
       "      <th></th>\n",
       "      <th>replydate</th>\n",
       "      <th>doc_id</th>\n",
       "      <th>DDS</th>\n",
       "      <th>CDS</th>\n",
       "    </tr>\n",
       "  </thead>\n",
       "  <tbody>\n",
       "    <tr>\n",
       "      <th>0</th>\n",
       "      <td>2015-07-09</td>\n",
       "      <td>80</td>\n",
       "      <td>0</td>\n",
       "      <td>0</td>\n",
       "    </tr>\n",
       "    <tr>\n",
       "      <th>1</th>\n",
       "      <td>2015-07-09</td>\n",
       "      <td>95</td>\n",
       "      <td>0</td>\n",
       "      <td>0</td>\n",
       "    </tr>\n",
       "    <tr>\n",
       "      <th>2</th>\n",
       "      <td>2015-07-09</td>\n",
       "      <td>106</td>\n",
       "      <td>0</td>\n",
       "      <td>2</td>\n",
       "    </tr>\n",
       "    <tr>\n",
       "      <th>3</th>\n",
       "      <td>2015-07-09</td>\n",
       "      <td>114</td>\n",
       "      <td>0</td>\n",
       "      <td>0</td>\n",
       "    </tr>\n",
       "    <tr>\n",
       "      <th>4</th>\n",
       "      <td>2015-07-09</td>\n",
       "      <td>175</td>\n",
       "      <td>0</td>\n",
       "      <td>0</td>\n",
       "    </tr>\n",
       "  </tbody>\n",
       "</table>\n",
       "</div>"
      ],
      "text/plain": [
       "   replydate  doc_id  DDS  CDS\n",
       "0 2015-07-09      80    0    0\n",
       "1 2015-07-09      95    0    0\n",
       "2 2015-07-09     106    0    2\n",
       "3 2015-07-09     114    0    0\n",
       "4 2015-07-09     175    0    0"
      ]
     },
     "execution_count": 103,
     "metadata": {},
     "output_type": "execute_result"
    }
   ],
   "source": [
    "stack.head()"
   ]
  },
  {
   "cell_type": "code",
   "execution_count": 104,
   "metadata": {
    "collapsed": false
   },
   "outputs": [],
   "source": [
    "for x, y in stack_doc.groups.iteritems():\n",
    "    doc_x = stack.ix[y]\n",
    "    stack.loc[y, \"CDS\"] = pd.rolling_apply(doc_x['DDS'].values, 30, lambda x: sum(decays)*np.average(x, weights=decays))"
   ]
  },
  {
   "cell_type": "code",
   "execution_count": 105,
   "metadata": {
    "collapsed": false
   },
   "outputs": [],
   "source": [
    "stack['CDS'] = stack['CDS'].fillna(0)"
   ]
  },
  {
   "cell_type": "code",
   "execution_count": 84,
   "metadata": {
    "collapsed": false
   },
   "outputs": [
    {
     "data": {
      "text/html": [
       "<div>\n",
       "<table border=\"1\" class=\"dataframe\">\n",
       "  <thead>\n",
       "    <tr style=\"text-align: right;\">\n",
       "      <th></th>\n",
       "      <th>replydate</th>\n",
       "      <th>doc_id</th>\n",
       "      <th>DDS</th>\n",
       "      <th>CDS</th>\n",
       "    </tr>\n",
       "  </thead>\n",
       "  <tbody>\n",
       "    <tr>\n",
       "      <th>224808</th>\n",
       "      <td>2016-03-06</td>\n",
       "      <td>349126</td>\n",
       "      <td>0.000</td>\n",
       "      <td>0.000000</td>\n",
       "    </tr>\n",
       "    <tr>\n",
       "      <th>224809</th>\n",
       "      <td>2016-03-06</td>\n",
       "      <td>352501</td>\n",
       "      <td>0.000</td>\n",
       "      <td>0.000000</td>\n",
       "    </tr>\n",
       "    <tr>\n",
       "      <th>224810</th>\n",
       "      <td>2016-03-06</td>\n",
       "      <td>355388</td>\n",
       "      <td>0.000</td>\n",
       "      <td>27.442395</td>\n",
       "    </tr>\n",
       "    <tr>\n",
       "      <th>224811</th>\n",
       "      <td>2016-03-06</td>\n",
       "      <td>355799</td>\n",
       "      <td>0.000</td>\n",
       "      <td>19.524711</td>\n",
       "    </tr>\n",
       "    <tr>\n",
       "      <th>224812</th>\n",
       "      <td>2016-03-06</td>\n",
       "      <td>356512</td>\n",
       "      <td>0.000</td>\n",
       "      <td>13.584728</td>\n",
       "    </tr>\n",
       "    <tr>\n",
       "      <th>224813</th>\n",
       "      <td>2016-03-06</td>\n",
       "      <td>358013</td>\n",
       "      <td>0.000</td>\n",
       "      <td>11.853250</td>\n",
       "    </tr>\n",
       "    <tr>\n",
       "      <th>224814</th>\n",
       "      <td>2016-03-06</td>\n",
       "      <td>358016</td>\n",
       "      <td>0.000</td>\n",
       "      <td>12.713859</td>\n",
       "    </tr>\n",
       "    <tr>\n",
       "      <th>224815</th>\n",
       "      <td>2016-03-06</td>\n",
       "      <td>358758</td>\n",
       "      <td>0.000</td>\n",
       "      <td>0.861493</td>\n",
       "    </tr>\n",
       "    <tr>\n",
       "      <th>224816</th>\n",
       "      <td>2016-03-06</td>\n",
       "      <td>359277</td>\n",
       "      <td>0.000</td>\n",
       "      <td>1.651273</td>\n",
       "    </tr>\n",
       "    <tr>\n",
       "      <th>224817</th>\n",
       "      <td>2016-03-06</td>\n",
       "      <td>360257</td>\n",
       "      <td>0.000</td>\n",
       "      <td>0.000000</td>\n",
       "    </tr>\n",
       "    <tr>\n",
       "      <th>224818</th>\n",
       "      <td>2016-03-06</td>\n",
       "      <td>361382</td>\n",
       "      <td>0.000</td>\n",
       "      <td>1.787308</td>\n",
       "    </tr>\n",
       "    <tr>\n",
       "      <th>224819</th>\n",
       "      <td>2016-03-06</td>\n",
       "      <td>366625</td>\n",
       "      <td>0.000</td>\n",
       "      <td>0.000000</td>\n",
       "    </tr>\n",
       "    <tr>\n",
       "      <th>224820</th>\n",
       "      <td>2016-03-06</td>\n",
       "      <td>367448</td>\n",
       "      <td>0.000</td>\n",
       "      <td>28.897136</td>\n",
       "    </tr>\n",
       "    <tr>\n",
       "      <th>224821</th>\n",
       "      <td>2016-03-06</td>\n",
       "      <td>369997</td>\n",
       "      <td>0.000</td>\n",
       "      <td>0.000000</td>\n",
       "    </tr>\n",
       "    <tr>\n",
       "      <th>224822</th>\n",
       "      <td>2016-03-06</td>\n",
       "      <td>370813</td>\n",
       "      <td>0.000</td>\n",
       "      <td>29.611705</td>\n",
       "    </tr>\n",
       "    <tr>\n",
       "      <th>224823</th>\n",
       "      <td>2016-03-06</td>\n",
       "      <td>371036</td>\n",
       "      <td>0.000</td>\n",
       "      <td>2.262906</td>\n",
       "    </tr>\n",
       "    <tr>\n",
       "      <th>224824</th>\n",
       "      <td>2016-03-06</td>\n",
       "      <td>373444</td>\n",
       "      <td>0.000</td>\n",
       "      <td>2.865626</td>\n",
       "    </tr>\n",
       "    <tr>\n",
       "      <th>224825</th>\n",
       "      <td>2016-03-06</td>\n",
       "      <td>376735</td>\n",
       "      <td>0.000</td>\n",
       "      <td>0.000000</td>\n",
       "    </tr>\n",
       "    <tr>\n",
       "      <th>224826</th>\n",
       "      <td>2016-03-06</td>\n",
       "      <td>376866</td>\n",
       "      <td>0.000</td>\n",
       "      <td>0.000000</td>\n",
       "    </tr>\n",
       "    <tr>\n",
       "      <th>224827</th>\n",
       "      <td>2016-03-06</td>\n",
       "      <td>377775</td>\n",
       "      <td>0.000</td>\n",
       "      <td>0.000000</td>\n",
       "    </tr>\n",
       "    <tr>\n",
       "      <th>224828</th>\n",
       "      <td>2016-03-06</td>\n",
       "      <td>381377</td>\n",
       "      <td>0.000</td>\n",
       "      <td>33.788140</td>\n",
       "    </tr>\n",
       "    <tr>\n",
       "      <th>224829</th>\n",
       "      <td>2016-03-06</td>\n",
       "      <td>381548</td>\n",
       "      <td>0.000</td>\n",
       "      <td>1.394998</td>\n",
       "    </tr>\n",
       "    <tr>\n",
       "      <th>224830</th>\n",
       "      <td>2016-03-06</td>\n",
       "      <td>381911</td>\n",
       "      <td>0.000</td>\n",
       "      <td>0.000000</td>\n",
       "    </tr>\n",
       "    <tr>\n",
       "      <th>224831</th>\n",
       "      <td>2016-03-06</td>\n",
       "      <td>383786</td>\n",
       "      <td>0.000</td>\n",
       "      <td>10.758500</td>\n",
       "    </tr>\n",
       "    <tr>\n",
       "      <th>224832</th>\n",
       "      <td>2016-03-06</td>\n",
       "      <td>384787</td>\n",
       "      <td>37.208</td>\n",
       "      <td>60.216976</td>\n",
       "    </tr>\n",
       "    <tr>\n",
       "      <th>224833</th>\n",
       "      <td>2016-03-06</td>\n",
       "      <td>385220</td>\n",
       "      <td>61.671</td>\n",
       "      <td>57.614381</td>\n",
       "    </tr>\n",
       "    <tr>\n",
       "      <th>224834</th>\n",
       "      <td>2016-03-06</td>\n",
       "      <td>386268</td>\n",
       "      <td>0.000</td>\n",
       "      <td>0.000000</td>\n",
       "    </tr>\n",
       "    <tr>\n",
       "      <th>224835</th>\n",
       "      <td>2016-03-06</td>\n",
       "      <td>388644</td>\n",
       "      <td>0.000</td>\n",
       "      <td>1.646537</td>\n",
       "    </tr>\n",
       "    <tr>\n",
       "      <th>224836</th>\n",
       "      <td>2016-03-06</td>\n",
       "      <td>388729</td>\n",
       "      <td>0.000</td>\n",
       "      <td>84.407152</td>\n",
       "    </tr>\n",
       "    <tr>\n",
       "      <th>224837</th>\n",
       "      <td>2016-03-06</td>\n",
       "      <td>389448</td>\n",
       "      <td>0.000</td>\n",
       "      <td>120.410981</td>\n",
       "    </tr>\n",
       "    <tr>\n",
       "      <th>...</th>\n",
       "      <td>...</td>\n",
       "      <td>...</td>\n",
       "      <td>...</td>\n",
       "      <td>...</td>\n",
       "    </tr>\n",
       "    <tr>\n",
       "      <th>224878</th>\n",
       "      <td>2016-03-06</td>\n",
       "      <td>445667</td>\n",
       "      <td>0.000</td>\n",
       "      <td>19.728115</td>\n",
       "    </tr>\n",
       "    <tr>\n",
       "      <th>224879</th>\n",
       "      <td>2016-03-06</td>\n",
       "      <td>447884</td>\n",
       "      <td>12.417</td>\n",
       "      <td>114.147560</td>\n",
       "    </tr>\n",
       "    <tr>\n",
       "      <th>224880</th>\n",
       "      <td>2016-03-06</td>\n",
       "      <td>449006</td>\n",
       "      <td>0.000</td>\n",
       "      <td>50.954265</td>\n",
       "    </tr>\n",
       "    <tr>\n",
       "      <th>224881</th>\n",
       "      <td>2016-03-06</td>\n",
       "      <td>449096</td>\n",
       "      <td>0.000</td>\n",
       "      <td>0.000000</td>\n",
       "    </tr>\n",
       "    <tr>\n",
       "      <th>224882</th>\n",
       "      <td>2016-03-06</td>\n",
       "      <td>453062</td>\n",
       "      <td>0.000</td>\n",
       "      <td>0.608416</td>\n",
       "    </tr>\n",
       "    <tr>\n",
       "      <th>224883</th>\n",
       "      <td>2016-03-06</td>\n",
       "      <td>453703</td>\n",
       "      <td>0.000</td>\n",
       "      <td>46.219539</td>\n",
       "    </tr>\n",
       "    <tr>\n",
       "      <th>224884</th>\n",
       "      <td>2016-03-06</td>\n",
       "      <td>457438</td>\n",
       "      <td>0.000</td>\n",
       "      <td>1.074924</td>\n",
       "    </tr>\n",
       "    <tr>\n",
       "      <th>224885</th>\n",
       "      <td>2016-03-06</td>\n",
       "      <td>463412</td>\n",
       "      <td>0.000</td>\n",
       "      <td>26.007279</td>\n",
       "    </tr>\n",
       "    <tr>\n",
       "      <th>224886</th>\n",
       "      <td>2016-03-06</td>\n",
       "      <td>467126</td>\n",
       "      <td>0.000</td>\n",
       "      <td>21.620049</td>\n",
       "    </tr>\n",
       "    <tr>\n",
       "      <th>224887</th>\n",
       "      <td>2016-03-06</td>\n",
       "      <td>467133</td>\n",
       "      <td>0.000</td>\n",
       "      <td>31.029406</td>\n",
       "    </tr>\n",
       "    <tr>\n",
       "      <th>224888</th>\n",
       "      <td>2016-03-06</td>\n",
       "      <td>468580</td>\n",
       "      <td>0.000</td>\n",
       "      <td>32.022387</td>\n",
       "    </tr>\n",
       "    <tr>\n",
       "      <th>224889</th>\n",
       "      <td>2016-03-06</td>\n",
       "      <td>469878</td>\n",
       "      <td>0.000</td>\n",
       "      <td>28.382517</td>\n",
       "    </tr>\n",
       "    <tr>\n",
       "      <th>224890</th>\n",
       "      <td>2016-03-06</td>\n",
       "      <td>471825</td>\n",
       "      <td>59.334</td>\n",
       "      <td>227.071351</td>\n",
       "    </tr>\n",
       "    <tr>\n",
       "      <th>224891</th>\n",
       "      <td>2016-03-06</td>\n",
       "      <td>473312</td>\n",
       "      <td>0.000</td>\n",
       "      <td>1.989565</td>\n",
       "    </tr>\n",
       "    <tr>\n",
       "      <th>224892</th>\n",
       "      <td>2016-03-06</td>\n",
       "      <td>474624</td>\n",
       "      <td>0.000</td>\n",
       "      <td>37.866182</td>\n",
       "    </tr>\n",
       "    <tr>\n",
       "      <th>224893</th>\n",
       "      <td>2016-03-06</td>\n",
       "      <td>477153</td>\n",
       "      <td>0.000</td>\n",
       "      <td>12.127965</td>\n",
       "    </tr>\n",
       "    <tr>\n",
       "      <th>224894</th>\n",
       "      <td>2016-03-06</td>\n",
       "      <td>486249</td>\n",
       "      <td>46.889</td>\n",
       "      <td>193.526978</td>\n",
       "    </tr>\n",
       "    <tr>\n",
       "      <th>224895</th>\n",
       "      <td>2016-03-06</td>\n",
       "      <td>488897</td>\n",
       "      <td>0.000</td>\n",
       "      <td>49.512597</td>\n",
       "    </tr>\n",
       "    <tr>\n",
       "      <th>224896</th>\n",
       "      <td>2016-03-06</td>\n",
       "      <td>494956</td>\n",
       "      <td>0.000</td>\n",
       "      <td>22.134287</td>\n",
       "    </tr>\n",
       "    <tr>\n",
       "      <th>224897</th>\n",
       "      <td>2016-03-06</td>\n",
       "      <td>498418</td>\n",
       "      <td>0.000</td>\n",
       "      <td>9.490383</td>\n",
       "    </tr>\n",
       "    <tr>\n",
       "      <th>224898</th>\n",
       "      <td>2016-03-06</td>\n",
       "      <td>500392</td>\n",
       "      <td>0.000</td>\n",
       "      <td>29.532441</td>\n",
       "    </tr>\n",
       "    <tr>\n",
       "      <th>224899</th>\n",
       "      <td>2016-03-06</td>\n",
       "      <td>500634</td>\n",
       "      <td>51.045</td>\n",
       "      <td>84.696095</td>\n",
       "    </tr>\n",
       "    <tr>\n",
       "      <th>224900</th>\n",
       "      <td>2016-03-06</td>\n",
       "      <td>506364</td>\n",
       "      <td>0.000</td>\n",
       "      <td>15.621885</td>\n",
       "    </tr>\n",
       "    <tr>\n",
       "      <th>224901</th>\n",
       "      <td>2016-03-06</td>\n",
       "      <td>507128</td>\n",
       "      <td>60.063</td>\n",
       "      <td>237.087724</td>\n",
       "    </tr>\n",
       "    <tr>\n",
       "      <th>224902</th>\n",
       "      <td>2016-03-06</td>\n",
       "      <td>508640</td>\n",
       "      <td>0.000</td>\n",
       "      <td>6.958537</td>\n",
       "    </tr>\n",
       "    <tr>\n",
       "      <th>224903</th>\n",
       "      <td>2016-03-06</td>\n",
       "      <td>520628</td>\n",
       "      <td>35.297</td>\n",
       "      <td>30.727839</td>\n",
       "    </tr>\n",
       "    <tr>\n",
       "      <th>224904</th>\n",
       "      <td>2016-03-06</td>\n",
       "      <td>528320</td>\n",
       "      <td>0.000</td>\n",
       "      <td>26.937305</td>\n",
       "    </tr>\n",
       "    <tr>\n",
       "      <th>224905</th>\n",
       "      <td>2016-03-06</td>\n",
       "      <td>528707</td>\n",
       "      <td>0.000</td>\n",
       "      <td>27.892964</td>\n",
       "    </tr>\n",
       "    <tr>\n",
       "      <th>224906</th>\n",
       "      <td>2016-03-06</td>\n",
       "      <td>529365</td>\n",
       "      <td>17.891</td>\n",
       "      <td>15.575028</td>\n",
       "    </tr>\n",
       "    <tr>\n",
       "      <th>224907</th>\n",
       "      <td>2016-03-06</td>\n",
       "      <td>529755</td>\n",
       "      <td>84.585</td>\n",
       "      <td>151.832747</td>\n",
       "    </tr>\n",
       "  </tbody>\n",
       "</table>\n",
       "<p>100 rows × 4 columns</p>\n",
       "</div>"
      ],
      "text/plain": [
       "        replydate  doc_id     DDS         CDS\n",
       "224808 2016-03-06  349126   0.000    0.000000\n",
       "224809 2016-03-06  352501   0.000    0.000000\n",
       "224810 2016-03-06  355388   0.000   27.442395\n",
       "224811 2016-03-06  355799   0.000   19.524711\n",
       "224812 2016-03-06  356512   0.000   13.584728\n",
       "224813 2016-03-06  358013   0.000   11.853250\n",
       "224814 2016-03-06  358016   0.000   12.713859\n",
       "224815 2016-03-06  358758   0.000    0.861493\n",
       "224816 2016-03-06  359277   0.000    1.651273\n",
       "224817 2016-03-06  360257   0.000    0.000000\n",
       "224818 2016-03-06  361382   0.000    1.787308\n",
       "224819 2016-03-06  366625   0.000    0.000000\n",
       "224820 2016-03-06  367448   0.000   28.897136\n",
       "224821 2016-03-06  369997   0.000    0.000000\n",
       "224822 2016-03-06  370813   0.000   29.611705\n",
       "224823 2016-03-06  371036   0.000    2.262906\n",
       "224824 2016-03-06  373444   0.000    2.865626\n",
       "224825 2016-03-06  376735   0.000    0.000000\n",
       "224826 2016-03-06  376866   0.000    0.000000\n",
       "224827 2016-03-06  377775   0.000    0.000000\n",
       "224828 2016-03-06  381377   0.000   33.788140\n",
       "224829 2016-03-06  381548   0.000    1.394998\n",
       "224830 2016-03-06  381911   0.000    0.000000\n",
       "224831 2016-03-06  383786   0.000   10.758500\n",
       "224832 2016-03-06  384787  37.208   60.216976\n",
       "224833 2016-03-06  385220  61.671   57.614381\n",
       "224834 2016-03-06  386268   0.000    0.000000\n",
       "224835 2016-03-06  388644   0.000    1.646537\n",
       "224836 2016-03-06  388729   0.000   84.407152\n",
       "224837 2016-03-06  389448   0.000  120.410981\n",
       "...           ...     ...     ...         ...\n",
       "224878 2016-03-06  445667   0.000   19.728115\n",
       "224879 2016-03-06  447884  12.417  114.147560\n",
       "224880 2016-03-06  449006   0.000   50.954265\n",
       "224881 2016-03-06  449096   0.000    0.000000\n",
       "224882 2016-03-06  453062   0.000    0.608416\n",
       "224883 2016-03-06  453703   0.000   46.219539\n",
       "224884 2016-03-06  457438   0.000    1.074924\n",
       "224885 2016-03-06  463412   0.000   26.007279\n",
       "224886 2016-03-06  467126   0.000   21.620049\n",
       "224887 2016-03-06  467133   0.000   31.029406\n",
       "224888 2016-03-06  468580   0.000   32.022387\n",
       "224889 2016-03-06  469878   0.000   28.382517\n",
       "224890 2016-03-06  471825  59.334  227.071351\n",
       "224891 2016-03-06  473312   0.000    1.989565\n",
       "224892 2016-03-06  474624   0.000   37.866182\n",
       "224893 2016-03-06  477153   0.000   12.127965\n",
       "224894 2016-03-06  486249  46.889  193.526978\n",
       "224895 2016-03-06  488897   0.000   49.512597\n",
       "224896 2016-03-06  494956   0.000   22.134287\n",
       "224897 2016-03-06  498418   0.000    9.490383\n",
       "224898 2016-03-06  500392   0.000   29.532441\n",
       "224899 2016-03-06  500634  51.045   84.696095\n",
       "224900 2016-03-06  506364   0.000   15.621885\n",
       "224901 2016-03-06  507128  60.063  237.087724\n",
       "224902 2016-03-06  508640   0.000    6.958537\n",
       "224903 2016-03-06  520628  35.297   30.727839\n",
       "224904 2016-03-06  528320   0.000   26.937305\n",
       "224905 2016-03-06  528707   0.000   27.892964\n",
       "224906 2016-03-06  529365  17.891   15.575028\n",
       "224907 2016-03-06  529755  84.585  151.832747\n",
       "\n",
       "[100 rows x 4 columns]"
      ]
     },
     "execution_count": 84,
     "metadata": {},
     "output_type": "execute_result"
    }
   ],
   "source": [
    "stack.tail(n = 100)"
   ]
  },
  {
   "cell_type": "code",
   "execution_count": 154,
   "metadata": {
    "collapsed": false
   },
   "outputs": [
    {
     "data": {
      "text/plain": [
       "(-10, 300)"
      ]
     },
     "execution_count": 154,
     "metadata": {},
     "output_type": "execute_result"
    },
    {
     "data": {
      "image/png": "[encoded data removed]",
      "text/plain": [
       "<matplotlib.figure.Figure at 0x11a2f7cd0>"
      ]
     },
     "metadata": {},
     "output_type": "display_data"
    }
   ],
   "source": [
    "a = stack[stack['CDS'] !=0]['CDS'].plot(kind='kde')\n",
    "a.set_xlim(-10,300)"
   ]
  },
  {
   "cell_type": "code",
   "execution_count": 116,
   "metadata": {
    "collapsed": false
   },
   "outputs": [
    {
     "data": {
      "text/plain": [
       "<matplotlib.collections.PathCollection at 0x1121fa810>"
      ]
     },
     "execution_count": 116,
     "metadata": {},
     "output_type": "execute_result"
    },
    {
     "data": {
      "image/png": "[encoded data removed]",
      "text/plain": [
       "<matplotlib.figure.Figure at 0x10efa0b90>"
      ]
     },
     "metadata": {},
     "output_type": "display_data"
    }
   ],
   "source": [
    "plt.scatter(stack['CDS'],stack['DDS'])"
   ]
  },
  {
   "cell_type": "code",
   "execution_count": null,
   "metadata": {
    "collapsed": true
   },
   "outputs": [],
   "source": []
  },
  {
   "cell_type": "code",
   "execution_count": 117,
   "metadata": {
    "collapsed": false
   },
   "outputs": [
    {
     "data": {
      "text/plain": [
       "<matplotlib.axes._subplots.AxesSubplot at 0x1153f7a10>"
      ]
     },
     "execution_count": 117,
     "metadata": {},
     "output_type": "execute_result"
    },
    {
     "data": {
      "text/plain": [
       "<matplotlib.figure.Figure at 0x116c6d350>"
      ]
     },
     "metadata": {},
     "output_type": "display_data"
    },
    {
     "data": {
      "image/png": "[encoded data removed]",
      "text/plain": [
       "<matplotlib.figure.Figure at 0x116c6df10>"
      ]
     },
     "metadata": {},
     "output_type": "display_data"
    }
   ],
   "source": [
    "plt.figure()\n",
    "stack.plot()"
   ]
  },
  {
   "cell_type": "code",
   "execution_count": 143,
   "metadata": {
    "collapsed": false
   },
   "outputs": [
    {
     "data": {
      "text/plain": [
       "<matplotlib.axes._subplots.AxesSubplot at 0x1188e5e90>"
      ]
     },
     "execution_count": 143,
     "metadata": {},
     "output_type": "execute_result"
    },
    {
     "data": {
      "image/png": "[encoded data removed]",
      "text/plain": [
       "<matplotlib.figure.Figure at 0x117aae990>"
      ]
     },
     "metadata": {},
     "output_type": "display_data"
    }
   ],
   "source": [
    "stack[stack['doc_id'] == 80].plot(x=\"replydate\", y=[\"CDS\",\"DDS\"])"
   ]
  },
  {
   "cell_type": "code",
   "execution_count": 149,
   "metadata": {
    "collapsed": false
   },
   "outputs": [
    {
     "data": {
      "text/plain": [
       "<matplotlib.axes._subplots.AxesSubplot at 0x119591990>"
      ]
     },
     "execution_count": 149,
     "metadata": {},
     "output_type": "execute_result"
    },
    {
     "data": {
      "image/png": "[encoded data removed]",
      "text/plain": [
       "<matplotlib.figure.Figure at 0x1195ac350>"
      ]
     },
     "metadata": {},
     "output_type": "display_data"
    }
   ],
   "source": [
    "stack[stack['replydate'] == '2016-03-06'].plot(x=\"doc_id\", y=[\"CDS\"])"
   ]
  },
  {
   "cell_type": "code",
   "execution_count": 2,
   "metadata": {
    "collapsed": false
   },
   "outputs": [
    {
     "ename": "NameError",
     "evalue": "name 'stack' is not defined",
     "output_type": "error",
     "traceback": [
      "\u001b[0;31m---------------------------------------------------------------------------\u001b[0m",
      "\u001b[0;31mNameError\u001b[0m                                 Traceback (most recent call last)",
      "\u001b[0;32m<ipython-input-2-216676135ecb>\u001b[0m in \u001b[0;36m<module>\u001b[0;34m()\u001b[0m\n\u001b[0;32m----> 1\u001b[0;31m \u001b[0mstack\u001b[0m\u001b[0;34m[\u001b[0m\u001b[0mstack\u001b[0m\u001b[0;34m[\u001b[0m\u001b[0;34m'replydate'\u001b[0m\u001b[0;34m]\u001b[0m \u001b[0;34m==\u001b[0m \u001b[0;34m'2016-03-06'\u001b[0m\u001b[0;34m]\u001b[0m\u001b[0;34m[\u001b[0m\u001b[0;34m'CDS'\u001b[0m\u001b[0;34m]\u001b[0m\u001b[0;34m.\u001b[0m\u001b[0mboxplot\u001b[0m\u001b[0;34m(\u001b[0m\u001b[0mby\u001b[0m\u001b[0;34m=\u001b[0m\u001b[0;34m'CDS'\u001b[0m\u001b[0;34m)\u001b[0m\u001b[0;34m\u001b[0m\u001b[0m\n\u001b[0m",
      "\u001b[0;31mNameError\u001b[0m: name 'stack' is not defined"
     ]
    }
   ],
   "source": [
    "stack[stack['replydate'] == '2016-03-06']['CDS'].boxplot(by='CDS')"
   ]
  },
  {
   "cell_type": "code",
   "execution_count": 157,
   "metadata": {
    "collapsed": false
   },
   "outputs": [
    {
     "data": {
      "text/plain": [
       "(-10, 300)"
      ]
     },
     "execution_count": 157,
     "metadata": {},
     "output_type": "execute_result"
    },
    {
     "data": {
      "image/png": "[encoded data removed]",
      "text/plain": [
       "<matplotlib.figure.Figure at 0x1189d4290>"
      ]
     },
     "metadata": {},
     "output_type": "display_data"
    }
   ],
   "source": [
    "a = stack[stack['replydate'] == '2016-03-03']['CDS'].plot(kind='kde')\n",
    "a.set_xlim(-10,300)"
   ]
  },
  {
   "cell_type": "code",
   "execution_count": 150,
   "metadata": {
    "collapsed": false
   },
   "outputs": [
    {
     "data": {
      "text/plain": [
       "<matplotlib.axes._subplots.AxesSubplot at 0x118c05f10>"
      ]
     },
     "execution_count": 150,
     "metadata": {},
     "output_type": "execute_result"
    },
    {
     "data": {
      "image/png": "[encoded data removed]",
      "text/plain": [
       "<matplotlib.figure.Figure at 0x118b81890>"
      ]
     },
     "metadata": {},
     "output_type": "display_data"
    }
   ],
   "source": [
    "stack[stack['replydate'] == '2016-03-01'].plot(x=\"doc_id\", y=[\"CDS\"])"
   ]
  },
  {
   "cell_type": "code",
   "execution_count": null,
   "metadata": {
    "collapsed": true
   },
   "outputs": [],
   "source": [
    "stack[stack['doc_id'] == 80].plot(x=\"replydate\", y=[\"CDS\",\"DDS\"])"
   ]
  },
  {
   "cell_type": "code",
   "execution_count": 160,
   "metadata": {
    "collapsed": false
   },
   "outputs": [
    {
     "data": {
      "text/html": [
       "<div>\n",
       "<table border=\"1\" class=\"dataframe\">\n",
       "  <thead>\n",
       "    <tr style=\"text-align: right;\">\n",
       "      <th></th>\n",
       "      <th>replydate</th>\n",
       "      <th>doc_id</th>\n",
       "      <th>DDS</th>\n",
       "      <th>CDS</th>\n",
       "    </tr>\n",
       "  </thead>\n",
       "  <tbody>\n",
       "    <tr>\n",
       "      <th>219256</th>\n",
       "      <td>2016-03-01</td>\n",
       "      <td>5876</td>\n",
       "      <td>75.421</td>\n",
       "      <td>182.498256</td>\n",
       "    </tr>\n",
       "    <tr>\n",
       "      <th>219277</th>\n",
       "      <td>2016-03-01</td>\n",
       "      <td>8999</td>\n",
       "      <td>0.000</td>\n",
       "      <td>154.581639</td>\n",
       "    </tr>\n",
       "    <tr>\n",
       "      <th>219300</th>\n",
       "      <td>2016-03-01</td>\n",
       "      <td>13280</td>\n",
       "      <td>66.814</td>\n",
       "      <td>206.838796</td>\n",
       "    </tr>\n",
       "    <tr>\n",
       "      <th>219326</th>\n",
       "      <td>2016-03-01</td>\n",
       "      <td>17720</td>\n",
       "      <td>49.996</td>\n",
       "      <td>121.838632</td>\n",
       "    </tr>\n",
       "    <tr>\n",
       "      <th>219327</th>\n",
       "      <td>2016-03-01</td>\n",
       "      <td>17749</td>\n",
       "      <td>60.696</td>\n",
       "      <td>382.108650</td>\n",
       "    </tr>\n",
       "    <tr>\n",
       "      <th>219345</th>\n",
       "      <td>2016-03-01</td>\n",
       "      <td>20451</td>\n",
       "      <td>44.478</td>\n",
       "      <td>134.928490</td>\n",
       "    </tr>\n",
       "    <tr>\n",
       "      <th>219347</th>\n",
       "      <td>2016-03-01</td>\n",
       "      <td>21133</td>\n",
       "      <td>16.330</td>\n",
       "      <td>121.388173</td>\n",
       "    </tr>\n",
       "    <tr>\n",
       "      <th>219359</th>\n",
       "      <td>2016-03-01</td>\n",
       "      <td>23264</td>\n",
       "      <td>30.994</td>\n",
       "      <td>121.763175</td>\n",
       "    </tr>\n",
       "    <tr>\n",
       "      <th>219376</th>\n",
       "      <td>2016-03-01</td>\n",
       "      <td>26096</td>\n",
       "      <td>51.193</td>\n",
       "      <td>191.721461</td>\n",
       "    </tr>\n",
       "    <tr>\n",
       "      <th>219377</th>\n",
       "      <td>2016-03-01</td>\n",
       "      <td>26403</td>\n",
       "      <td>0.000</td>\n",
       "      <td>167.037957</td>\n",
       "    </tr>\n",
       "    <tr>\n",
       "      <th>219415</th>\n",
       "      <td>2016-03-01</td>\n",
       "      <td>33062</td>\n",
       "      <td>45.674</td>\n",
       "      <td>215.465232</td>\n",
       "    </tr>\n",
       "    <tr>\n",
       "      <th>219465</th>\n",
       "      <td>2016-03-01</td>\n",
       "      <td>44958</td>\n",
       "      <td>0.000</td>\n",
       "      <td>136.565326</td>\n",
       "    </tr>\n",
       "    <tr>\n",
       "      <th>219478</th>\n",
       "      <td>2016-03-01</td>\n",
       "      <td>47144</td>\n",
       "      <td>29.692</td>\n",
       "      <td>261.746284</td>\n",
       "    </tr>\n",
       "    <tr>\n",
       "      <th>219484</th>\n",
       "      <td>2016-03-01</td>\n",
       "      <td>47777</td>\n",
       "      <td>25.202</td>\n",
       "      <td>100.210667</td>\n",
       "    </tr>\n",
       "    <tr>\n",
       "      <th>219535</th>\n",
       "      <td>2016-03-01</td>\n",
       "      <td>82051</td>\n",
       "      <td>0.000</td>\n",
       "      <td>207.408535</td>\n",
       "    </tr>\n",
       "    <tr>\n",
       "      <th>219544</th>\n",
       "      <td>2016-03-01</td>\n",
       "      <td>84460</td>\n",
       "      <td>16.938</td>\n",
       "      <td>193.358444</td>\n",
       "    </tr>\n",
       "    <tr>\n",
       "      <th>219584</th>\n",
       "      <td>2016-03-01</td>\n",
       "      <td>94938</td>\n",
       "      <td>34.841</td>\n",
       "      <td>119.455893</td>\n",
       "    </tr>\n",
       "    <tr>\n",
       "      <th>219595</th>\n",
       "      <td>2016-03-01</td>\n",
       "      <td>96173</td>\n",
       "      <td>0.000</td>\n",
       "      <td>116.797301</td>\n",
       "    </tr>\n",
       "    <tr>\n",
       "      <th>219597</th>\n",
       "      <td>2016-03-01</td>\n",
       "      <td>96483</td>\n",
       "      <td>0.000</td>\n",
       "      <td>174.566816</td>\n",
       "    </tr>\n",
       "    <tr>\n",
       "      <th>219599</th>\n",
       "      <td>2016-03-01</td>\n",
       "      <td>96831</td>\n",
       "      <td>0.000</td>\n",
       "      <td>167.925658</td>\n",
       "    </tr>\n",
       "    <tr>\n",
       "      <th>219602</th>\n",
       "      <td>2016-03-01</td>\n",
       "      <td>98319</td>\n",
       "      <td>62.129</td>\n",
       "      <td>134.471289</td>\n",
       "    </tr>\n",
       "    <tr>\n",
       "      <th>219610</th>\n",
       "      <td>2016-03-01</td>\n",
       "      <td>105439</td>\n",
       "      <td>0.000</td>\n",
       "      <td>100.410256</td>\n",
       "    </tr>\n",
       "    <tr>\n",
       "      <th>219621</th>\n",
       "      <td>2016-03-01</td>\n",
       "      <td>112492</td>\n",
       "      <td>50.524</td>\n",
       "      <td>159.898926</td>\n",
       "    </tr>\n",
       "    <tr>\n",
       "      <th>219637</th>\n",
       "      <td>2016-03-01</td>\n",
       "      <td>118893</td>\n",
       "      <td>20.970</td>\n",
       "      <td>113.172538</td>\n",
       "    </tr>\n",
       "    <tr>\n",
       "      <th>219662</th>\n",
       "      <td>2016-03-01</td>\n",
       "      <td>129796</td>\n",
       "      <td>12.180</td>\n",
       "      <td>192.460384</td>\n",
       "    </tr>\n",
       "    <tr>\n",
       "      <th>219663</th>\n",
       "      <td>2016-03-01</td>\n",
       "      <td>130160</td>\n",
       "      <td>57.783</td>\n",
       "      <td>166.914016</td>\n",
       "    </tr>\n",
       "    <tr>\n",
       "      <th>219668</th>\n",
       "      <td>2016-03-01</td>\n",
       "      <td>131069</td>\n",
       "      <td>59.965</td>\n",
       "      <td>134.582623</td>\n",
       "    </tr>\n",
       "    <tr>\n",
       "      <th>219669</th>\n",
       "      <td>2016-03-01</td>\n",
       "      <td>131142</td>\n",
       "      <td>37.213</td>\n",
       "      <td>421.667976</td>\n",
       "    </tr>\n",
       "    <tr>\n",
       "      <th>219671</th>\n",
       "      <td>2016-03-01</td>\n",
       "      <td>132772</td>\n",
       "      <td>26.134</td>\n",
       "      <td>134.786780</td>\n",
       "    </tr>\n",
       "    <tr>\n",
       "      <th>219673</th>\n",
       "      <td>2016-03-01</td>\n",
       "      <td>138490</td>\n",
       "      <td>21.377</td>\n",
       "      <td>134.940835</td>\n",
       "    </tr>\n",
       "    <tr>\n",
       "      <th>...</th>\n",
       "      <td>...</td>\n",
       "      <td>...</td>\n",
       "      <td>...</td>\n",
       "      <td>...</td>\n",
       "    </tr>\n",
       "    <tr>\n",
       "      <th>219884</th>\n",
       "      <td>2016-03-01</td>\n",
       "      <td>221144</td>\n",
       "      <td>32.446</td>\n",
       "      <td>176.773126</td>\n",
       "    </tr>\n",
       "    <tr>\n",
       "      <th>219891</th>\n",
       "      <td>2016-03-01</td>\n",
       "      <td>223139</td>\n",
       "      <td>0.000</td>\n",
       "      <td>203.716729</td>\n",
       "    </tr>\n",
       "    <tr>\n",
       "      <th>219900</th>\n",
       "      <td>2016-03-01</td>\n",
       "      <td>226537</td>\n",
       "      <td>0.000</td>\n",
       "      <td>100.806374</td>\n",
       "    </tr>\n",
       "    <tr>\n",
       "      <th>219917</th>\n",
       "      <td>2016-03-01</td>\n",
       "      <td>230794</td>\n",
       "      <td>82.247</td>\n",
       "      <td>337.544222</td>\n",
       "    </tr>\n",
       "    <tr>\n",
       "      <th>219931</th>\n",
       "      <td>2016-03-01</td>\n",
       "      <td>240563</td>\n",
       "      <td>23.561</td>\n",
       "      <td>164.483302</td>\n",
       "    </tr>\n",
       "    <tr>\n",
       "      <th>219969</th>\n",
       "      <td>2016-03-01</td>\n",
       "      <td>284507</td>\n",
       "      <td>48.374</td>\n",
       "      <td>178.136850</td>\n",
       "    </tr>\n",
       "    <tr>\n",
       "      <th>219989</th>\n",
       "      <td>2016-03-01</td>\n",
       "      <td>294084</td>\n",
       "      <td>0.000</td>\n",
       "      <td>109.617577</td>\n",
       "    </tr>\n",
       "    <tr>\n",
       "      <th>220001</th>\n",
       "      <td>2016-03-01</td>\n",
       "      <td>311894</td>\n",
       "      <td>34.897</td>\n",
       "      <td>167.644530</td>\n",
       "    </tr>\n",
       "    <tr>\n",
       "      <th>220005</th>\n",
       "      <td>2016-03-01</td>\n",
       "      <td>314158</td>\n",
       "      <td>48.589</td>\n",
       "      <td>156.257860</td>\n",
       "    </tr>\n",
       "    <tr>\n",
       "      <th>220009</th>\n",
       "      <td>2016-03-01</td>\n",
       "      <td>317284</td>\n",
       "      <td>0.000</td>\n",
       "      <td>104.126458</td>\n",
       "    </tr>\n",
       "    <tr>\n",
       "      <th>220011</th>\n",
       "      <td>2016-03-01</td>\n",
       "      <td>319066</td>\n",
       "      <td>0.000</td>\n",
       "      <td>141.430141</td>\n",
       "    </tr>\n",
       "    <tr>\n",
       "      <th>220018</th>\n",
       "      <td>2016-03-01</td>\n",
       "      <td>325006</td>\n",
       "      <td>0.000</td>\n",
       "      <td>140.157388</td>\n",
       "    </tr>\n",
       "    <tr>\n",
       "      <th>220041</th>\n",
       "      <td>2016-03-01</td>\n",
       "      <td>348004</td>\n",
       "      <td>69.923</td>\n",
       "      <td>356.991201</td>\n",
       "    </tr>\n",
       "    <tr>\n",
       "      <th>220071</th>\n",
       "      <td>2016-03-01</td>\n",
       "      <td>388729</td>\n",
       "      <td>37.208</td>\n",
       "      <td>121.673558</td>\n",
       "    </tr>\n",
       "    <tr>\n",
       "      <th>220072</th>\n",
       "      <td>2016-03-01</td>\n",
       "      <td>389448</td>\n",
       "      <td>54.553</td>\n",
       "      <td>105.845456</td>\n",
       "    </tr>\n",
       "    <tr>\n",
       "      <th>220073</th>\n",
       "      <td>2016-03-01</td>\n",
       "      <td>391436</td>\n",
       "      <td>0.000</td>\n",
       "      <td>123.697163</td>\n",
       "    </tr>\n",
       "    <tr>\n",
       "      <th>220074</th>\n",
       "      <td>2016-03-01</td>\n",
       "      <td>391891</td>\n",
       "      <td>0.000</td>\n",
       "      <td>130.610893</td>\n",
       "    </tr>\n",
       "    <tr>\n",
       "      <th>220078</th>\n",
       "      <td>2016-03-01</td>\n",
       "      <td>399135</td>\n",
       "      <td>37.939</td>\n",
       "      <td>226.166922</td>\n",
       "    </tr>\n",
       "    <tr>\n",
       "      <th>220085</th>\n",
       "      <td>2016-03-01</td>\n",
       "      <td>412057</td>\n",
       "      <td>22.488</td>\n",
       "      <td>253.152461</td>\n",
       "    </tr>\n",
       "    <tr>\n",
       "      <th>220087</th>\n",
       "      <td>2016-03-01</td>\n",
       "      <td>417324</td>\n",
       "      <td>0.000</td>\n",
       "      <td>102.167954</td>\n",
       "    </tr>\n",
       "    <tr>\n",
       "      <th>220089</th>\n",
       "      <td>2016-03-01</td>\n",
       "      <td>420609</td>\n",
       "      <td>0.000</td>\n",
       "      <td>101.366027</td>\n",
       "    </tr>\n",
       "    <tr>\n",
       "      <th>220091</th>\n",
       "      <td>2016-03-01</td>\n",
       "      <td>423196</td>\n",
       "      <td>30.966</td>\n",
       "      <td>123.025770</td>\n",
       "    </tr>\n",
       "    <tr>\n",
       "      <th>220093</th>\n",
       "      <td>2016-03-01</td>\n",
       "      <td>426073</td>\n",
       "      <td>0.000</td>\n",
       "      <td>196.355489</td>\n",
       "    </tr>\n",
       "    <tr>\n",
       "      <th>220095</th>\n",
       "      <td>2016-03-01</td>\n",
       "      <td>426191</td>\n",
       "      <td>29.231</td>\n",
       "      <td>199.891152</td>\n",
       "    </tr>\n",
       "    <tr>\n",
       "      <th>220097</th>\n",
       "      <td>2016-03-01</td>\n",
       "      <td>427079</td>\n",
       "      <td>28.949</td>\n",
       "      <td>125.820503</td>\n",
       "    </tr>\n",
       "    <tr>\n",
       "      <th>220112</th>\n",
       "      <td>2016-03-01</td>\n",
       "      <td>443438</td>\n",
       "      <td>50.441</td>\n",
       "      <td>251.771252</td>\n",
       "    </tr>\n",
       "    <tr>\n",
       "      <th>220114</th>\n",
       "      <td>2016-03-01</td>\n",
       "      <td>447884</td>\n",
       "      <td>0.000</td>\n",
       "      <td>122.425912</td>\n",
       "    </tr>\n",
       "    <tr>\n",
       "      <th>220125</th>\n",
       "      <td>2016-03-01</td>\n",
       "      <td>471825</td>\n",
       "      <td>0.000</td>\n",
       "      <td>129.499895</td>\n",
       "    </tr>\n",
       "    <tr>\n",
       "      <th>220129</th>\n",
       "      <td>2016-03-01</td>\n",
       "      <td>486249</td>\n",
       "      <td>50.367</td>\n",
       "      <td>181.853516</td>\n",
       "    </tr>\n",
       "    <tr>\n",
       "      <th>220136</th>\n",
       "      <td>2016-03-01</td>\n",
       "      <td>507128</td>\n",
       "      <td>38.138</td>\n",
       "      <td>102.918009</td>\n",
       "    </tr>\n",
       "  </tbody>\n",
       "</table>\n",
       "<p>69 rows × 4 columns</p>\n",
       "</div>"
      ],
      "text/plain": [
       "        replydate  doc_id     DDS         CDS\n",
       "219256 2016-03-01    5876  75.421  182.498256\n",
       "219277 2016-03-01    8999   0.000  154.581639\n",
       "219300 2016-03-01   13280  66.814  206.838796\n",
       "219326 2016-03-01   17720  49.996  121.838632\n",
       "219327 2016-03-01   17749  60.696  382.108650\n",
       "219345 2016-03-01   20451  44.478  134.928490\n",
       "219347 2016-03-01   21133  16.330  121.388173\n",
       "219359 2016-03-01   23264  30.994  121.763175\n",
       "219376 2016-03-01   26096  51.193  191.721461\n",
       "219377 2016-03-01   26403   0.000  167.037957\n",
       "219415 2016-03-01   33062  45.674  215.465232\n",
       "219465 2016-03-01   44958   0.000  136.565326\n",
       "219478 2016-03-01   47144  29.692  261.746284\n",
       "219484 2016-03-01   47777  25.202  100.210667\n",
       "219535 2016-03-01   82051   0.000  207.408535\n",
       "219544 2016-03-01   84460  16.938  193.358444\n",
       "219584 2016-03-01   94938  34.841  119.455893\n",
       "219595 2016-03-01   96173   0.000  116.797301\n",
       "219597 2016-03-01   96483   0.000  174.566816\n",
       "219599 2016-03-01   96831   0.000  167.925658\n",
       "219602 2016-03-01   98319  62.129  134.471289\n",
       "219610 2016-03-01  105439   0.000  100.410256\n",
       "219621 2016-03-01  112492  50.524  159.898926\n",
       "219637 2016-03-01  118893  20.970  113.172538\n",
       "219662 2016-03-01  129796  12.180  192.460384\n",
       "219663 2016-03-01  130160  57.783  166.914016\n",
       "219668 2016-03-01  131069  59.965  134.582623\n",
       "219669 2016-03-01  131142  37.213  421.667976\n",
       "219671 2016-03-01  132772  26.134  134.786780\n",
       "219673 2016-03-01  138490  21.377  134.940835\n",
       "...           ...     ...     ...         ...\n",
       "219884 2016-03-01  221144  32.446  176.773126\n",
       "219891 2016-03-01  223139   0.000  203.716729\n",
       "219900 2016-03-01  226537   0.000  100.806374\n",
       "219917 2016-03-01  230794  82.247  337.544222\n",
       "219931 2016-03-01  240563  23.561  164.483302\n",
       "219969 2016-03-01  284507  48.374  178.136850\n",
       "219989 2016-03-01  294084   0.000  109.617577\n",
       "220001 2016-03-01  311894  34.897  167.644530\n",
       "220005 2016-03-01  314158  48.589  156.257860\n",
       "220009 2016-03-01  317284   0.000  104.126458\n",
       "220011 2016-03-01  319066   0.000  141.430141\n",
       "220018 2016-03-01  325006   0.000  140.157388\n",
       "220041 2016-03-01  348004  69.923  356.991201\n",
       "220071 2016-03-01  388729  37.208  121.673558\n",
       "220072 2016-03-01  389448  54.553  105.845456\n",
       "220073 2016-03-01  391436   0.000  123.697163\n",
       "220074 2016-03-01  391891   0.000  130.610893\n",
       "220078 2016-03-01  399135  37.939  226.166922\n",
       "220085 2016-03-01  412057  22.488  253.152461\n",
       "220087 2016-03-01  417324   0.000  102.167954\n",
       "220089 2016-03-01  420609   0.000  101.366027\n",
       "220091 2016-03-01  423196  30.966  123.025770\n",
       "220093 2016-03-01  426073   0.000  196.355489\n",
       "220095 2016-03-01  426191  29.231  199.891152\n",
       "220097 2016-03-01  427079  28.949  125.820503\n",
       "220112 2016-03-01  443438  50.441  251.771252\n",
       "220114 2016-03-01  447884   0.000  122.425912\n",
       "220125 2016-03-01  471825   0.000  129.499895\n",
       "220129 2016-03-01  486249  50.367  181.853516\n",
       "220136 2016-03-01  507128  38.138  102.918009\n",
       "\n",
       "[69 rows x 4 columns]"
      ]
     },
     "execution_count": 160,
     "metadata": {},
     "output_type": "execute_result"
    }
   ],
   "source": [
    "stack[(stack['CDS'] > 100)  & (stack['replydate'] == '2016-03-01')]"
   ]
  },
  {
   "cell_type": "code",
   "execution_count": 78,
   "metadata": {
    "collapsed": false
   },
   "outputs": [],
   "source": [
    "# pd.rolling_apply(doc_x['DDS'].values, 30, lambda x: sum(decays)*np.average(x, weights=decays))"
   ]
  },
  {
   "cell_type": "code",
   "execution_count": 70,
   "metadata": {
    "collapsed": false
   },
   "outputs": [],
   "source": [
    "# doc_x['CDS'] = pd.rolling_apply(doc_x['DDS'].values, 1, lambda x: sum(decays)*np.average(x, weights=decays))"
   ]
  },
  {
   "cell_type": "code",
   "execution_count": 30,
   "metadata": {
    "collapsed": false
   },
   "outputs": [
    {
     "data": {
      "text/plain": [
       "array([ 0.87055056,  0.75785828,  0.65975396,  0.57434918,  0.5       ,\n",
       "        0.43527528,  0.37892914,  0.32987698,  0.28717459,  0.25      ,\n",
       "        0.21763764,  0.18946457,  0.16493849,  0.14358729,  0.125     ,\n",
       "        0.10881882,  0.09473228,  0.08246924,  0.07179365,  0.0625    ,\n",
       "        0.05440941,  0.04736614,  0.04123462,  0.03589682,  0.03125   ,\n",
       "        0.0272047 ,  0.02368307,  0.02061731,  0.01794841,  0.015625  ])"
      ]
     },
     "execution_count": 30,
     "metadata": {},
     "output_type": "execute_result"
    }
   ],
   "source": [
    "# decay[\"Decay Factor\"].values"
   ]
  },
  {
   "cell_type": "code",
   "execution_count": 88,
   "metadata": {
    "collapsed": false
   },
   "outputs": [],
   "source": [
    "# pd.rolling_window(stack_doc['DDS'], window=decay[\"Decay Factor\"].values)\n",
    "# stack_doc['CDS']= stack_doc['reply_date'].map(lambda x: x.shift(1) )"
   ]
  },
  {
   "cell_type": "code",
   "execution_count": 48,
   "metadata": {
    "collapsed": false
   },
   "outputs": [],
   "source": [
    "detail = pd.read_csv('DDS_detailed.csv')"
   ]
  },
  {
   "cell_type": "code",
   "execution_count": 51,
   "metadata": {
    "collapsed": false
   },
   "outputs": [
    {
     "data": {
      "text/html": [
       "<div>\n",
       "<table border=\"1\" class=\"dataframe\">\n",
       "  <thead>\n",
       "    <tr style=\"text-align: right;\">\n",
       "      <th></th>\n",
       "      <th>Normalized replies</th>\n",
       "      <th>Normalized char_count_median</th>\n",
       "      <th>Normalized response_median</th>\n",
       "      <th>Normalized Sum of likes</th>\n",
       "      <th>DDS</th>\n",
       "    </tr>\n",
       "  </thead>\n",
       "  <tbody>\n",
       "    <tr>\n",
       "      <th>Normalized replies</th>\n",
       "      <td>1.000000</td>\n",
       "      <td>0.339613</td>\n",
       "      <td>0.130347</td>\n",
       "      <td>0.025431</td>\n",
       "      <td>0.350230</td>\n",
       "    </tr>\n",
       "    <tr>\n",
       "      <th>Normalized char_count_median</th>\n",
       "      <td>0.339613</td>\n",
       "      <td>1.000000</td>\n",
       "      <td>0.049971</td>\n",
       "      <td>-0.029528</td>\n",
       "      <td>0.541888</td>\n",
       "    </tr>\n",
       "    <tr>\n",
       "      <th>Normalized response_median</th>\n",
       "      <td>0.130347</td>\n",
       "      <td>0.049971</td>\n",
       "      <td>1.000000</td>\n",
       "      <td>0.040620</td>\n",
       "      <td>0.328368</td>\n",
       "    </tr>\n",
       "    <tr>\n",
       "      <th>Normalized Sum of likes</th>\n",
       "      <td>0.025431</td>\n",
       "      <td>-0.029528</td>\n",
       "      <td>0.040620</td>\n",
       "      <td>1.000000</td>\n",
       "      <td>0.771527</td>\n",
       "    </tr>\n",
       "    <tr>\n",
       "      <th>DDS</th>\n",
       "      <td>0.350230</td>\n",
       "      <td>0.541888</td>\n",
       "      <td>0.328368</td>\n",
       "      <td>0.771527</td>\n",
       "      <td>1.000000</td>\n",
       "    </tr>\n",
       "  </tbody>\n",
       "</table>\n",
       "</div>"
      ],
      "text/plain": [
       "                              Normalized replies  \\\n",
       "Normalized replies                      1.000000   \n",
       "Normalized char_count_median            0.339613   \n",
       "Normalized response_median              0.130347   \n",
       "Normalized Sum of likes                 0.025431   \n",
       "DDS                                     0.350230   \n",
       "\n",
       "                              Normalized char_count_median  \\\n",
       "Normalized replies                                0.339613   \n",
       "Normalized char_count_median                      1.000000   \n",
       "Normalized response_median                        0.049971   \n",
       "Normalized Sum of likes                          -0.029528   \n",
       "DDS                                               0.541888   \n",
       "\n",
       "                              Normalized response_median  \\\n",
       "Normalized replies                              0.130347   \n",
       "Normalized char_count_median                    0.049971   \n",
       "Normalized response_median                      1.000000   \n",
       "Normalized Sum of likes                         0.040620   \n",
       "DDS                                             0.328368   \n",
       "\n",
       "                              Normalized Sum of likes       DDS  \n",
       "Normalized replies                           0.025431  0.350230  \n",
       "Normalized char_count_median                -0.029528  0.541888  \n",
       "Normalized response_median                   0.040620  0.328368  \n",
       "Normalized Sum of likes                      1.000000  0.771527  \n",
       "DDS                                          0.771527  1.000000  "
      ]
     },
     "execution_count": 51,
     "metadata": {},
     "output_type": "execute_result"
    }
   ],
   "source": [
    "detail[['Normalized replies','Normalized char_count_median','Normalized response_median','Normalized Sum of likes','DDS']].corr()"
   ]
  },
  {
   "cell_type": "code",
   "execution_count": 52,
   "metadata": {
    "collapsed": false
   },
   "outputs": [
    {
     "data": {
      "text/plain": [
       "<matplotlib.axes._subplots.AxesSubplot at 0x107f62a10>"
      ]
     },
     "execution_count": 52,
     "metadata": {},
     "output_type": "execute_result"
    },
    {
     "data": {
      "image/png": "[encoded data removed]",
      "text/plain": [
       "<matplotlib.figure.Figure at 0x107f5ba50>"
      ]
     },
     "metadata": {},
     "output_type": "display_data"
    }
   ],
   "source": [
    "detail[[\"DDS\", \"Normalized replies\"]].boxplot(by=\"DDS\")"
   ]
  },
  {
   "cell_type": "code",
   "execution_count": null,
   "metadata": {
    "collapsed": true
   },
   "outputs": [],
   "source": []
  },
  {
   "cell_type": "code",
   "execution_count": 54,
   "metadata": {
    "collapsed": false
   },
   "outputs": [
    {
     "data": {
      "text/plain": [
       "<matplotlib.collections.PathCollection at 0x19423e0d0>"
      ]
     },
     "execution_count": 54,
     "metadata": {},
     "output_type": "execute_result"
    },
    {
     "data": {
      "image/png": "[encoded data removed]",
      "text/plain": [
       "<matplotlib.figure.Figure at 0x22e88fcd0>"
      ]
     },
     "metadata": {},
     "output_type": "display_data"
    }
   ],
   "source": [
    "plt.scatter(detail[\"DDS\"], detail[\"Normalized response_median\"])"
   ]
  },
  {
   "cell_type": "code",
   "execution_count": 69,
   "metadata": {
    "collapsed": false
   },
   "outputs": [],
   "source": []
  }
 ],
 "metadata": {
  "kernelspec": {
   "display_name": "Python 2",
   "language": "python",
   "name": "python2"
  },
  "language_info": {
   "codemirror_mode": {
    "name": "ipython",
    "version": 2
   },
   "file_extension": ".py",
   "mimetype": "text/x-python",
   "name": "python",
   "nbconvert_exporter": "python",
   "pygments_lexer": "ipython2",
   "version": "2.7.10"
  }
 },
 "nbformat": 4,
 "nbformat_minor": 0
}
