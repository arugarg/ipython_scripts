{
 "cells": [
  {
   "cell_type": "code",
   "execution_count": 2,
   "metadata": {
    "collapsed": true
   },
   "outputs": [],
   "source": [
    "%matplotlib inline\n",
    "import numpy as np\n",
    "import re\n",
    "import pandas as pd\n",
    "import matplotlib.pyplot as plt\n",
    "import math\n",
    "import treelib\n",
    "import pyclust\n"
   ]
  },
  {
   "cell_type": "code",
   "execution_count": 3,
   "metadata": {
    "collapsed": false
   },
   "outputs": [
    {
     "name": "stderr",
     "output_type": "stream",
     "text": [
      "/Library/Frameworks/Python.framework/Versions/2.7/lib/python2.7/site-packages/IPython/kernel/__main__.py:32: SettingWithCopyWarning: \n",
      "A value is trying to be set on a copy of a slice from a DataFrame.\n",
      "Try using .loc[row_indexer,col_indexer] = value instead\n",
      "\n",
      "See the caveats in the documentation: http://pandas.pydata.org/pandas-docs/stable/indexing.html#indexing-view-versus-copy\n",
      "/Library/Frameworks/Python.framework/Versions/2.7/lib/python2.7/site-packages/IPython/kernel/__main__.py:33: FutureWarning: sort(columns=....) is deprecated, use sort_values(by=.....)\n",
      "/Library/Frameworks/Python.framework/Versions/2.7/lib/python2.7/site-packages/IPython/kernel/__main__.py:48: FutureWarning: pd.rolling_apply is deprecated for ndarrays and will be removed in a future version\n"
     ]
    },
    {
     "name": "stdout",
     "output_type": "stream",
     "text": [
      "        replydate    doc_id        DDS         CDS\n",
      "410444 2016-04-28  381548.0   0.000000    0.000000\n",
      "410445 2016-04-28  381869.0   0.000000  104.647844\n",
      "410446 2016-04-28  381911.0   0.000000    0.000000\n",
      "410447 2016-04-28  383786.0   0.000000    0.000000\n",
      "410448 2016-04-28  384787.0   0.000000   25.540816\n",
      "410449 2016-04-28  384913.0   0.000000    0.000000\n",
      "410450 2016-04-28  385220.0   0.000000    0.000000\n",
      "410451 2016-04-28  386268.0   0.000000    0.000000\n",
      "410452 2016-04-28  387746.0   0.000000    0.000000\n",
      "410453 2016-04-28  388607.0   0.000000   13.958816\n",
      "410454 2016-04-28  388729.0   0.000000    8.846799\n",
      "410455 2016-04-28  389448.0   0.000000    0.000000\n",
      "410456 2016-04-28  391436.0   0.000000    0.000000\n",
      "410457 2016-04-28  391891.0   0.000000   19.446193\n",
      "410458 2016-04-28  393008.0   0.000000    0.000000\n",
      "410459 2016-04-28  393951.0   0.000000   19.233859\n",
      "410460 2016-04-28  394112.0   0.000000    0.000000\n",
      "410461 2016-04-28  395930.0   0.000000    1.525245\n",
      "410462 2016-04-28  396658.0   0.000000    0.000000\n",
      "410463 2016-04-28  399135.0  61.260016  377.435472\n",
      "410464 2016-04-28  402968.0   0.000000    0.000000\n",
      "410465 2016-04-28  406120.0   0.000000    0.000000\n",
      "410466 2016-04-28  407067.0   0.000000    0.000000\n",
      "410467 2016-04-28  407423.0   0.000000    0.292683\n",
      "410468 2016-04-28  408061.0   0.000000    0.000000\n",
      "410469 2016-04-28  409026.0   0.000000    6.565801\n",
      "410470 2016-04-28  409544.0   0.000000    0.000000\n",
      "410471 2016-04-28  409786.0   0.000000    1.901032\n",
      "410472 2016-04-28  410865.0   0.000000    0.000000\n",
      "410473 2016-04-28  412057.0  13.139188  163.572621\n",
      "...           ...       ...        ...         ...\n",
      "410614 2016-04-28  599215.0   0.000000   14.034469\n",
      "410615 2016-04-28  602835.0  58.941891  183.136925\n",
      "410616 2016-04-28  609161.0   0.000000  237.616155\n",
      "410617 2016-04-28  609820.0   0.000000  141.969800\n",
      "410618 2016-04-28  610340.0   0.000000   34.723691\n",
      "410619 2016-04-28  611741.0   0.000000  144.946839\n",
      "410620 2016-04-28  613753.0  24.620000  183.426991\n",
      "410621 2016-04-28  615068.0   0.000000  199.476565\n",
      "410622 2016-04-28  615080.0  32.136000  151.500093\n",
      "410623 2016-04-28  615683.0   0.000000    8.214753\n",
      "410624 2016-04-28  619643.0   0.000000    3.899474\n",
      "410625 2016-04-28  619980.0   0.000000   51.242447\n",
      "410626 2016-04-28  620570.0   0.000000   33.440610\n",
      "410627 2016-04-28  624193.0   0.000000   48.101320\n",
      "410628 2016-04-28  625876.0   0.000000   11.158114\n",
      "410629 2016-04-28  632436.0   8.621126  264.793164\n",
      "410630 2016-04-28  636425.0   0.000000    6.580647\n",
      "410631 2016-04-28  638362.0  51.504538   54.112172\n",
      "410632 2016-04-28  640670.0   0.000000   15.242515\n",
      "410633 2016-04-28  641920.0   0.000000    4.082270\n",
      "410634 2016-04-28  645224.0   0.000000   90.312228\n",
      "410635 2016-04-28  648087.0  47.044813   60.895041\n",
      "410636 2016-04-28  650513.0   0.000000   50.133584\n",
      "410637 2016-04-28  652541.0   0.000000   26.642833\n",
      "410638 2016-04-28  654199.0   0.000000  104.720940\n",
      "410639 2016-04-28  657296.0   0.000000  128.600003\n",
      "410640 2016-04-28  664813.0   0.000000   89.983515\n",
      "410641 2016-04-28  671913.0   0.000000  127.610697\n",
      "410642 2016-04-28  673144.0   0.000000   20.914453\n",
      "410643 2016-04-28  675984.0  70.056600   60.987843\n",
      "\n",
      "[200 rows x 4 columns]\n"
     ]
    }
   ],
   "source": [
    "table1 = pd.read_csv('File11.csv')\n",
    "\n",
    "table2 = pd.read_csv('File22.csv')\n",
    "\n",
    "\n",
    "frames = [table1, table2]\n",
    "result = pd.merge(table1, table2, how = 'outer', on=['doc_id', 'replydate'])\n",
    "# result.head()\n",
    "\n",
    "result['response_median_hrs'] = result['response_median']/60\n",
    "result['likes'] = result['likes'].fillna(0)\n",
    "\n",
    "\n",
    "result['normalised_replies'] = result['replies'].map(lambda x: (math.log(x + 2.44,9.44))*100 if ((x >= 1) and (x <= 7)) else\n",
    "100 if x > 7 else 0)\n",
    "\n",
    "result['normalised_char_count'] = result['char_count_median'].map(lambda x:  (0.00001*(x**2)+0.0002*x+0.0009)* 100 if  ((x >= 0) and (x < 125)) else\n",
    "(-0.000005*(x**2)+0.0049*x-0.2885)*100 if ((x >= 125) and (x <= 500)) else 100 if x > 500 else 0)\n",
    "\n",
    "\n",
    "result['normalised_response'] = result['response_median_hrs'].map(lambda x: (0.0239*(x**2)-0.2234*x+0.7869)*100 if ((x >= 0) and (x < 5)) else\n",
    "(0.001*(x**2)-0.0316*x+0.3636)*100 if ((x >= 5) and (x < 15)) else (0.00009*(x**2)-0.0069*x+0.1855)*100 if ((x>= 15) and (x<40)) else 0)\n",
    "\n",
    "result['normalised_likes'] = result['likes'].map(lambda x: (0.0043*(x**3)-0.0683*(x**2)+0.3627*x +0.3168)*100 if ((x >= 1) and (x < 8)) else 0 if x ==0 else 100)\n",
    "\n",
    "result['DDS'] = 0.4*result['normalised_likes'] + 0.3*result['normalised_char_count'] + 0.2*result['normalised_response'] + 0.1*result['normalised_replies']\n",
    "\n",
    "table = result[['doc_id','replydate','DDS']]\n",
    "\n",
    "decays = pd.Series([0.017948,0.020617,0.020617,0.023683,0.027205,0.031250,0.035897,0.041235,0.047366,0.054409,0.062500,0.071794,0.082469,0.094732,0.108819,0.125000,0.143587,0.164938,0.189465,0.217638,0.250000,0.287175,0.329877,0.378929,0.435275,0.500000,0.574349,0.659754,0.757858,0.870551])\n",
    "\n",
    "table['replydate'] = pd.to_datetime(table['replydate'])\n",
    "table = table.sort(['replydate'], ascending = True)\n",
    "# min_date = table['replydate'].min()\n",
    "# max_date = table['replydate'].max()\n",
    "# print min_date, max_date\n",
    "# print table['DDS'].min()\n",
    "\n",
    "df =pd.pivot_table(table , values = ['DDS'],index = ['replydate'], columns=['doc_id'], fill_value = '0')\n",
    "\n",
    "stack = df.stack()\n",
    "stack['DDS'] = pd.to_numeric(stack['DDS'])\n",
    "stack.reset_index(inplace=True)\n",
    "stack_doc = stack.groupby('doc_id',sort = True)\n",
    "stack[\"CDS\"] = 0\n",
    "for x, y in stack_doc.groups.iteritems():\n",
    "    doc_x = stack.ix[y]\n",
    "    stack.loc[y, \"CDS\"] = pd.rolling_apply(doc_x['DDS'].values, 30, lambda x: sum(decays)*np.average(x, weights=decays))\n",
    "stack['CDS'] = stack['CDS'].fillna(0)\n",
    "print stack.tail(n = 200)"
   ]
  },
  {
   "cell_type": "code",
   "execution_count": 156,
   "metadata": {
    "collapsed": false
   },
   "outputs": [
    {
     "data": {
      "text/html": [
       "<div>\n",
       "<table border=\"1\" class=\"dataframe\">\n",
       "  <thead>\n",
       "    <tr style=\"text-align: right;\">\n",
       "      <th></th>\n",
       "      <th>replydate</th>\n",
       "      <th>doc_id</th>\n",
       "      <th>DDS</th>\n",
       "      <th>CDS</th>\n",
       "    </tr>\n",
       "  </thead>\n",
       "  <tbody>\n",
       "    <tr>\n",
       "      <th>654</th>\n",
       "      <td>2015-06-30</td>\n",
       "      <td>136109.0</td>\n",
       "      <td>0.000000</td>\n",
       "      <td>0.000000</td>\n",
       "    </tr>\n",
       "    <tr>\n",
       "      <th>2032</th>\n",
       "      <td>2015-07-01</td>\n",
       "      <td>136109.0</td>\n",
       "      <td>0.000000</td>\n",
       "      <td>0.000000</td>\n",
       "    </tr>\n",
       "    <tr>\n",
       "      <th>3410</th>\n",
       "      <td>2015-07-02</td>\n",
       "      <td>136109.0</td>\n",
       "      <td>0.000000</td>\n",
       "      <td>0.000000</td>\n",
       "    </tr>\n",
       "    <tr>\n",
       "      <th>4788</th>\n",
       "      <td>2015-07-03</td>\n",
       "      <td>136109.0</td>\n",
       "      <td>0.000000</td>\n",
       "      <td>0.000000</td>\n",
       "    </tr>\n",
       "    <tr>\n",
       "      <th>6166</th>\n",
       "      <td>2015-07-04</td>\n",
       "      <td>136109.0</td>\n",
       "      <td>0.000000</td>\n",
       "      <td>0.000000</td>\n",
       "    </tr>\n",
       "    <tr>\n",
       "      <th>7544</th>\n",
       "      <td>2015-07-06</td>\n",
       "      <td>136109.0</td>\n",
       "      <td>0.000000</td>\n",
       "      <td>0.000000</td>\n",
       "    </tr>\n",
       "    <tr>\n",
       "      <th>8922</th>\n",
       "      <td>2015-07-07</td>\n",
       "      <td>136109.0</td>\n",
       "      <td>0.000000</td>\n",
       "      <td>0.000000</td>\n",
       "    </tr>\n",
       "    <tr>\n",
       "      <th>10300</th>\n",
       "      <td>2015-07-08</td>\n",
       "      <td>136109.0</td>\n",
       "      <td>0.000000</td>\n",
       "      <td>0.000000</td>\n",
       "    </tr>\n",
       "    <tr>\n",
       "      <th>11678</th>\n",
       "      <td>2015-07-09</td>\n",
       "      <td>136109.0</td>\n",
       "      <td>0.000000</td>\n",
       "      <td>0.000000</td>\n",
       "    </tr>\n",
       "    <tr>\n",
       "      <th>13056</th>\n",
       "      <td>2015-07-10</td>\n",
       "      <td>136109.0</td>\n",
       "      <td>0.000000</td>\n",
       "      <td>0.000000</td>\n",
       "    </tr>\n",
       "    <tr>\n",
       "      <th>14434</th>\n",
       "      <td>2015-07-11</td>\n",
       "      <td>136109.0</td>\n",
       "      <td>0.000000</td>\n",
       "      <td>0.000000</td>\n",
       "    </tr>\n",
       "    <tr>\n",
       "      <th>15812</th>\n",
       "      <td>2015-07-13</td>\n",
       "      <td>136109.0</td>\n",
       "      <td>0.000000</td>\n",
       "      <td>0.000000</td>\n",
       "    </tr>\n",
       "    <tr>\n",
       "      <th>17190</th>\n",
       "      <td>2015-07-14</td>\n",
       "      <td>136109.0</td>\n",
       "      <td>0.000000</td>\n",
       "      <td>0.000000</td>\n",
       "    </tr>\n",
       "    <tr>\n",
       "      <th>18568</th>\n",
       "      <td>2015-07-15</td>\n",
       "      <td>136109.0</td>\n",
       "      <td>0.000000</td>\n",
       "      <td>0.000000</td>\n",
       "    </tr>\n",
       "    <tr>\n",
       "      <th>19946</th>\n",
       "      <td>2015-07-16</td>\n",
       "      <td>136109.0</td>\n",
       "      <td>0.000000</td>\n",
       "      <td>0.000000</td>\n",
       "    </tr>\n",
       "    <tr>\n",
       "      <th>21324</th>\n",
       "      <td>2015-07-17</td>\n",
       "      <td>136109.0</td>\n",
       "      <td>0.000000</td>\n",
       "      <td>0.000000</td>\n",
       "    </tr>\n",
       "    <tr>\n",
       "      <th>22702</th>\n",
       "      <td>2015-07-18</td>\n",
       "      <td>136109.0</td>\n",
       "      <td>0.000000</td>\n",
       "      <td>0.000000</td>\n",
       "    </tr>\n",
       "    <tr>\n",
       "      <th>24080</th>\n",
       "      <td>2015-07-21</td>\n",
       "      <td>136109.0</td>\n",
       "      <td>0.000000</td>\n",
       "      <td>0.000000</td>\n",
       "    </tr>\n",
       "    <tr>\n",
       "      <th>25458</th>\n",
       "      <td>2015-07-22</td>\n",
       "      <td>136109.0</td>\n",
       "      <td>0.000000</td>\n",
       "      <td>0.000000</td>\n",
       "    </tr>\n",
       "    <tr>\n",
       "      <th>26836</th>\n",
       "      <td>2015-07-23</td>\n",
       "      <td>136109.0</td>\n",
       "      <td>0.000000</td>\n",
       "      <td>0.000000</td>\n",
       "    </tr>\n",
       "    <tr>\n",
       "      <th>28214</th>\n",
       "      <td>2015-07-24</td>\n",
       "      <td>136109.0</td>\n",
       "      <td>0.000000</td>\n",
       "      <td>0.000000</td>\n",
       "    </tr>\n",
       "    <tr>\n",
       "      <th>29592</th>\n",
       "      <td>2015-07-27</td>\n",
       "      <td>136109.0</td>\n",
       "      <td>0.000000</td>\n",
       "      <td>0.000000</td>\n",
       "    </tr>\n",
       "    <tr>\n",
       "      <th>30970</th>\n",
       "      <td>2015-07-28</td>\n",
       "      <td>136109.0</td>\n",
       "      <td>0.000000</td>\n",
       "      <td>0.000000</td>\n",
       "    </tr>\n",
       "    <tr>\n",
       "      <th>32348</th>\n",
       "      <td>2015-07-29</td>\n",
       "      <td>136109.0</td>\n",
       "      <td>0.000000</td>\n",
       "      <td>0.000000</td>\n",
       "    </tr>\n",
       "    <tr>\n",
       "      <th>33726</th>\n",
       "      <td>2015-07-30</td>\n",
       "      <td>136109.0</td>\n",
       "      <td>0.000000</td>\n",
       "      <td>0.000000</td>\n",
       "    </tr>\n",
       "    <tr>\n",
       "      <th>35104</th>\n",
       "      <td>2015-07-31</td>\n",
       "      <td>136109.0</td>\n",
       "      <td>0.000000</td>\n",
       "      <td>0.000000</td>\n",
       "    </tr>\n",
       "    <tr>\n",
       "      <th>36482</th>\n",
       "      <td>2015-08-01</td>\n",
       "      <td>136109.0</td>\n",
       "      <td>0.000000</td>\n",
       "      <td>0.000000</td>\n",
       "    </tr>\n",
       "    <tr>\n",
       "      <th>37860</th>\n",
       "      <td>2015-08-02</td>\n",
       "      <td>136109.0</td>\n",
       "      <td>0.000000</td>\n",
       "      <td>0.000000</td>\n",
       "    </tr>\n",
       "    <tr>\n",
       "      <th>39238</th>\n",
       "      <td>2015-08-03</td>\n",
       "      <td>136109.0</td>\n",
       "      <td>0.000000</td>\n",
       "      <td>0.000000</td>\n",
       "    </tr>\n",
       "    <tr>\n",
       "      <th>40616</th>\n",
       "      <td>2015-08-04</td>\n",
       "      <td>136109.0</td>\n",
       "      <td>0.000000</td>\n",
       "      <td>0.000000</td>\n",
       "    </tr>\n",
       "    <tr>\n",
       "      <th>...</th>\n",
       "      <td>...</td>\n",
       "      <td>...</td>\n",
       "      <td>...</td>\n",
       "      <td>...</td>\n",
       "    </tr>\n",
       "    <tr>\n",
       "      <th>369958</th>\n",
       "      <td>2016-03-30</td>\n",
       "      <td>136109.0</td>\n",
       "      <td>51.794581</td>\n",
       "      <td>45.512270</td>\n",
       "    </tr>\n",
       "    <tr>\n",
       "      <th>371336</th>\n",
       "      <td>2016-03-31</td>\n",
       "      <td>136109.0</td>\n",
       "      <td>0.000000</td>\n",
       "      <td>39.620703</td>\n",
       "    </tr>\n",
       "    <tr>\n",
       "      <th>372714</th>\n",
       "      <td>2016-04-01</td>\n",
       "      <td>136109.0</td>\n",
       "      <td>0.000000</td>\n",
       "      <td>34.491839</td>\n",
       "    </tr>\n",
       "    <tr>\n",
       "      <th>374092</th>\n",
       "      <td>2016-04-02</td>\n",
       "      <td>136109.0</td>\n",
       "      <td>0.000000</td>\n",
       "      <td>30.026877</td>\n",
       "    </tr>\n",
       "    <tr>\n",
       "      <th>375470</th>\n",
       "      <td>2016-04-03</td>\n",
       "      <td>136109.0</td>\n",
       "      <td>0.000000</td>\n",
       "      <td>26.139925</td>\n",
       "    </tr>\n",
       "    <tr>\n",
       "      <th>376848</th>\n",
       "      <td>2016-04-04</td>\n",
       "      <td>136109.0</td>\n",
       "      <td>0.000000</td>\n",
       "      <td>22.756109</td>\n",
       "    </tr>\n",
       "    <tr>\n",
       "      <th>378226</th>\n",
       "      <td>2016-04-05</td>\n",
       "      <td>136109.0</td>\n",
       "      <td>0.000000</td>\n",
       "      <td>19.810347</td>\n",
       "    </tr>\n",
       "    <tr>\n",
       "      <th>379604</th>\n",
       "      <td>2016-04-06</td>\n",
       "      <td>136109.0</td>\n",
       "      <td>0.000000</td>\n",
       "      <td>17.269719</td>\n",
       "    </tr>\n",
       "    <tr>\n",
       "      <th>380982</th>\n",
       "      <td>2016-04-07</td>\n",
       "      <td>136109.0</td>\n",
       "      <td>0.000000</td>\n",
       "      <td>15.034183</td>\n",
       "    </tr>\n",
       "    <tr>\n",
       "      <th>382360</th>\n",
       "      <td>2016-04-08</td>\n",
       "      <td>136109.0</td>\n",
       "      <td>0.000000</td>\n",
       "      <td>12.948645</td>\n",
       "    </tr>\n",
       "    <tr>\n",
       "      <th>383738</th>\n",
       "      <td>2016-04-09</td>\n",
       "      <td>136109.0</td>\n",
       "      <td>0.000000</td>\n",
       "      <td>11.272469</td>\n",
       "    </tr>\n",
       "    <tr>\n",
       "      <th>385116</th>\n",
       "      <td>2016-04-10</td>\n",
       "      <td>136109.0</td>\n",
       "      <td>0.000000</td>\n",
       "      <td>9.813260</td>\n",
       "    </tr>\n",
       "    <tr>\n",
       "      <th>386494</th>\n",
       "      <td>2016-04-11</td>\n",
       "      <td>136109.0</td>\n",
       "      <td>0.000000</td>\n",
       "      <td>8.542895</td>\n",
       "    </tr>\n",
       "    <tr>\n",
       "      <th>387872</th>\n",
       "      <td>2016-04-12</td>\n",
       "      <td>136109.0</td>\n",
       "      <td>0.000000</td>\n",
       "      <td>7.437028</td>\n",
       "    </tr>\n",
       "    <tr>\n",
       "      <th>389250</th>\n",
       "      <td>2016-04-13</td>\n",
       "      <td>136109.0</td>\n",
       "      <td>0.000000</td>\n",
       "      <td>6.474323</td>\n",
       "    </tr>\n",
       "    <tr>\n",
       "      <th>390628</th>\n",
       "      <td>2016-04-14</td>\n",
       "      <td>136109.0</td>\n",
       "      <td>0.000000</td>\n",
       "      <td>5.636234</td>\n",
       "    </tr>\n",
       "    <tr>\n",
       "      <th>392006</th>\n",
       "      <td>2016-04-15</td>\n",
       "      <td>136109.0</td>\n",
       "      <td>0.000000</td>\n",
       "      <td>4.906604</td>\n",
       "    </tr>\n",
       "    <tr>\n",
       "      <th>393384</th>\n",
       "      <td>2016-04-16</td>\n",
       "      <td>136109.0</td>\n",
       "      <td>0.000000</td>\n",
       "      <td>4.271447</td>\n",
       "    </tr>\n",
       "    <tr>\n",
       "      <th>394762</th>\n",
       "      <td>2016-04-17</td>\n",
       "      <td>136109.0</td>\n",
       "      <td>0.000000</td>\n",
       "      <td>3.718540</td>\n",
       "    </tr>\n",
       "    <tr>\n",
       "      <th>396140</th>\n",
       "      <td>2016-04-18</td>\n",
       "      <td>136109.0</td>\n",
       "      <td>0.000000</td>\n",
       "      <td>3.237161</td>\n",
       "    </tr>\n",
       "    <tr>\n",
       "      <th>397518</th>\n",
       "      <td>2016-04-19</td>\n",
       "      <td>136109.0</td>\n",
       "      <td>0.000000</td>\n",
       "      <td>2.818091</td>\n",
       "    </tr>\n",
       "    <tr>\n",
       "      <th>398896</th>\n",
       "      <td>2016-04-20</td>\n",
       "      <td>136109.0</td>\n",
       "      <td>20.812594</td>\n",
       "      <td>20.571727</td>\n",
       "    </tr>\n",
       "    <tr>\n",
       "      <th>400274</th>\n",
       "      <td>2016-04-21</td>\n",
       "      <td>136109.0</td>\n",
       "      <td>0.000000</td>\n",
       "      <td>17.908741</td>\n",
       "    </tr>\n",
       "    <tr>\n",
       "      <th>401652</th>\n",
       "      <td>2016-04-22</td>\n",
       "      <td>136109.0</td>\n",
       "      <td>0.000000</td>\n",
       "      <td>15.590462</td>\n",
       "    </tr>\n",
       "    <tr>\n",
       "      <th>403030</th>\n",
       "      <td>2016-04-23</td>\n",
       "      <td>136109.0</td>\n",
       "      <td>0.000000</td>\n",
       "      <td>13.572273</td>\n",
       "    </tr>\n",
       "    <tr>\n",
       "      <th>404408</th>\n",
       "      <td>2016-04-24</td>\n",
       "      <td>136109.0</td>\n",
       "      <td>0.000000</td>\n",
       "      <td>11.815369</td>\n",
       "    </tr>\n",
       "    <tr>\n",
       "      <th>405786</th>\n",
       "      <td>2016-04-25</td>\n",
       "      <td>136109.0</td>\n",
       "      <td>0.000000</td>\n",
       "      <td>10.285853</td>\n",
       "    </tr>\n",
       "    <tr>\n",
       "      <th>407164</th>\n",
       "      <td>2016-04-26</td>\n",
       "      <td>136109.0</td>\n",
       "      <td>0.000000</td>\n",
       "      <td>8.954344</td>\n",
       "    </tr>\n",
       "    <tr>\n",
       "      <th>408542</th>\n",
       "      <td>2016-04-27</td>\n",
       "      <td>136109.0</td>\n",
       "      <td>0.000000</td>\n",
       "      <td>7.933445</td>\n",
       "    </tr>\n",
       "    <tr>\n",
       "      <th>409920</th>\n",
       "      <td>2016-04-28</td>\n",
       "      <td>136109.0</td>\n",
       "      <td>0.000000</td>\n",
       "      <td>6.906466</td>\n",
       "    </tr>\n",
       "  </tbody>\n",
       "</table>\n",
       "<p>298 rows × 4 columns</p>\n",
       "</div>"
      ],
      "text/plain": [
       "        replydate    doc_id        DDS        CDS\n",
       "654    2015-06-30  136109.0   0.000000   0.000000\n",
       "2032   2015-07-01  136109.0   0.000000   0.000000\n",
       "3410   2015-07-02  136109.0   0.000000   0.000000\n",
       "4788   2015-07-03  136109.0   0.000000   0.000000\n",
       "6166   2015-07-04  136109.0   0.000000   0.000000\n",
       "7544   2015-07-06  136109.0   0.000000   0.000000\n",
       "8922   2015-07-07  136109.0   0.000000   0.000000\n",
       "10300  2015-07-08  136109.0   0.000000   0.000000\n",
       "11678  2015-07-09  136109.0   0.000000   0.000000\n",
       "13056  2015-07-10  136109.0   0.000000   0.000000\n",
       "14434  2015-07-11  136109.0   0.000000   0.000000\n",
       "15812  2015-07-13  136109.0   0.000000   0.000000\n",
       "17190  2015-07-14  136109.0   0.000000   0.000000\n",
       "18568  2015-07-15  136109.0   0.000000   0.000000\n",
       "19946  2015-07-16  136109.0   0.000000   0.000000\n",
       "21324  2015-07-17  136109.0   0.000000   0.000000\n",
       "22702  2015-07-18  136109.0   0.000000   0.000000\n",
       "24080  2015-07-21  136109.0   0.000000   0.000000\n",
       "25458  2015-07-22  136109.0   0.000000   0.000000\n",
       "26836  2015-07-23  136109.0   0.000000   0.000000\n",
       "28214  2015-07-24  136109.0   0.000000   0.000000\n",
       "29592  2015-07-27  136109.0   0.000000   0.000000\n",
       "30970  2015-07-28  136109.0   0.000000   0.000000\n",
       "32348  2015-07-29  136109.0   0.000000   0.000000\n",
       "33726  2015-07-30  136109.0   0.000000   0.000000\n",
       "35104  2015-07-31  136109.0   0.000000   0.000000\n",
       "36482  2015-08-01  136109.0   0.000000   0.000000\n",
       "37860  2015-08-02  136109.0   0.000000   0.000000\n",
       "39238  2015-08-03  136109.0   0.000000   0.000000\n",
       "40616  2015-08-04  136109.0   0.000000   0.000000\n",
       "...           ...       ...        ...        ...\n",
       "369958 2016-03-30  136109.0  51.794581  45.512270\n",
       "371336 2016-03-31  136109.0   0.000000  39.620703\n",
       "372714 2016-04-01  136109.0   0.000000  34.491839\n",
       "374092 2016-04-02  136109.0   0.000000  30.026877\n",
       "375470 2016-04-03  136109.0   0.000000  26.139925\n",
       "376848 2016-04-04  136109.0   0.000000  22.756109\n",
       "378226 2016-04-05  136109.0   0.000000  19.810347\n",
       "379604 2016-04-06  136109.0   0.000000  17.269719\n",
       "380982 2016-04-07  136109.0   0.000000  15.034183\n",
       "382360 2016-04-08  136109.0   0.000000  12.948645\n",
       "383738 2016-04-09  136109.0   0.000000  11.272469\n",
       "385116 2016-04-10  136109.0   0.000000   9.813260\n",
       "386494 2016-04-11  136109.0   0.000000   8.542895\n",
       "387872 2016-04-12  136109.0   0.000000   7.437028\n",
       "389250 2016-04-13  136109.0   0.000000   6.474323\n",
       "390628 2016-04-14  136109.0   0.000000   5.636234\n",
       "392006 2016-04-15  136109.0   0.000000   4.906604\n",
       "393384 2016-04-16  136109.0   0.000000   4.271447\n",
       "394762 2016-04-17  136109.0   0.000000   3.718540\n",
       "396140 2016-04-18  136109.0   0.000000   3.237161\n",
       "397518 2016-04-19  136109.0   0.000000   2.818091\n",
       "398896 2016-04-20  136109.0  20.812594  20.571727\n",
       "400274 2016-04-21  136109.0   0.000000  17.908741\n",
       "401652 2016-04-22  136109.0   0.000000  15.590462\n",
       "403030 2016-04-23  136109.0   0.000000  13.572273\n",
       "404408 2016-04-24  136109.0   0.000000  11.815369\n",
       "405786 2016-04-25  136109.0   0.000000  10.285853\n",
       "407164 2016-04-26  136109.0   0.000000   8.954344\n",
       "408542 2016-04-27  136109.0   0.000000   7.933445\n",
       "409920 2016-04-28  136109.0   0.000000   6.906466\n",
       "\n",
       "[298 rows x 4 columns]"
      ]
     },
     "execution_count": 156,
     "metadata": {},
     "output_type": "execute_result"
    }
   ],
   "source": [
    "stack[stack['doc_id'] == 136109]"
   ]
  },
  {
   "cell_type": "code",
   "execution_count": 4,
   "metadata": {
    "collapsed": false
   },
   "outputs": [
    {
     "data": {
      "text/plain": [
       "count    90376.000000\n",
       "mean        48.514492\n",
       "std         71.384930\n",
       "min          0.099630\n",
       "25%          4.755183\n",
       "50%         19.099617\n",
       "75%         58.361727\n",
       "max        553.626839\n",
       "Name: CDS, dtype: float64"
      ]
     },
     "execution_count": 4,
     "metadata": {},
     "output_type": "execute_result"
    }
   ],
   "source": [
    "stack[stack['CDS'] > 0]['CDS'].describe()"
   ]
  },
  {
   "cell_type": "code",
   "execution_count": 152,
   "metadata": {
    "collapsed": false
   },
   "outputs": [
    {
     "name": "stdout",
     "output_type": "stream",
     "text": [
      "0    0.0\n",
      "1    0.0\n",
      "2    0.0\n",
      "3    0.0\n",
      "4    0.0\n",
      "Name: CDS, dtype: float64\n"
     ]
    }
   ],
   "source": [
    "stack2 = stack['CDS']\n",
    "print stack2.head()"
   ]
  },
  {
   "cell_type": "code",
   "execution_count": 31,
   "metadata": {
    "collapsed": true
   },
   "outputs": [],
   "source": [
    "def plot_scatter(X, labels=None, title=\"Scatter Plot\"):\n",
    "    \n",
    "    labels = np.zeros(shape=X.shape[0], dtype=int) if labels is None else labels\n",
    "    colors = ['b', 'r', 'g', 'm', 'y']\n",
    "    col_dict = {}\n",
    "    i = 0\n",
    "    for lab in np.unique(labels):\n",
    "        col_dict[lab] = colors[i]\n",
    "        i += 1 \n",
    "    \n",
    "    fig1 = plt.figure(1, figsize=(8,6))\n",
    "    ax = fig1.add_subplot(1, 1, 1)\n",
    "\n",
    "    for i in np.unique(labels):\n",
    "        indx = np.where(labels == i)[0]\n",
    "        plt.scatter(X[indx,0], X[indx,1], color=col_dict[i], marker='o', s=100, alpha=0.5)\n",
    "\n",
    "    plt.setp(ax.get_xticklabels(), rotation='horizontal', fontsize=16)\n",
    "    plt.setp(ax.get_yticklabels(), rotation='vertical', fontsize=16)\n",
    "\n",
    "    plt.xlabel('$x_1$', size=20)\n",
    "    plt.ylabel('$x_2$', size=20)\n",
    "    plt.title(title, size=20)\n",
    "\n",
    "    plt.show()\n",
    "    \n",
    "## test plot original data\n",
    "# plot_scatter(df.iloc[:,0:2].values, labels=df.iloc[:,2].values, title=\"Scatter Plot: Original Labels\")\n"
   ]
  },
  {
   "cell_type": "code",
   "execution_count": 153,
   "metadata": {
    "collapsed": false
   },
   "outputs": [],
   "source": [
    "bkm = pyclust.BisectKMeans(n_clusters=2)\n",
    "\n",
    "bkm.fit(stack2.values[:,np.newaxis])"
   ]
  },
  {
   "cell_type": "code",
   "execution_count": 58,
   "metadata": {
    "collapsed": false
   },
   "outputs": [],
   "source": [
    "cds_labels = pd.DataFrame({\"CDS\":stack2.values, \"labels\":bkm.labels_})"
   ]
  },
  {
   "cell_type": "code",
   "execution_count": 63,
   "metadata": {
    "collapsed": false
   },
   "outputs": [
    {
     "data": {
      "text/plain": [
       "CDS       84.556072\n",
       "labels     2.000000\n",
       "dtype: float64"
      ]
     },
     "execution_count": 63,
     "metadata": {},
     "output_type": "execute_result"
    }
   ],
   "source": [
    "cds_labels[cds_labels['labels']==2].min()"
   ]
  },
  {
   "cell_type": "code",
   "execution_count": 33,
   "metadata": {
    "collapsed": false
   },
   "outputs": [
    {
     "data": {
      "text/plain": [
       "array([1, 2])"
      ]
     },
     "execution_count": 33,
     "metadata": {},
     "output_type": "execute_result"
    }
   ],
   "source": [
    "np.unique(bkm.labels_)"
   ]
  },
  {
   "cell_type": "code",
   "execution_count": 34,
   "metadata": {
    "collapsed": false
   },
   "outputs": [
    {
     "data": {
      "text/plain": [
       "array([[   0.        ],\n",
       "       [   0.        ],\n",
       "       [   0.        ],\n",
       "       ..., \n",
       "       [ 117.40389084],\n",
       "       [  20.91445265],\n",
       "       [  54.71987599]])"
      ]
     },
     "execution_count": 34,
     "metadata": {},
     "output_type": "execute_result"
    }
   ],
   "source": [
    "stack2.values[:,np.newaxis]"
   ]
  },
  {
   "cell_type": "code",
   "execution_count": 35,
   "metadata": {
    "collapsed": false
   },
   "outputs": [
    {
     "data": {
      "text/plain": [
       "array([ 1.,  1.])"
      ]
     },
     "execution_count": 35,
     "metadata": {},
     "output_type": "execute_result"
    }
   ],
   "source": [
    "np.ones(2)"
   ]
  },
  {
   "cell_type": "code",
   "execution_count": 95,
   "metadata": {
    "collapsed": false
   },
   "outputs": [],
   "source": [
    "# stack_df = pd.DataFrame([stack2.values, np.ones(len(stack2))]).T\n",
    "# stack_df.head()\n",
    "# stack_df.tail()"
   ]
  },
  {
   "cell_type": "code",
   "execution_count": 66,
   "metadata": {
    "collapsed": false
   },
   "outputs": [
    {
     "data": {
      "text/plain": [
       "<matplotlib.axes._subplots.AxesSubplot at 0x109887bd0>"
      ]
     },
     "execution_count": 66,
     "metadata": {},
     "output_type": "execute_result"
    },
    {
     "data": {
      "image/png": "[encoded data removed]",
      "text/plain": [
       "<matplotlib.figure.Figure at 0x10a2ee110>"
      ]
     },
     "metadata": {},
     "output_type": "display_data"
    }
   ],
   "source": [
    "cds_labels.plot.scatter('CDS', 'labels')"
   ]
  },
  {
   "cell_type": "code",
   "execution_count": 96,
   "metadata": {
    "collapsed": false
   },
   "outputs": [
    {
     "name": "stdout",
     "output_type": "stream",
     "text": [
      "[1 1 1 ..., 2 1 1]\n"
     ]
    }
   ],
   "source": [
    "print(bkm.labels_)\n",
    "# plot_scatter(cds_labels['CDS'].values, labels=cds_labels['labels'].values, title=\"Scatter Plot: Bisecting K-Means\")"
   ]
  },
  {
   "cell_type": "code",
   "execution_count": 5,
   "metadata": {
    "collapsed": false
   },
   "outputs": [],
   "source": [
    "stack['CDS_Labels'] = stack['CDS'].map(lambda x: 'CDS=0' if x==0 else 'CDS>=85' if x>=85 else 'CDS<85')"
   ]
  },
  {
   "cell_type": "code",
   "execution_count": 6,
   "metadata": {
    "collapsed": false
   },
   "outputs": [],
   "source": [
    "pivot = pd.pivot_table(stack, index=\"replydate\", columns=\"CDS_Labels\", values=\"doc_id\", aggfunc=lambda x: len(x.unique()))"
   ]
  },
  {
   "cell_type": "code",
   "execution_count": 7,
   "metadata": {
    "collapsed": false
   },
   "outputs": [],
   "source": [
    "pivot = pivot.fillna(0)"
   ]
  },
  {
   "cell_type": "code",
   "execution_count": 8,
   "metadata": {
    "collapsed": false
   },
   "outputs": [
    {
     "data": {
      "text/html": [
       "<div>\n",
       "<table border=\"1\" class=\"dataframe\">\n",
       "  <thead>\n",
       "    <tr style=\"text-align: right;\">\n",
       "      <th>CDS_Labels</th>\n",
       "      <th>CDS&lt;85</th>\n",
       "      <th>CDS=0</th>\n",
       "      <th>CDS&gt;=85</th>\n",
       "      <th>total_active</th>\n",
       "    </tr>\n",
       "    <tr>\n",
       "      <th>replydate</th>\n",
       "      <th></th>\n",
       "      <th></th>\n",
       "      <th></th>\n",
       "      <th></th>\n",
       "    </tr>\n",
       "  </thead>\n",
       "  <tbody>\n",
       "    <tr>\n",
       "      <th>2016-04-24</th>\n",
       "      <td>455.0</td>\n",
       "      <td>819.0</td>\n",
       "      <td>104.0</td>\n",
       "      <td>559.0</td>\n",
       "    </tr>\n",
       "    <tr>\n",
       "      <th>2016-04-25</th>\n",
       "      <td>446.0</td>\n",
       "      <td>825.0</td>\n",
       "      <td>107.0</td>\n",
       "      <td>553.0</td>\n",
       "    </tr>\n",
       "    <tr>\n",
       "      <th>2016-04-26</th>\n",
       "      <td>434.0</td>\n",
       "      <td>825.0</td>\n",
       "      <td>119.0</td>\n",
       "      <td>553.0</td>\n",
       "    </tr>\n",
       "    <tr>\n",
       "      <th>2016-04-27</th>\n",
       "      <td>434.0</td>\n",
       "      <td>821.0</td>\n",
       "      <td>123.0</td>\n",
       "      <td>557.0</td>\n",
       "    </tr>\n",
       "    <tr>\n",
       "      <th>2016-04-28</th>\n",
       "      <td>436.0</td>\n",
       "      <td>823.0</td>\n",
       "      <td>119.0</td>\n",
       "      <td>555.0</td>\n",
       "    </tr>\n",
       "  </tbody>\n",
       "</table>\n",
       "</div>"
      ],
      "text/plain": [
       "CDS_Labels  CDS<85  CDS=0  CDS>=85  total_active\n",
       "replydate                                       \n",
       "2016-04-24   455.0  819.0    104.0         559.0\n",
       "2016-04-25   446.0  825.0    107.0         553.0\n",
       "2016-04-26   434.0  825.0    119.0         553.0\n",
       "2016-04-27   434.0  821.0    123.0         557.0\n",
       "2016-04-28   436.0  823.0    119.0         555.0"
      ]
     },
     "execution_count": 8,
     "metadata": {},
     "output_type": "execute_result"
    }
   ],
   "source": [
    "pivot['total_active'] = pivot['CDS<85'] + pivot['CDS>=85']\n",
    "# pivot['CDS<78'] = pivot['CDS<78'].str.replace('.', '')\n",
    "# pivot['CDS<78'] = pivot['CDS<78'].str.replace('\\n', '')\n",
    "# pivot['CDS=0'] = pivot['CDS=0'].str.replace('.', '')\n",
    "# pivot['CDS=0'] = pivot['CDS=0'].str.replace('\\n', '')\n",
    "# pivot['CDS>=78'] = pivot['CDS>=78'].str.replace('.', '')\n",
    "# pivot['CDS>=78'] = pivot['CDS>=78'].str.replace('\\n', '')\n",
    "pivot.tail()"
   ]
  },
  {
   "cell_type": "code",
   "execution_count": 72,
   "metadata": {
    "collapsed": true
   },
   "outputs": [],
   "source": []
  },
  {
   "cell_type": "code",
   "execution_count": 71,
   "metadata": {
    "collapsed": false
   },
   "outputs": [
    {
     "data": {
      "text/plain": [
       "<matplotlib.axes._subplots.AxesSubplot at 0x1098a83d0>"
      ]
     },
     "execution_count": 71,
     "metadata": {},
     "output_type": "execute_result"
    },
    {
     "data": {
      "image/png": "[encoded data removed]",
      "text/plain": [
       "<matplotlib.figure.Figure at 0x10a0dd310>"
      ]
     },
     "metadata": {},
     "output_type": "display_data"
    }
   ],
   "source": [
    "pivot.plot()"
   ]
  },
  {
   "cell_type": "code",
   "execution_count": 72,
   "metadata": {
    "collapsed": false
   },
   "outputs": [
    {
     "data": {
      "text/plain": [
       "<matplotlib.axes._subplots.AxesSubplot at 0x10e3306d0>"
      ]
     },
     "execution_count": 72,
     "metadata": {},
     "output_type": "execute_result"
    },
    {
     "data": {
      "image/png": "[encoded data removed]",
      "text/plain": [
       "<matplotlib.figure.Figure at 0x10f00e510>"
      ]
     },
     "metadata": {},
     "output_type": "display_data"
    }
   ],
   "source": [
    "pivot['CDS>=85'].plot()"
   ]
  },
  {
   "cell_type": "code",
   "execution_count": 85,
   "metadata": {
    "collapsed": false
   },
   "outputs": [
    {
     "data": {
      "text/plain": [
       "<matplotlib.axes._subplots.AxesSubplot at 0x1156ca290>"
      ]
     },
     "execution_count": 85,
     "metadata": {},
     "output_type": "execute_result"
    },
    {
     "data": {
      "image/png": "[encoded data removed]",
      "text/plain": [
       "<matplotlib.figure.Figure at 0x1156d1390>"
      ]
     },
     "metadata": {},
     "output_type": "display_data"
    }
   ],
   "source": [
    "df_pivot[['CDS>=85']].plot(kind='line')"
   ]
  },
  {
   "cell_type": "code",
   "execution_count": 9,
   "metadata": {
    "collapsed": false
   },
   "outputs": [
    {
     "data": {
      "text/plain": [
       "<matplotlib.axes._subplots.AxesSubplot at 0x107d0e650>"
      ]
     },
     "execution_count": 9,
     "metadata": {},
     "output_type": "execute_result"
    },
    {
     "data": {
      "image/png": "[encoded data removed]",
      "text/plain": [
       "<matplotlib.figure.Figure at 0x107cc5f90>"
      ]
     },
     "metadata": {},
     "output_type": "display_data"
    }
   ],
   "source": [
    "df_pivot = pivot[pivot.index.map(lambda x: x.date() > pd.to_datetime('2016-02-15').date())]\n",
    "df_pivot.plot(kind='line')"
   ]
  },
  {
   "cell_type": "code",
   "execution_count": 87,
   "metadata": {
    "collapsed": false
   },
   "outputs": [
    {
     "data": {
      "text/plain": [
       "count     59.000000\n",
       "mean      88.169492\n",
       "std        6.975703\n",
       "min       74.000000\n",
       "25%       84.000000\n",
       "50%       88.000000\n",
       "75%       91.500000\n",
       "max      112.000000\n",
       "Name: CDS>=85, dtype: float64"
      ]
     },
     "execution_count": 87,
     "metadata": {},
     "output_type": "execute_result"
    }
   ],
   "source": [
    "pivot[pivot.index.map(lambda x: x.date() > pd.to_datetime('2016-02-29').date())][\"CDS>=85\"].describe()"
   ]
  },
  {
   "cell_type": "code",
   "execution_count": 89,
   "metadata": {
    "collapsed": false
   },
   "outputs": [
    {
     "data": {
      "text/plain": [
       "count     59.000000\n",
       "mean     865.881356\n",
       "std       21.990660\n",
       "min      819.000000\n",
       "25%      846.500000\n",
       "50%      871.000000\n",
       "75%      883.000000\n",
       "max      894.000000\n",
       "Name: CDS=0, dtype: float64"
      ]
     },
     "execution_count": 89,
     "metadata": {},
     "output_type": "execute_result"
    }
   ],
   "source": [
    "df_pivot['CDS=0'].describe()"
   ]
  },
  {
   "cell_type": "code",
   "execution_count": 90,
   "metadata": {
    "collapsed": false
   },
   "outputs": [
    {
     "data": {
      "text/plain": [
       "count     59.000000\n",
       "mean     423.949153\n",
       "std       19.444371\n",
       "min      397.000000\n",
       "25%      408.000000\n",
       "50%      421.000000\n",
       "75%      441.000000\n",
       "max      470.000000\n",
       "Name: CDS<85, dtype: float64"
      ]
     },
     "execution_count": 90,
     "metadata": {},
     "output_type": "execute_result"
    }
   ],
   "source": [
    "df_pivot['CDS<85'].describe()"
   ]
  },
  {
   "cell_type": "code",
   "execution_count": 91,
   "metadata": {
    "collapsed": false
   },
   "outputs": [
    {
     "data": {
      "text/plain": [
       "count     59.000000\n",
       "mean      88.169492\n",
       "std        6.975703\n",
       "min       74.000000\n",
       "25%       84.000000\n",
       "50%       88.000000\n",
       "75%       91.500000\n",
       "max      112.000000\n",
       "Name: CDS>=85, dtype: float64"
      ]
     },
     "execution_count": 91,
     "metadata": {},
     "output_type": "execute_result"
    }
   ],
   "source": [
    "df_pivot['CDS>=85'].describe()"
   ]
  },
  {
   "cell_type": "code",
   "execution_count": 92,
   "metadata": {
    "collapsed": false
   },
   "outputs": [
    {
     "data": {
      "text/plain": [
       "count     59.000000\n",
       "mean     512.118644\n",
       "std       21.990660\n",
       "min      484.000000\n",
       "25%      495.000000\n",
       "50%      507.000000\n",
       "75%      531.500000\n",
       "max      559.000000\n",
       "Name: total_active, dtype: float64"
      ]
     },
     "execution_count": 92,
     "metadata": {},
     "output_type": "execute_result"
    }
   ],
   "source": [
    "df_pivot['total_active'].describe()"
   ]
  },
  {
   "cell_type": "code",
   "execution_count": 34,
   "metadata": {
    "collapsed": false
   },
   "outputs": [],
   "source": [
    "# stack[stack['CDS'] > 78]"
   ]
  },
  {
   "cell_type": "code",
   "execution_count": 35,
   "metadata": {
    "collapsed": false
   },
   "outputs": [],
   "source": [
    "# stack[stack['CDS'] > 78 & stack['replydate'] ='2016-04-03' ]"
   ]
  },
  {
   "cell_type": "code",
   "execution_count": 36,
   "metadata": {
    "collapsed": false
   },
   "outputs": [],
   "source": [
    "# cal=  stack['replydate'].copy()\n",
    "# cal = cal.drop_duplicates()\n",
    "# # print cal"
   ]
  },
  {
   "cell_type": "code",
   "execution_count": 37,
   "metadata": {
    "collapsed": true
   },
   "outputs": [],
   "source": [
    "# stack['CDS =0'] = stack['CDS'].map(lambda x: count([CDS]) if x = 0"
   ]
  },
  {
   "cell_type": "code",
   "execution_count": 10,
   "metadata": {
    "collapsed": false
   },
   "outputs": [
    {
     "ename": "NameError",
     "evalue": "name 'df1' is not defined",
     "output_type": "error",
     "traceback": [
      "\u001b[0;31m---------------------------------------------------------------------------\u001b[0m",
      "\u001b[0;31mNameError\u001b[0m                                 Traceback (most recent call last)",
      "\u001b[0;32m<ipython-input-10-674544a91346>\u001b[0m in \u001b[0;36m<module>\u001b[0;34m()\u001b[0m\n\u001b[0;32m----> 1\u001b[0;31m \u001b[0mconcatenate\u001b[0m \u001b[0;34m=\u001b[0m \u001b[0mpd\u001b[0m\u001b[0;34m.\u001b[0m\u001b[0mconcat\u001b[0m\u001b[0;34m(\u001b[0m\u001b[0;34m[\u001b[0m\u001b[0mdf1\u001b[0m\u001b[0;34m,\u001b[0m \u001b[0mdf4\u001b[0m\u001b[0;34m]\u001b[0m\u001b[0;34m,\u001b[0m \u001b[0maxis\u001b[0m\u001b[0;34m=\u001b[0m\u001b[0;36m1\u001b[0m\u001b[0;34m,\u001b[0m \u001b[0mjoin\u001b[0m\u001b[0;34m=\u001b[0m\u001b[0;34m'inner'\u001b[0m\u001b[0;34m)\u001b[0m\u001b[0;34m\u001b[0m\u001b[0m\n\u001b[0m",
      "\u001b[0;31mNameError\u001b[0m: name 'df1' is not defined"
     ]
    }
   ],
   "source": [
    "concatenate = pd.concat([df1, df4], axis=1, join='inner')"
   ]
  },
  {
   "cell_type": "code",
   "execution_count": 11,
   "metadata": {
    "collapsed": false
   },
   "outputs": [
    {
     "name": "stderr",
     "output_type": "stream",
     "text": [
      "/Library/Frameworks/Python.framework/Versions/2.7/lib/python2.7/site-packages/IPython/kernel/__main__.py:3: SettingWithCopyWarning: \n",
      "A value is trying to be set on a copy of a slice from a DataFrame.\n",
      "Try using .loc[row_indexer,col_indexer] = value instead\n",
      "\n",
      "See the caveats in the documentation: http://pandas.pydata.org/pandas-docs/stable/indexing.html#indexing-view-versus-copy\n",
      "  app.launch_new_instance()\n"
     ]
    },
    {
     "data": {
      "text/plain": [
       "doc_id                        float64\n",
       "replydate              datetime64[ns]\n",
       "replies                       float64\n",
       "response_median_hrs           float64\n",
       "dtype: object"
      ]
     },
     "execution_count": 11,
     "metadata": {},
     "output_type": "execute_result"
    }
   ],
   "source": [
    "response = result[['doc_id','replydate','replies','response_median_hrs']]\n",
    "response.head()\n",
    "response['replydate'] = pd.to_datetime(response['replydate'])\n",
    "response.dtypes"
   ]
  },
  {
   "cell_type": "code",
   "execution_count": 12,
   "metadata": {
    "collapsed": false
   },
   "outputs": [
    {
     "data": {
      "text/plain": [
       "replydate     datetime64[ns]\n",
       "doc_id               float64\n",
       "DDS                  float64\n",
       "CDS                  float64\n",
       "CDS_Labels            object\n",
       "dtype: object"
      ]
     },
     "execution_count": 12,
     "metadata": {},
     "output_type": "execute_result"
    }
   ],
   "source": [
    "stack.head()\n",
    "stack.dtypes"
   ]
  },
  {
   "cell_type": "code",
   "execution_count": 13,
   "metadata": {
    "collapsed": false
   },
   "outputs": [
    {
     "data": {
      "text/html": [
       "<div>\n",
       "<table border=\"1\" class=\"dataframe\">\n",
       "  <thead>\n",
       "    <tr style=\"text-align: right;\">\n",
       "      <th></th>\n",
       "      <th>doc_id</th>\n",
       "      <th>replydate</th>\n",
       "      <th>replies</th>\n",
       "      <th>response_median_hrs</th>\n",
       "      <th>DDS</th>\n",
       "      <th>CDS</th>\n",
       "      <th>CDS_Labels</th>\n",
       "    </tr>\n",
       "  </thead>\n",
       "  <tbody>\n",
       "    <tr>\n",
       "      <th>0</th>\n",
       "      <td>153932.0</td>\n",
       "      <td>2015-06-30</td>\n",
       "      <td>2.0</td>\n",
       "      <td>2.100000</td>\n",
       "      <td>57.361046</td>\n",
       "      <td>0.000000</td>\n",
       "      <td>CDS=0</td>\n",
       "    </tr>\n",
       "    <tr>\n",
       "      <th>1</th>\n",
       "      <td>52953.0</td>\n",
       "      <td>2015-10-09</td>\n",
       "      <td>18.0</td>\n",
       "      <td>5.450000</td>\n",
       "      <td>84.421650</td>\n",
       "      <td>417.979900</td>\n",
       "      <td>CDS&gt;=85</td>\n",
       "    </tr>\n",
       "    <tr>\n",
       "      <th>2</th>\n",
       "      <td>123102.0</td>\n",
       "      <td>2015-09-09</td>\n",
       "      <td>2.0</td>\n",
       "      <td>0.416667</td>\n",
       "      <td>89.955336</td>\n",
       "      <td>252.088333</td>\n",
       "      <td>CDS&gt;=85</td>\n",
       "    </tr>\n",
       "    <tr>\n",
       "      <th>3</th>\n",
       "      <td>140576.0</td>\n",
       "      <td>2015-09-03</td>\n",
       "      <td>2.0</td>\n",
       "      <td>2.100000</td>\n",
       "      <td>49.946596</td>\n",
       "      <td>127.411756</td>\n",
       "      <td>CDS&gt;=85</td>\n",
       "    </tr>\n",
       "    <tr>\n",
       "      <th>4</th>\n",
       "      <td>3682.0</td>\n",
       "      <td>2015-09-16</td>\n",
       "      <td>1.0</td>\n",
       "      <td>1.516667</td>\n",
       "      <td>80.090638</td>\n",
       "      <td>69.722985</td>\n",
       "      <td>CDS&lt;85</td>\n",
       "    </tr>\n",
       "  </tbody>\n",
       "</table>\n",
       "</div>"
      ],
      "text/plain": [
       "     doc_id  replydate  replies  response_median_hrs        DDS         CDS  \\\n",
       "0  153932.0 2015-06-30      2.0             2.100000  57.361046    0.000000   \n",
       "1   52953.0 2015-10-09     18.0             5.450000  84.421650  417.979900   \n",
       "2  123102.0 2015-09-09      2.0             0.416667  89.955336  252.088333   \n",
       "3  140576.0 2015-09-03      2.0             2.100000  49.946596  127.411756   \n",
       "4    3682.0 2015-09-16      1.0             1.516667  80.090638   69.722985   \n",
       "\n",
       "  CDS_Labels  \n",
       "0      CDS=0  \n",
       "1    CDS>=85  \n",
       "2    CDS>=85  \n",
       "3    CDS>=85  \n",
       "4     CDS<85  "
      ]
     },
     "execution_count": 13,
     "metadata": {},
     "output_type": "execute_result"
    }
   ],
   "source": [
    "concatenate = pd.merge( response, stack, how = 'right', on=['replydate','doc_id'])\n",
    "concatenate.head()"
   ]
  },
  {
   "cell_type": "code",
   "execution_count": 14,
   "metadata": {
    "collapsed": false
   },
   "outputs": [
    {
     "data": {
      "text/html": [
       "<div>\n",
       "<table border=\"1\" class=\"dataframe\">\n",
       "  <thead>\n",
       "    <tr style=\"text-align: right;\">\n",
       "      <th></th>\n",
       "      <th>doc_id</th>\n",
       "      <th>replydate</th>\n",
       "      <th>replies</th>\n",
       "      <th>response_median_hrs</th>\n",
       "      <th>DDS</th>\n",
       "      <th>CDS</th>\n",
       "      <th>CDS_Labels</th>\n",
       "    </tr>\n",
       "  </thead>\n",
       "  <tbody>\n",
       "    <tr>\n",
       "      <th>1</th>\n",
       "      <td>52953.0</td>\n",
       "      <td>2015-10-09</td>\n",
       "      <td>18.0</td>\n",
       "      <td>5.450000</td>\n",
       "      <td>84.421650</td>\n",
       "      <td>417.979900</td>\n",
       "      <td>CDS&gt;=85</td>\n",
       "    </tr>\n",
       "    <tr>\n",
       "      <th>2</th>\n",
       "      <td>123102.0</td>\n",
       "      <td>2015-09-09</td>\n",
       "      <td>2.0</td>\n",
       "      <td>0.416667</td>\n",
       "      <td>89.955336</td>\n",
       "      <td>252.088333</td>\n",
       "      <td>CDS&gt;=85</td>\n",
       "    </tr>\n",
       "    <tr>\n",
       "      <th>3</th>\n",
       "      <td>140576.0</td>\n",
       "      <td>2015-09-03</td>\n",
       "      <td>2.0</td>\n",
       "      <td>2.100000</td>\n",
       "      <td>49.946596</td>\n",
       "      <td>127.411756</td>\n",
       "      <td>CDS&gt;=85</td>\n",
       "    </tr>\n",
       "    <tr>\n",
       "      <th>6</th>\n",
       "      <td>52953.0</td>\n",
       "      <td>2015-08-27</td>\n",
       "      <td>2.0</td>\n",
       "      <td>1.300000</td>\n",
       "      <td>85.789436</td>\n",
       "      <td>196.322187</td>\n",
       "      <td>CDS&gt;=85</td>\n",
       "    </tr>\n",
       "    <tr>\n",
       "      <th>7</th>\n",
       "      <td>37438.0</td>\n",
       "      <td>2015-09-03</td>\n",
       "      <td>13.0</td>\n",
       "      <td>1.583333</td>\n",
       "      <td>77.575836</td>\n",
       "      <td>286.583912</td>\n",
       "      <td>CDS&gt;=85</td>\n",
       "    </tr>\n",
       "    <tr>\n",
       "      <th>9</th>\n",
       "      <td>123102.0</td>\n",
       "      <td>2015-09-21</td>\n",
       "      <td>3.0</td>\n",
       "      <td>1.733333</td>\n",
       "      <td>84.974412</td>\n",
       "      <td>210.087644</td>\n",
       "      <td>CDS&gt;=85</td>\n",
       "    </tr>\n",
       "    <tr>\n",
       "      <th>10</th>\n",
       "      <td>138793.0</td>\n",
       "      <td>2015-10-15</td>\n",
       "      <td>5.0</td>\n",
       "      <td>1.216667</td>\n",
       "      <td>73.171622</td>\n",
       "      <td>152.663690</td>\n",
       "      <td>CDS&gt;=85</td>\n",
       "    </tr>\n",
       "    <tr>\n",
       "      <th>11</th>\n",
       "      <td>153932.0</td>\n",
       "      <td>2016-03-14</td>\n",
       "      <td>2.0</td>\n",
       "      <td>0.000000</td>\n",
       "      <td>76.665416</td>\n",
       "      <td>164.062372</td>\n",
       "      <td>CDS&gt;=85</td>\n",
       "    </tr>\n",
       "    <tr>\n",
       "      <th>12</th>\n",
       "      <td>52953.0</td>\n",
       "      <td>2015-09-13</td>\n",
       "      <td>11.0</td>\n",
       "      <td>11.650000</td>\n",
       "      <td>72.043500</td>\n",
       "      <td>437.967703</td>\n",
       "      <td>CDS&gt;=85</td>\n",
       "    </tr>\n",
       "    <tr>\n",
       "      <th>14</th>\n",
       "      <td>37438.0</td>\n",
       "      <td>2015-09-08</td>\n",
       "      <td>3.0</td>\n",
       "      <td>3.750000</td>\n",
       "      <td>35.080096</td>\n",
       "      <td>331.088902</td>\n",
       "      <td>CDS&gt;=85</td>\n",
       "    </tr>\n",
       "    <tr>\n",
       "      <th>16</th>\n",
       "      <td>138525.0</td>\n",
       "      <td>2016-01-28</td>\n",
       "      <td>4.0</td>\n",
       "      <td>1.283333</td>\n",
       "      <td>58.512310</td>\n",
       "      <td>137.685879</td>\n",
       "      <td>CDS&gt;=85</td>\n",
       "    </tr>\n",
       "    <tr>\n",
       "      <th>17</th>\n",
       "      <td>131142.0</td>\n",
       "      <td>2016-01-15</td>\n",
       "      <td>3.0</td>\n",
       "      <td>1.000000</td>\n",
       "      <td>81.428821</td>\n",
       "      <td>306.037790</td>\n",
       "      <td>CDS&gt;=85</td>\n",
       "    </tr>\n",
       "    <tr>\n",
       "      <th>21</th>\n",
       "      <td>14047.0</td>\n",
       "      <td>2016-01-04</td>\n",
       "      <td>2.0</td>\n",
       "      <td>0.083333</td>\n",
       "      <td>82.722602</td>\n",
       "      <td>94.913961</td>\n",
       "      <td>CDS&gt;=85</td>\n",
       "    </tr>\n",
       "    <tr>\n",
       "      <th>23</th>\n",
       "      <td>20266.0</td>\n",
       "      <td>2015-09-25</td>\n",
       "      <td>3.0</td>\n",
       "      <td>0.916667</td>\n",
       "      <td>70.461057</td>\n",
       "      <td>190.852048</td>\n",
       "      <td>CDS&gt;=85</td>\n",
       "    </tr>\n",
       "    <tr>\n",
       "      <th>25</th>\n",
       "      <td>286563.0</td>\n",
       "      <td>2016-01-11</td>\n",
       "      <td>3.0</td>\n",
       "      <td>0.133333</td>\n",
       "      <td>75.274235</td>\n",
       "      <td>91.957013</td>\n",
       "      <td>CDS&gt;=85</td>\n",
       "    </tr>\n",
       "    <tr>\n",
       "      <th>26</th>\n",
       "      <td>37438.0</td>\n",
       "      <td>2015-10-24</td>\n",
       "      <td>5.0</td>\n",
       "      <td>7.150000</td>\n",
       "      <td>68.392116</td>\n",
       "      <td>380.935923</td>\n",
       "      <td>CDS&gt;=85</td>\n",
       "    </tr>\n",
       "    <tr>\n",
       "      <th>27</th>\n",
       "      <td>391436.0</td>\n",
       "      <td>2016-02-07</td>\n",
       "      <td>13.0</td>\n",
       "      <td>4.200000</td>\n",
       "      <td>78.876170</td>\n",
       "      <td>212.376956</td>\n",
       "      <td>CDS&gt;=85</td>\n",
       "    </tr>\n",
       "    <tr>\n",
       "      <th>28</th>\n",
       "      <td>52953.0</td>\n",
       "      <td>2015-09-26</td>\n",
       "      <td>10.0</td>\n",
       "      <td>5.516667</td>\n",
       "      <td>82.914139</td>\n",
       "      <td>507.061106</td>\n",
       "      <td>CDS&gt;=85</td>\n",
       "    </tr>\n",
       "    <tr>\n",
       "      <th>30</th>\n",
       "      <td>138793.0</td>\n",
       "      <td>2016-02-23</td>\n",
       "      <td>1.0</td>\n",
       "      <td>1.200000</td>\n",
       "      <td>59.369342</td>\n",
       "      <td>261.504285</td>\n",
       "      <td>CDS&gt;=85</td>\n",
       "    </tr>\n",
       "    <tr>\n",
       "      <th>32</th>\n",
       "      <td>230794.0</td>\n",
       "      <td>2016-02-26</td>\n",
       "      <td>2.0</td>\n",
       "      <td>1.300000</td>\n",
       "      <td>86.733436</td>\n",
       "      <td>359.494738</td>\n",
       "      <td>CDS&gt;=85</td>\n",
       "    </tr>\n",
       "    <tr>\n",
       "      <th>33</th>\n",
       "      <td>153932.0</td>\n",
       "      <td>2015-12-11</td>\n",
       "      <td>2.0</td>\n",
       "      <td>0.000000</td>\n",
       "      <td>78.118016</td>\n",
       "      <td>121.022568</td>\n",
       "      <td>CDS&gt;=85</td>\n",
       "    </tr>\n",
       "    <tr>\n",
       "      <th>34</th>\n",
       "      <td>240563.0</td>\n",
       "      <td>2016-02-25</td>\n",
       "      <td>1.0</td>\n",
       "      <td>1.900000</td>\n",
       "      <td>59.398352</td>\n",
       "      <td>148.746353</td>\n",
       "      <td>CDS&gt;=85</td>\n",
       "    </tr>\n",
       "    <tr>\n",
       "      <th>37</th>\n",
       "      <td>19428.0</td>\n",
       "      <td>2015-08-27</td>\n",
       "      <td>9.0</td>\n",
       "      <td>0.850000</td>\n",
       "      <td>86.041805</td>\n",
       "      <td>135.416615</td>\n",
       "      <td>CDS&gt;=85</td>\n",
       "    </tr>\n",
       "    <tr>\n",
       "      <th>38</th>\n",
       "      <td>114050.0</td>\n",
       "      <td>2015-08-20</td>\n",
       "      <td>3.0</td>\n",
       "      <td>0.400000</td>\n",
       "      <td>70.898751</td>\n",
       "      <td>149.648443</td>\n",
       "      <td>CDS&gt;=85</td>\n",
       "    </tr>\n",
       "    <tr>\n",
       "      <th>39</th>\n",
       "      <td>123102.0</td>\n",
       "      <td>2015-09-03</td>\n",
       "      <td>3.0</td>\n",
       "      <td>2.733333</td>\n",
       "      <td>80.893479</td>\n",
       "      <td>176.144861</td>\n",
       "      <td>CDS&gt;=85</td>\n",
       "    </tr>\n",
       "    <tr>\n",
       "      <th>41</th>\n",
       "      <td>246645.0</td>\n",
       "      <td>2015-10-04</td>\n",
       "      <td>27.0</td>\n",
       "      <td>5.550000</td>\n",
       "      <td>79.471100</td>\n",
       "      <td>231.256444</td>\n",
       "      <td>CDS&gt;=85</td>\n",
       "    </tr>\n",
       "    <tr>\n",
       "      <th>42</th>\n",
       "      <td>276026.0</td>\n",
       "      <td>2015-12-01</td>\n",
       "      <td>3.0</td>\n",
       "      <td>1.466667</td>\n",
       "      <td>87.113985</td>\n",
       "      <td>288.734332</td>\n",
       "      <td>CDS&gt;=85</td>\n",
       "    </tr>\n",
       "    <tr>\n",
       "      <th>43</th>\n",
       "      <td>189517.0</td>\n",
       "      <td>2016-04-27</td>\n",
       "      <td>2.0</td>\n",
       "      <td>3.283333</td>\n",
       "      <td>57.848906</td>\n",
       "      <td>126.839650</td>\n",
       "      <td>CDS&gt;=85</td>\n",
       "    </tr>\n",
       "    <tr>\n",
       "      <th>44</th>\n",
       "      <td>26403.0</td>\n",
       "      <td>2015-11-24</td>\n",
       "      <td>3.0</td>\n",
       "      <td>0.100000</td>\n",
       "      <td>83.969451</td>\n",
       "      <td>403.673440</td>\n",
       "      <td>CDS&gt;=85</td>\n",
       "    </tr>\n",
       "    <tr>\n",
       "      <th>45</th>\n",
       "      <td>294084.0</td>\n",
       "      <td>2016-01-09</td>\n",
       "      <td>3.0</td>\n",
       "      <td>2.100000</td>\n",
       "      <td>26.332651</td>\n",
       "      <td>343.523986</td>\n",
       "      <td>CDS&gt;=85</td>\n",
       "    </tr>\n",
       "    <tr>\n",
       "      <th>...</th>\n",
       "      <td>...</td>\n",
       "      <td>...</td>\n",
       "      <td>...</td>\n",
       "      <td>...</td>\n",
       "      <td>...</td>\n",
       "      <td>...</td>\n",
       "      <td>...</td>\n",
       "    </tr>\n",
       "    <tr>\n",
       "      <th>410102</th>\n",
       "      <td>174525.0</td>\n",
       "      <td>2016-04-28</td>\n",
       "      <td>0.0</td>\n",
       "      <td>0.000000</td>\n",
       "      <td>0.000000</td>\n",
       "      <td>93.946307</td>\n",
       "      <td>CDS&gt;=85</td>\n",
       "    </tr>\n",
       "    <tr>\n",
       "      <th>410136</th>\n",
       "      <td>189517.0</td>\n",
       "      <td>2016-04-28</td>\n",
       "      <td>0.0</td>\n",
       "      <td>0.000000</td>\n",
       "      <td>0.000000</td>\n",
       "      <td>110.448566</td>\n",
       "      <td>CDS&gt;=85</td>\n",
       "    </tr>\n",
       "    <tr>\n",
       "      <th>410140</th>\n",
       "      <td>190139.0</td>\n",
       "      <td>2016-04-28</td>\n",
       "      <td>0.0</td>\n",
       "      <td>0.000000</td>\n",
       "      <td>0.000000</td>\n",
       "      <td>133.255285</td>\n",
       "      <td>CDS&gt;=85</td>\n",
       "    </tr>\n",
       "    <tr>\n",
       "      <th>410197</th>\n",
       "      <td>205638.0</td>\n",
       "      <td>2016-04-28</td>\n",
       "      <td>0.0</td>\n",
       "      <td>0.000000</td>\n",
       "      <td>0.000000</td>\n",
       "      <td>213.172791</td>\n",
       "      <td>CDS&gt;=85</td>\n",
       "    </tr>\n",
       "    <tr>\n",
       "      <th>410205</th>\n",
       "      <td>209166.0</td>\n",
       "      <td>2016-04-28</td>\n",
       "      <td>0.0</td>\n",
       "      <td>0.000000</td>\n",
       "      <td>0.000000</td>\n",
       "      <td>128.374552</td>\n",
       "      <td>CDS&gt;=85</td>\n",
       "    </tr>\n",
       "    <tr>\n",
       "      <th>410207</th>\n",
       "      <td>210156.0</td>\n",
       "      <td>2016-04-28</td>\n",
       "      <td>0.0</td>\n",
       "      <td>0.000000</td>\n",
       "      <td>0.000000</td>\n",
       "      <td>150.262569</td>\n",
       "      <td>CDS&gt;=85</td>\n",
       "    </tr>\n",
       "    <tr>\n",
       "      <th>410275</th>\n",
       "      <td>230794.0</td>\n",
       "      <td>2016-04-28</td>\n",
       "      <td>0.0</td>\n",
       "      <td>0.000000</td>\n",
       "      <td>0.000000</td>\n",
       "      <td>205.439728</td>\n",
       "      <td>CDS&gt;=85</td>\n",
       "    </tr>\n",
       "    <tr>\n",
       "      <th>410315</th>\n",
       "      <td>251382.0</td>\n",
       "      <td>2016-04-28</td>\n",
       "      <td>0.0</td>\n",
       "      <td>0.000000</td>\n",
       "      <td>0.000000</td>\n",
       "      <td>203.377953</td>\n",
       "      <td>CDS&gt;=85</td>\n",
       "    </tr>\n",
       "    <tr>\n",
       "      <th>410341</th>\n",
       "      <td>279348.0</td>\n",
       "      <td>2016-04-28</td>\n",
       "      <td>0.0</td>\n",
       "      <td>0.000000</td>\n",
       "      <td>0.000000</td>\n",
       "      <td>114.178186</td>\n",
       "      <td>CDS&gt;=85</td>\n",
       "    </tr>\n",
       "    <tr>\n",
       "      <th>410360</th>\n",
       "      <td>288481.0</td>\n",
       "      <td>2016-04-28</td>\n",
       "      <td>0.0</td>\n",
       "      <td>0.000000</td>\n",
       "      <td>0.000000</td>\n",
       "      <td>272.059427</td>\n",
       "      <td>CDS&gt;=85</td>\n",
       "    </tr>\n",
       "    <tr>\n",
       "      <th>410365</th>\n",
       "      <td>294084.0</td>\n",
       "      <td>2016-04-28</td>\n",
       "      <td>0.0</td>\n",
       "      <td>0.000000</td>\n",
       "      <td>0.000000</td>\n",
       "      <td>194.560132</td>\n",
       "      <td>CDS&gt;=85</td>\n",
       "    </tr>\n",
       "    <tr>\n",
       "      <th>410452</th>\n",
       "      <td>362355.0</td>\n",
       "      <td>2016-04-28</td>\n",
       "      <td>0.0</td>\n",
       "      <td>0.000000</td>\n",
       "      <td>0.000000</td>\n",
       "      <td>146.809154</td>\n",
       "      <td>CDS&gt;=85</td>\n",
       "    </tr>\n",
       "    <tr>\n",
       "      <th>410465</th>\n",
       "      <td>381869.0</td>\n",
       "      <td>2016-04-28</td>\n",
       "      <td>0.0</td>\n",
       "      <td>0.000000</td>\n",
       "      <td>0.000000</td>\n",
       "      <td>104.647844</td>\n",
       "      <td>CDS&gt;=85</td>\n",
       "    </tr>\n",
       "    <tr>\n",
       "      <th>410511</th>\n",
       "      <td>430889.0</td>\n",
       "      <td>2016-04-28</td>\n",
       "      <td>0.0</td>\n",
       "      <td>0.000000</td>\n",
       "      <td>0.000000</td>\n",
       "      <td>87.943694</td>\n",
       "      <td>CDS&gt;=85</td>\n",
       "    </tr>\n",
       "    <tr>\n",
       "      <th>410540</th>\n",
       "      <td>471825.0</td>\n",
       "      <td>2016-04-28</td>\n",
       "      <td>0.0</td>\n",
       "      <td>0.000000</td>\n",
       "      <td>0.000000</td>\n",
       "      <td>136.127825</td>\n",
       "      <td>CDS&gt;=85</td>\n",
       "    </tr>\n",
       "    <tr>\n",
       "      <th>410564</th>\n",
       "      <td>515987.0</td>\n",
       "      <td>2016-04-28</td>\n",
       "      <td>0.0</td>\n",
       "      <td>0.000000</td>\n",
       "      <td>0.000000</td>\n",
       "      <td>157.835528</td>\n",
       "      <td>CDS&gt;=85</td>\n",
       "    </tr>\n",
       "    <tr>\n",
       "      <th>410585</th>\n",
       "      <td>543106.0</td>\n",
       "      <td>2016-04-28</td>\n",
       "      <td>0.0</td>\n",
       "      <td>0.000000</td>\n",
       "      <td>0.000000</td>\n",
       "      <td>88.940099</td>\n",
       "      <td>CDS&gt;=85</td>\n",
       "    </tr>\n",
       "    <tr>\n",
       "      <th>410589</th>\n",
       "      <td>551880.0</td>\n",
       "      <td>2016-04-28</td>\n",
       "      <td>0.0</td>\n",
       "      <td>0.000000</td>\n",
       "      <td>0.000000</td>\n",
       "      <td>115.745357</td>\n",
       "      <td>CDS&gt;=85</td>\n",
       "    </tr>\n",
       "    <tr>\n",
       "      <th>410590</th>\n",
       "      <td>552159.0</td>\n",
       "      <td>2016-04-28</td>\n",
       "      <td>0.0</td>\n",
       "      <td>0.000000</td>\n",
       "      <td>0.000000</td>\n",
       "      <td>89.588221</td>\n",
       "      <td>CDS&gt;=85</td>\n",
       "    </tr>\n",
       "    <tr>\n",
       "      <th>410600</th>\n",
       "      <td>564163.0</td>\n",
       "      <td>2016-04-28</td>\n",
       "      <td>0.0</td>\n",
       "      <td>0.000000</td>\n",
       "      <td>0.000000</td>\n",
       "      <td>118.638502</td>\n",
       "      <td>CDS&gt;=85</td>\n",
       "    </tr>\n",
       "    <tr>\n",
       "      <th>410609</th>\n",
       "      <td>581745.0</td>\n",
       "      <td>2016-04-28</td>\n",
       "      <td>0.0</td>\n",
       "      <td>0.000000</td>\n",
       "      <td>0.000000</td>\n",
       "      <td>140.778310</td>\n",
       "      <td>CDS&gt;=85</td>\n",
       "    </tr>\n",
       "    <tr>\n",
       "      <th>410622</th>\n",
       "      <td>609161.0</td>\n",
       "      <td>2016-04-28</td>\n",
       "      <td>0.0</td>\n",
       "      <td>0.000000</td>\n",
       "      <td>0.000000</td>\n",
       "      <td>237.616155</td>\n",
       "      <td>CDS&gt;=85</td>\n",
       "    </tr>\n",
       "    <tr>\n",
       "      <th>410623</th>\n",
       "      <td>609820.0</td>\n",
       "      <td>2016-04-28</td>\n",
       "      <td>0.0</td>\n",
       "      <td>0.000000</td>\n",
       "      <td>0.000000</td>\n",
       "      <td>141.969800</td>\n",
       "      <td>CDS&gt;=85</td>\n",
       "    </tr>\n",
       "    <tr>\n",
       "      <th>410625</th>\n",
       "      <td>611741.0</td>\n",
       "      <td>2016-04-28</td>\n",
       "      <td>0.0</td>\n",
       "      <td>0.000000</td>\n",
       "      <td>0.000000</td>\n",
       "      <td>144.946839</td>\n",
       "      <td>CDS&gt;=85</td>\n",
       "    </tr>\n",
       "    <tr>\n",
       "      <th>410626</th>\n",
       "      <td>615068.0</td>\n",
       "      <td>2016-04-28</td>\n",
       "      <td>0.0</td>\n",
       "      <td>0.000000</td>\n",
       "      <td>0.000000</td>\n",
       "      <td>199.476565</td>\n",
       "      <td>CDS&gt;=85</td>\n",
       "    </tr>\n",
       "    <tr>\n",
       "      <th>410636</th>\n",
       "      <td>645224.0</td>\n",
       "      <td>2016-04-28</td>\n",
       "      <td>0.0</td>\n",
       "      <td>0.000000</td>\n",
       "      <td>0.000000</td>\n",
       "      <td>90.312228</td>\n",
       "      <td>CDS&gt;=85</td>\n",
       "    </tr>\n",
       "    <tr>\n",
       "      <th>410639</th>\n",
       "      <td>654199.0</td>\n",
       "      <td>2016-04-28</td>\n",
       "      <td>0.0</td>\n",
       "      <td>0.000000</td>\n",
       "      <td>0.000000</td>\n",
       "      <td>104.720940</td>\n",
       "      <td>CDS&gt;=85</td>\n",
       "    </tr>\n",
       "    <tr>\n",
       "      <th>410640</th>\n",
       "      <td>657296.0</td>\n",
       "      <td>2016-04-28</td>\n",
       "      <td>0.0</td>\n",
       "      <td>0.000000</td>\n",
       "      <td>0.000000</td>\n",
       "      <td>128.600003</td>\n",
       "      <td>CDS&gt;=85</td>\n",
       "    </tr>\n",
       "    <tr>\n",
       "      <th>410641</th>\n",
       "      <td>664813.0</td>\n",
       "      <td>2016-04-28</td>\n",
       "      <td>0.0</td>\n",
       "      <td>0.000000</td>\n",
       "      <td>0.000000</td>\n",
       "      <td>89.983515</td>\n",
       "      <td>CDS&gt;=85</td>\n",
       "    </tr>\n",
       "    <tr>\n",
       "      <th>410642</th>\n",
       "      <td>671913.0</td>\n",
       "      <td>2016-04-28</td>\n",
       "      <td>0.0</td>\n",
       "      <td>0.000000</td>\n",
       "      <td>0.000000</td>\n",
       "      <td>127.610697</td>\n",
       "      <td>CDS&gt;=85</td>\n",
       "    </tr>\n",
       "  </tbody>\n",
       "</table>\n",
       "<p>16159 rows × 7 columns</p>\n",
       "</div>"
      ],
      "text/plain": [
       "          doc_id  replydate  replies  response_median_hrs        DDS  \\\n",
       "1        52953.0 2015-10-09     18.0             5.450000  84.421650   \n",
       "2       123102.0 2015-09-09      2.0             0.416667  89.955336   \n",
       "3       140576.0 2015-09-03      2.0             2.100000  49.946596   \n",
       "6        52953.0 2015-08-27      2.0             1.300000  85.789436   \n",
       "7        37438.0 2015-09-03     13.0             1.583333  77.575836   \n",
       "9       123102.0 2015-09-21      3.0             1.733333  84.974412   \n",
       "10      138793.0 2015-10-15      5.0             1.216667  73.171622   \n",
       "11      153932.0 2016-03-14      2.0             0.000000  76.665416   \n",
       "12       52953.0 2015-09-13     11.0            11.650000  72.043500   \n",
       "14       37438.0 2015-09-08      3.0             3.750000  35.080096   \n",
       "16      138525.0 2016-01-28      4.0             1.283333  58.512310   \n",
       "17      131142.0 2016-01-15      3.0             1.000000  81.428821   \n",
       "21       14047.0 2016-01-04      2.0             0.083333  82.722602   \n",
       "23       20266.0 2015-09-25      3.0             0.916667  70.461057   \n",
       "25      286563.0 2016-01-11      3.0             0.133333  75.274235   \n",
       "26       37438.0 2015-10-24      5.0             7.150000  68.392116   \n",
       "27      391436.0 2016-02-07     13.0             4.200000  78.876170   \n",
       "28       52953.0 2015-09-26     10.0             5.516667  82.914139   \n",
       "30      138793.0 2016-02-23      1.0             1.200000  59.369342   \n",
       "32      230794.0 2016-02-26      2.0             1.300000  86.733436   \n",
       "33      153932.0 2015-12-11      2.0             0.000000  78.118016   \n",
       "34      240563.0 2016-02-25      1.0             1.900000  59.398352   \n",
       "37       19428.0 2015-08-27      9.0             0.850000  86.041805   \n",
       "38      114050.0 2015-08-20      3.0             0.400000  70.898751   \n",
       "39      123102.0 2015-09-03      3.0             2.733333  80.893479   \n",
       "41      246645.0 2015-10-04     27.0             5.550000  79.471100   \n",
       "42      276026.0 2015-12-01      3.0             1.466667  87.113985   \n",
       "43      189517.0 2016-04-27      2.0             3.283333  57.848906   \n",
       "44       26403.0 2015-11-24      3.0             0.100000  83.969451   \n",
       "45      294084.0 2016-01-09      3.0             2.100000  26.332651   \n",
       "...          ...        ...      ...                  ...        ...   \n",
       "410102  174525.0 2016-04-28      0.0             0.000000   0.000000   \n",
       "410136  189517.0 2016-04-28      0.0             0.000000   0.000000   \n",
       "410140  190139.0 2016-04-28      0.0             0.000000   0.000000   \n",
       "410197  205638.0 2016-04-28      0.0             0.000000   0.000000   \n",
       "410205  209166.0 2016-04-28      0.0             0.000000   0.000000   \n",
       "410207  210156.0 2016-04-28      0.0             0.000000   0.000000   \n",
       "410275  230794.0 2016-04-28      0.0             0.000000   0.000000   \n",
       "410315  251382.0 2016-04-28      0.0             0.000000   0.000000   \n",
       "410341  279348.0 2016-04-28      0.0             0.000000   0.000000   \n",
       "410360  288481.0 2016-04-28      0.0             0.000000   0.000000   \n",
       "410365  294084.0 2016-04-28      0.0             0.000000   0.000000   \n",
       "410452  362355.0 2016-04-28      0.0             0.000000   0.000000   \n",
       "410465  381869.0 2016-04-28      0.0             0.000000   0.000000   \n",
       "410511  430889.0 2016-04-28      0.0             0.000000   0.000000   \n",
       "410540  471825.0 2016-04-28      0.0             0.000000   0.000000   \n",
       "410564  515987.0 2016-04-28      0.0             0.000000   0.000000   \n",
       "410585  543106.0 2016-04-28      0.0             0.000000   0.000000   \n",
       "410589  551880.0 2016-04-28      0.0             0.000000   0.000000   \n",
       "410590  552159.0 2016-04-28      0.0             0.000000   0.000000   \n",
       "410600  564163.0 2016-04-28      0.0             0.000000   0.000000   \n",
       "410609  581745.0 2016-04-28      0.0             0.000000   0.000000   \n",
       "410622  609161.0 2016-04-28      0.0             0.000000   0.000000   \n",
       "410623  609820.0 2016-04-28      0.0             0.000000   0.000000   \n",
       "410625  611741.0 2016-04-28      0.0             0.000000   0.000000   \n",
       "410626  615068.0 2016-04-28      0.0             0.000000   0.000000   \n",
       "410636  645224.0 2016-04-28      0.0             0.000000   0.000000   \n",
       "410639  654199.0 2016-04-28      0.0             0.000000   0.000000   \n",
       "410640  657296.0 2016-04-28      0.0             0.000000   0.000000   \n",
       "410641  664813.0 2016-04-28      0.0             0.000000   0.000000   \n",
       "410642  671913.0 2016-04-28      0.0             0.000000   0.000000   \n",
       "\n",
       "               CDS CDS_Labels  \n",
       "1       417.979900    CDS>=85  \n",
       "2       252.088333    CDS>=85  \n",
       "3       127.411756    CDS>=85  \n",
       "6       196.322187    CDS>=85  \n",
       "7       286.583912    CDS>=85  \n",
       "9       210.087644    CDS>=85  \n",
       "10      152.663690    CDS>=85  \n",
       "11      164.062372    CDS>=85  \n",
       "12      437.967703    CDS>=85  \n",
       "14      331.088902    CDS>=85  \n",
       "16      137.685879    CDS>=85  \n",
       "17      306.037790    CDS>=85  \n",
       "21       94.913961    CDS>=85  \n",
       "23      190.852048    CDS>=85  \n",
       "25       91.957013    CDS>=85  \n",
       "26      380.935923    CDS>=85  \n",
       "27      212.376956    CDS>=85  \n",
       "28      507.061106    CDS>=85  \n",
       "30      261.504285    CDS>=85  \n",
       "32      359.494738    CDS>=85  \n",
       "33      121.022568    CDS>=85  \n",
       "34      148.746353    CDS>=85  \n",
       "37      135.416615    CDS>=85  \n",
       "38      149.648443    CDS>=85  \n",
       "39      176.144861    CDS>=85  \n",
       "41      231.256444    CDS>=85  \n",
       "42      288.734332    CDS>=85  \n",
       "43      126.839650    CDS>=85  \n",
       "44      403.673440    CDS>=85  \n",
       "45      343.523986    CDS>=85  \n",
       "...            ...        ...  \n",
       "410102   93.946307    CDS>=85  \n",
       "410136  110.448566    CDS>=85  \n",
       "410140  133.255285    CDS>=85  \n",
       "410197  213.172791    CDS>=85  \n",
       "410205  128.374552    CDS>=85  \n",
       "410207  150.262569    CDS>=85  \n",
       "410275  205.439728    CDS>=85  \n",
       "410315  203.377953    CDS>=85  \n",
       "410341  114.178186    CDS>=85  \n",
       "410360  272.059427    CDS>=85  \n",
       "410365  194.560132    CDS>=85  \n",
       "410452  146.809154    CDS>=85  \n",
       "410465  104.647844    CDS>=85  \n",
       "410511   87.943694    CDS>=85  \n",
       "410540  136.127825    CDS>=85  \n",
       "410564  157.835528    CDS>=85  \n",
       "410585   88.940099    CDS>=85  \n",
       "410589  115.745357    CDS>=85  \n",
       "410590   89.588221    CDS>=85  \n",
       "410600  118.638502    CDS>=85  \n",
       "410609  140.778310    CDS>=85  \n",
       "410622  237.616155    CDS>=85  \n",
       "410623  141.969800    CDS>=85  \n",
       "410625  144.946839    CDS>=85  \n",
       "410626  199.476565    CDS>=85  \n",
       "410636   90.312228    CDS>=85  \n",
       "410639  104.720940    CDS>=85  \n",
       "410640  128.600003    CDS>=85  \n",
       "410641   89.983515    CDS>=85  \n",
       "410642  127.610697    CDS>=85  \n",
       "\n",
       "[16159 rows x 7 columns]"
      ]
     },
     "execution_count": 14,
     "metadata": {},
     "output_type": "execute_result"
    }
   ],
   "source": [
    "concatenate = concatenate.fillna(0)\n",
    "concatenate[concatenate['CDS_Labels'] == 'CDS>=85']"
   ]
  },
  {
   "cell_type": "code",
   "execution_count": 147,
   "metadata": {
    "collapsed": false
   },
   "outputs": [
    {
     "data": {
      "text/plain": [
       "count    14652.000000\n",
       "mean         1.682978\n",
       "std          3.076044\n",
       "min          0.000000\n",
       "25%          0.000000\n",
       "50%          1.000000\n",
       "75%          2.000000\n",
       "max         50.000000\n",
       "Name: replies, dtype: float64"
      ]
     },
     "execution_count": 147,
     "metadata": {},
     "output_type": "execute_result"
    }
   ],
   "source": [
    "concatenate[concatenate['CDS_Labels'] == 'CDS>=85']['replies'].describe()"
   ]
  },
  {
   "cell_type": "code",
   "execution_count": 21,
   "metadata": {
    "collapsed": false
   },
   "outputs": [
    {
     "data": {
      "text/plain": [
       "count    8194.000000\n",
       "mean        6.267671\n",
       "std        34.652834\n",
       "min        -0.083333\n",
       "25%         0.283333\n",
       "50%         1.350000\n",
       "75%         4.150000\n",
       "max      1159.500000\n",
       "Name: response_median_hrs, dtype: float64"
      ]
     },
     "execution_count": 21,
     "metadata": {},
     "output_type": "execute_result"
    }
   ],
   "source": [
    "concatenate[(concatenate['CDS_Labels'] == 'CDS>=85') & (concatenate['replies'] > 0)]['response_median_hrs'].describe()"
   ]
  },
  {
   "cell_type": "code",
   "execution_count": null,
   "metadata": {
    "collapsed": true
   },
   "outputs": [],
   "source": [
    "concatenate[(concatenate['CDS_Labels'] == 'CDS>=85') & (concatenate['replies'] > 0)]['response_median_hrs'].describe()"
   ]
  },
  {
   "cell_type": "code",
   "execution_count": 148,
   "metadata": {
    "collapsed": false
   },
   "outputs": [
    {
     "data": {
      "text/plain": [
       "<matplotlib.axes._subplots.AxesSubplot at 0x11702b050>"
      ]
     },
     "execution_count": 148,
     "metadata": {},
     "output_type": "execute_result"
    },
    {
     "data": {
      "image/png": "[encoded data removed]",
      "text/plain": [
       "<matplotlib.figure.Figure at 0x111f41c10>"
      ]
     },
     "metadata": {},
     "output_type": "display_data"
    }
   ],
   "source": [
    "concatenate[concatenate['CDS_Labels'] == 'CDS>=85']['replies'].plot('kde')"
   ]
  },
  {
   "cell_type": "code",
   "execution_count": 15,
   "metadata": {
    "collapsed": false
   },
   "outputs": [
    {
     "data": {
      "text/plain": [
       "count    74217.000000\n",
       "mean         0.125659\n",
       "std          0.704416\n",
       "min          0.000000\n",
       "25%          0.000000\n",
       "50%          0.000000\n",
       "75%          0.000000\n",
       "max         39.000000\n",
       "Name: replies, dtype: float64"
      ]
     },
     "execution_count": 15,
     "metadata": {},
     "output_type": "execute_result"
    }
   ],
   "source": [
    "concatenate[concatenate['CDS_Labels'] == 'CDS<85']['replies'].describe()"
   ]
  },
  {
   "cell_type": "code",
   "execution_count": 16,
   "metadata": {
    "collapsed": false
   },
   "outputs": [
    {
     "data": {
      "text/plain": [
       "<matplotlib.axes._subplots.AxesSubplot at 0x107e28f10>"
      ]
     },
     "execution_count": 16,
     "metadata": {},
     "output_type": "execute_result"
    },
    {
     "data": {
      "image/png": "[encoded data removed]",
      "text/plain": [
       "<matplotlib.figure.Figure at 0x107e28850>"
      ]
     },
     "metadata": {},
     "output_type": "display_data"
    }
   ],
   "source": [
    "concatenate[concatenate['CDS_Labels'] == 'CDS<85']['replies'].plot('kde')"
   ]
  },
  {
   "cell_type": "code",
   "execution_count": 35,
   "metadata": {
    "collapsed": false
   },
   "outputs": [
    {
     "data": {
      "text/plain": [
       "doc_id              float64\n",
       "replydate    datetime64[ns]\n",
       "assigned            float64\n",
       "dtype: object"
      ]
     },
     "execution_count": 35,
     "metadata": {},
     "output_type": "execute_result"
    }
   ],
   "source": [
    "table3 = pd.read_csv('File33.csv')\n",
    "table3['replydate'] = pd.to_datetime(table3['replydate'])\n",
    "table3['doc_id'] = table3['doc_id']*1.0\n",
    "table3['assigned'] = table3['assigned']*1.0\n",
    "table3.head()\n",
    "table3.dtypes"
   ]
  },
  {
   "cell_type": "code",
   "execution_count": 36,
   "metadata": {
    "collapsed": true
   },
   "outputs": [],
   "source": [
    "\n",
    "resultxx = pd.merge(concatenate, table3, how = 'left', on=['doc_id', 'replydate'])"
   ]
  },
  {
   "cell_type": "code",
   "execution_count": 44,
   "metadata": {
    "collapsed": false
   },
   "outputs": [
    {
     "data": {
      "text/html": [
       "<div>\n",
       "<table border=\"1\" class=\"dataframe\">\n",
       "  <thead>\n",
       "    <tr style=\"text-align: right;\">\n",
       "      <th></th>\n",
       "      <th>doc_id</th>\n",
       "      <th>replydate</th>\n",
       "      <th>replies</th>\n",
       "      <th>response_median_hrs</th>\n",
       "      <th>DDS</th>\n",
       "      <th>CDS</th>\n",
       "      <th>CDS_Labels</th>\n",
       "      <th>assigned</th>\n",
       "      <th>answered/assigned</th>\n",
       "    </tr>\n",
       "  </thead>\n",
       "  <tbody>\n",
       "    <tr>\n",
       "      <th>0</th>\n",
       "      <td>153932.0</td>\n",
       "      <td>2015-06-30</td>\n",
       "      <td>2.0</td>\n",
       "      <td>2.100000</td>\n",
       "      <td>57.361046</td>\n",
       "      <td>0.000000</td>\n",
       "      <td>CDS=0</td>\n",
       "      <td>3.0</td>\n",
       "      <td>0.666667</td>\n",
       "    </tr>\n",
       "    <tr>\n",
       "      <th>1</th>\n",
       "      <td>52953.0</td>\n",
       "      <td>2015-10-09</td>\n",
       "      <td>18.0</td>\n",
       "      <td>5.450000</td>\n",
       "      <td>84.421650</td>\n",
       "      <td>417.979900</td>\n",
       "      <td>CDS&gt;=85</td>\n",
       "      <td>23.0</td>\n",
       "      <td>0.782609</td>\n",
       "    </tr>\n",
       "    <tr>\n",
       "      <th>2</th>\n",
       "      <td>123102.0</td>\n",
       "      <td>2015-09-09</td>\n",
       "      <td>2.0</td>\n",
       "      <td>0.416667</td>\n",
       "      <td>89.955336</td>\n",
       "      <td>252.088333</td>\n",
       "      <td>CDS&gt;=85</td>\n",
       "      <td>3.0</td>\n",
       "      <td>0.666667</td>\n",
       "    </tr>\n",
       "    <tr>\n",
       "      <th>3</th>\n",
       "      <td>140576.0</td>\n",
       "      <td>2015-09-03</td>\n",
       "      <td>2.0</td>\n",
       "      <td>2.100000</td>\n",
       "      <td>49.946596</td>\n",
       "      <td>127.411756</td>\n",
       "      <td>CDS&gt;=85</td>\n",
       "      <td>9.0</td>\n",
       "      <td>0.222222</td>\n",
       "    </tr>\n",
       "    <tr>\n",
       "      <th>4</th>\n",
       "      <td>3682.0</td>\n",
       "      <td>2015-09-16</td>\n",
       "      <td>1.0</td>\n",
       "      <td>1.516667</td>\n",
       "      <td>80.090638</td>\n",
       "      <td>69.722985</td>\n",
       "      <td>CDS&lt;85</td>\n",
       "      <td>8.0</td>\n",
       "      <td>0.125000</td>\n",
       "    </tr>\n",
       "  </tbody>\n",
       "</table>\n",
       "</div>"
      ],
      "text/plain": [
       "     doc_id  replydate  replies  response_median_hrs        DDS         CDS  \\\n",
       "0  153932.0 2015-06-30      2.0             2.100000  57.361046    0.000000   \n",
       "1   52953.0 2015-10-09     18.0             5.450000  84.421650  417.979900   \n",
       "2  123102.0 2015-09-09      2.0             0.416667  89.955336  252.088333   \n",
       "3  140576.0 2015-09-03      2.0             2.100000  49.946596  127.411756   \n",
       "4    3682.0 2015-09-16      1.0             1.516667  80.090638   69.722985   \n",
       "\n",
       "  CDS_Labels  assigned  answered/assigned  \n",
       "0      CDS=0       3.0           0.666667  \n",
       "1    CDS>=85      23.0           0.782609  \n",
       "2    CDS>=85       3.0           0.666667  \n",
       "3    CDS>=85       9.0           0.222222  \n",
       "4     CDS<85       8.0           0.125000  "
      ]
     },
     "execution_count": 44,
     "metadata": {},
     "output_type": "execute_result"
    }
   ],
   "source": [
    "resultxx.fillna(0)\n",
    "resultxx['answered/assigned'] = resultxx['replies']/resultxx['assigned']\n",
    "resultxx.head()"
   ]
  },
  {
   "cell_type": "code",
   "execution_count": 39,
   "metadata": {
    "collapsed": false
   },
   "outputs": [
    {
     "data": {
      "text/plain": [
       "count    12075.000000\n",
       "mean         7.009524\n",
       "std         12.249403\n",
       "min          1.000000\n",
       "25%          2.000000\n",
       "50%          4.000000\n",
       "75%          7.500000\n",
       "max        388.000000\n",
       "Name: assigned, dtype: float64"
      ]
     },
     "execution_count": 39,
     "metadata": {},
     "output_type": "execute_result"
    }
   ],
   "source": [
    "resultxx[resultxx['CDS_Labels'] == 'CDS>=85']['assigned'].describe()"
   ]
  },
  {
   "cell_type": "code",
   "execution_count": 40,
   "metadata": {
    "collapsed": false
   },
   "outputs": [
    {
     "data": {
      "text/plain": [
       "count    30752.000000\n",
       "mean         3.748959\n",
       "std          6.077764\n",
       "min          1.000000\n",
       "25%          1.000000\n",
       "50%          2.000000\n",
       "75%          4.000000\n",
       "max        226.000000\n",
       "Name: assigned, dtype: float64"
      ]
     },
     "execution_count": 40,
     "metadata": {},
     "output_type": "execute_result"
    }
   ],
   "source": [
    "resultxx[resultxx['CDS_Labels'] == 'CDS<85']['assigned'].describe()"
   ]
  },
  {
   "cell_type": "code",
   "execution_count": 42,
   "metadata": {
    "collapsed": false
   },
   "outputs": [
    {
     "data": {
      "text/plain": [
       "count    74217.000000\n",
       "mean         0.125659\n",
       "std          0.704416\n",
       "min          0.000000\n",
       "25%          0.000000\n",
       "50%          0.000000\n",
       "75%          0.000000\n",
       "max         39.000000\n",
       "Name: replies, dtype: float64"
      ]
     },
     "execution_count": 42,
     "metadata": {},
     "output_type": "execute_result"
    }
   ],
   "source": [
    "resultxx[resultxx['CDS_Labels'] == 'CDS<85']['replies'].describe()"
   ]
  },
  {
   "cell_type": "code",
   "execution_count": 51,
   "metadata": {
    "collapsed": false
   },
   "outputs": [
    {
     "data": {
      "text/plain": [
       "nan"
      ]
     },
     "execution_count": 51,
     "metadata": {},
     "output_type": "execute_result"
    }
   ],
   "source": [
    "np.percentile(resultxx[resultxx['CDS_Labels'] == 'CDS<85']['answered/assigned'].values, 90)"
   ]
  },
  {
   "cell_type": "code",
   "execution_count": 81,
   "metadata": {
    "collapsed": false
   },
   "outputs": [],
   "source": [
    "poor_docs_ans_percent = resultxx[resultxx['CDS_Labels'] == 'CDS<85'].groupby('replydate').sum()['replies'] / resultxx[resultxx['CDS_Labels'] == 'CDS<85'].groupby('replydate').sum()['assigned']"
   ]
  },
  {
   "cell_type": "code",
   "execution_count": 84,
   "metadata": {
    "collapsed": false
   },
   "outputs": [
    {
     "data": {
      "text/plain": [
       "count    268.000000\n",
       "mean       0.090171\n",
       "std        0.074155\n",
       "min        0.000000\n",
       "25%        0.046035\n",
       "50%        0.075997\n",
       "75%        0.111246\n",
       "max        0.923077\n",
       "dtype: float64"
      ]
     },
     "execution_count": 84,
     "metadata": {},
     "output_type": "execute_result"
    }
   ],
   "source": [
    "poor_docs_ans_percent.describe()"
   ]
  },
  {
   "cell_type": "code",
   "execution_count": 85,
   "metadata": {
    "collapsed": true
   },
   "outputs": [],
   "source": [
    "good_docs_ans_percent = resultxx[resultxx['CDS_Labels'] == 'CDS>=85'].groupby('replydate').sum()['replies'] / resultxx[resultxx['CDS_Labels'] == 'CDS>=85'].groupby('replydate').sum()['assigned']"
   ]
  },
  {
   "cell_type": "code",
   "execution_count": 86,
   "metadata": {
    "collapsed": false
   },
   "outputs": [
    {
     "data": {
      "text/plain": [
       "count    268.000000\n",
       "mean       0.325415\n",
       "std        0.103938\n",
       "min        0.032086\n",
       "25%        0.252144\n",
       "50%        0.326453\n",
       "75%        0.389585\n",
       "max        0.678571\n",
       "dtype: float64"
      ]
     },
     "execution_count": 86,
     "metadata": {},
     "output_type": "execute_result"
    }
   ],
   "source": [
    "good_docs_ans_percent.describe()"
   ]
  },
  {
   "cell_type": "code",
   "execution_count": 77,
   "metadata": {
    "collapsed": false
   },
   "outputs": [
    {
     "data": {
      "text/plain": [
       "3577.0"
      ]
     },
     "execution_count": 77,
     "metadata": {},
     "output_type": "execute_result"
    }
   ],
   "source": [
    "sum(resultxx[resultxx['replydate']=='2016-04-28']['assigned'])"
   ]
  },
  {
   "cell_type": "code",
   "execution_count": 75,
   "metadata": {
    "collapsed": false
   },
   "outputs": [
    {
     "data": {
      "text/plain": [
       "69073"
      ]
     },
     "execution_count": 75,
     "metadata": {},
     "output_type": "execute_result"
    }
   ],
   "source": [
    "len(resultxx)"
   ]
  },
  {
   "cell_type": "code",
   "execution_count": 57,
   "metadata": {
    "collapsed": false
   },
   "outputs": [
    {
     "data": {
      "text/html": [
       "<div>\n",
       "<table border=\"1\" class=\"dataframe\">\n",
       "  <thead>\n",
       "    <tr style=\"text-align: right;\">\n",
       "      <th></th>\n",
       "      <th>doc_id</th>\n",
       "      <th>replydate</th>\n",
       "      <th>replies</th>\n",
       "      <th>response_median_hrs</th>\n",
       "      <th>DDS</th>\n",
       "      <th>CDS</th>\n",
       "      <th>CDS_Labels</th>\n",
       "      <th>assigned</th>\n",
       "      <th>answered/assigned</th>\n",
       "    </tr>\n",
       "  </thead>\n",
       "  <tbody>\n",
       "    <tr>\n",
       "      <th>0</th>\n",
       "      <td>153932.0</td>\n",
       "      <td>2015-06-30</td>\n",
       "      <td>2.0</td>\n",
       "      <td>2.100000</td>\n",
       "      <td>57.361046</td>\n",
       "      <td>0.000000</td>\n",
       "      <td>CDS=0</td>\n",
       "      <td>3.0</td>\n",
       "      <td>0.666667</td>\n",
       "    </tr>\n",
       "    <tr>\n",
       "      <th>1</th>\n",
       "      <td>52953.0</td>\n",
       "      <td>2015-10-09</td>\n",
       "      <td>18.0</td>\n",
       "      <td>5.450000</td>\n",
       "      <td>84.421650</td>\n",
       "      <td>417.979900</td>\n",
       "      <td>CDS&gt;=85</td>\n",
       "      <td>23.0</td>\n",
       "      <td>0.782609</td>\n",
       "    </tr>\n",
       "    <tr>\n",
       "      <th>2</th>\n",
       "      <td>123102.0</td>\n",
       "      <td>2015-09-09</td>\n",
       "      <td>2.0</td>\n",
       "      <td>0.416667</td>\n",
       "      <td>89.955336</td>\n",
       "      <td>252.088333</td>\n",
       "      <td>CDS&gt;=85</td>\n",
       "      <td>3.0</td>\n",
       "      <td>0.666667</td>\n",
       "    </tr>\n",
       "    <tr>\n",
       "      <th>3</th>\n",
       "      <td>140576.0</td>\n",
       "      <td>2015-09-03</td>\n",
       "      <td>2.0</td>\n",
       "      <td>2.100000</td>\n",
       "      <td>49.946596</td>\n",
       "      <td>127.411756</td>\n",
       "      <td>CDS&gt;=85</td>\n",
       "      <td>9.0</td>\n",
       "      <td>0.222222</td>\n",
       "    </tr>\n",
       "    <tr>\n",
       "      <th>4</th>\n",
       "      <td>3682.0</td>\n",
       "      <td>2015-09-16</td>\n",
       "      <td>1.0</td>\n",
       "      <td>1.516667</td>\n",
       "      <td>80.090638</td>\n",
       "      <td>69.722985</td>\n",
       "      <td>CDS&lt;85</td>\n",
       "      <td>8.0</td>\n",
       "      <td>0.125000</td>\n",
       "    </tr>\n",
       "  </tbody>\n",
       "</table>\n",
       "</div>"
      ],
      "text/plain": [
       "     doc_id  replydate  replies  response_median_hrs        DDS         CDS  \\\n",
       "0  153932.0 2015-06-30      2.0             2.100000  57.361046    0.000000   \n",
       "1   52953.0 2015-10-09     18.0             5.450000  84.421650  417.979900   \n",
       "2  123102.0 2015-09-09      2.0             0.416667  89.955336  252.088333   \n",
       "3  140576.0 2015-09-03      2.0             2.100000  49.946596  127.411756   \n",
       "4    3682.0 2015-09-16      1.0             1.516667  80.090638   69.722985   \n",
       "\n",
       "  CDS_Labels  assigned  answered/assigned  \n",
       "0      CDS=0       3.0           0.666667  \n",
       "1    CDS>=85      23.0           0.782609  \n",
       "2    CDS>=85       3.0           0.666667  \n",
       "3    CDS>=85       9.0           0.222222  \n",
       "4     CDS<85       8.0           0.125000  "
      ]
     },
     "execution_count": 57,
     "metadata": {},
     "output_type": "execute_result"
    }
   ],
   "source": [
    "resultxx.head()"
   ]
  },
  {
   "cell_type": "code",
   "execution_count": 47,
   "metadata": {
    "collapsed": false
   },
   "outputs": [
    {
     "data": {
      "text/plain": [
       "count    12075.000000\n",
       "mean         0.474133\n",
       "std          0.522229\n",
       "min          0.000000\n",
       "25%          0.000000\n",
       "50%          0.333333\n",
       "75%          1.000000\n",
       "max          9.500000\n",
       "Name: answered/assigned, dtype: float64"
      ]
     },
     "execution_count": 47,
     "metadata": {},
     "output_type": "execute_result"
    }
   ],
   "source": [
    "resultxx[resultxx['CDS_Labels'] == 'CDS>=85']['answered/assigned'].describe()"
   ]
  },
  {
   "cell_type": "code",
   "execution_count": null,
   "metadata": {
    "collapsed": true
   },
   "outputs": [],
   "source": []
  }
 ],
 "metadata": {
  "kernelspec": {
   "display_name": "Python 2",
   "language": "python",
   "name": "python2"
  },
  "language_info": {
   "codemirror_mode": {
    "name": "ipython",
    "version": 2
   },
   "file_extension": ".py",
   "mimetype": "text/x-python",
   "name": "python",
   "nbconvert_exporter": "python",
   "pygments_lexer": "ipython2",
   "version": "2.7.10"
  }
 },
 "nbformat": 4,
 "nbformat_minor": 0
}
