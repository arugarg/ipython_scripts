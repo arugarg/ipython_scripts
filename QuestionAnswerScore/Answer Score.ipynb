{
 "cells": [
  {
   "cell_type": "code",
   "execution_count": 2,
   "metadata": {
    "collapsed": true
   },
   "outputs": [],
   "source": [
    "%matplotlib inline\n",
    "import numpy as np\n",
    "import re\n",
    "import pandas as pd\n",
    "import matplotlib.pyplot as plt"
   ]
  },
  {
   "cell_type": "code",
   "execution_count": 3,
   "metadata": {
    "collapsed": false
   },
   "outputs": [],
   "source": [
    "table = pd.read_csv('Answerrating.csv')"
   ]
  },
  {
   "cell_type": "code",
   "execution_count": 32,
   "metadata": {
    "collapsed": false
   },
   "outputs": [
    {
     "name": "stdout",
     "output_type": "stream",
     "text": [
      "100\n",
      "429\n"
     ]
    }
   ],
   "source": [
    "char_min = 100\n",
    "char_max = 429\n",
    "table['normalised_char_count_ques'] = table['qn'].map(lambda x: float(x - char_min)/(char_max - char_min) if x < char_max and x > char_min else\n",
    "0 if x < char_min else 1)\n",
    "print char_min\n",
    "print char_max"
   ]
  },
  {
   "cell_type": "code",
   "execution_count": 33,
   "metadata": {
    "collapsed": false
   },
   "outputs": [
    {
     "name": "stdout",
     "output_type": "stream",
     "text": [
      "29\n",
      "1300\n"
     ]
    }
   ],
   "source": [
    "char_min = 29\n",
    "char_max = 1300\n",
    "table['normalised_char_count_ans'] = table['answer'].map(lambda x: float(x - char_min)/(char_max - char_min) if x < char_max and x > char_min else\n",
    "0 if x < char_min else 1)\n",
    "print char_min\n",
    "print char_max"
   ]
  },
  {
   "cell_type": "code",
   "execution_count": 34,
   "metadata": {
    "collapsed": false
   },
   "outputs": [
    {
     "data": {
      "text/html": [
       "<div>\n",
       "<table border=\"1\" class=\"dataframe\">\n",
       "  <thead>\n",
       "    <tr style=\"text-align: right;\">\n",
       "      <th></th>\n",
       "      <th>text</th>\n",
       "      <th>text.1</th>\n",
       "      <th>qn</th>\n",
       "      <th>answer</th>\n",
       "      <th>rating</th>\n",
       "      <th>normalised_char_count_ques</th>\n",
       "      <th>normalised_char_count_ans</th>\n",
       "    </tr>\n",
       "  </thead>\n",
       "  <tbody>\n",
       "    <tr>\n",
       "      <th>0</th>\n",
       "      <td>My mom has to get teeth filling done..Do filli...</td>\n",
       "      <td>If you teeth have cavities they need fillings....</td>\n",
       "      <td>109</td>\n",
       "      <td>146</td>\n",
       "      <td>3</td>\n",
       "      <td>0.027356</td>\n",
       "      <td>0.092054</td>\n",
       "    </tr>\n",
       "    <tr>\n",
       "      <th>1</th>\n",
       "      <td>My child fell down yesterday and broke his you...</td>\n",
       "      <td>Baby teeth are precursors to adult teeth. A fa...</td>\n",
       "      <td>130</td>\n",
       "      <td>304</td>\n",
       "      <td>5</td>\n",
       "      <td>0.091185</td>\n",
       "      <td>0.216365</td>\n",
       "    </tr>\n",
       "    <tr>\n",
       "      <th>2</th>\n",
       "      <td>I am going to a photo shoot in 3 days... I wan...</td>\n",
       "      <td>Yes! Dental bleaching is commonly done for imp...</td>\n",
       "      <td>123</td>\n",
       "      <td>248</td>\n",
       "      <td>1</td>\n",
       "      <td>0.069909</td>\n",
       "      <td>0.172305</td>\n",
       "    </tr>\n",
       "    <tr>\n",
       "      <th>3</th>\n",
       "      <td>My grandson says that taking out front teeth c...</td>\n",
       "      <td>Believe it or not, this is one of the most com...</td>\n",
       "      <td>101</td>\n",
       "      <td>216</td>\n",
       "      <td>5</td>\n",
       "      <td>0.003040</td>\n",
       "      <td>0.147128</td>\n",
       "    </tr>\n",
       "    <tr>\n",
       "      <th>4</th>\n",
       "      <td>My child has pain in lower molar. Has not been...</td>\n",
       "      <td>I'm very sorry to hear that. the child is prob...</td>\n",
       "      <td>108</td>\n",
       "      <td>283</td>\n",
       "      <td>5</td>\n",
       "      <td>0.024316</td>\n",
       "      <td>0.199843</td>\n",
       "    </tr>\n",
       "  </tbody>\n",
       "</table>\n",
       "</div>"
      ],
      "text/plain": [
       "                                                text  \\\n",
       "0  My mom has to get teeth filling done..Do filli...   \n",
       "1  My child fell down yesterday and broke his you...   \n",
       "2  I am going to a photo shoot in 3 days... I wan...   \n",
       "3  My grandson says that taking out front teeth c...   \n",
       "4  My child has pain in lower molar. Has not been...   \n",
       "\n",
       "                                              text.1   qn  answer  rating  \\\n",
       "0  If you teeth have cavities they need fillings....  109     146       3   \n",
       "1  Baby teeth are precursors to adult teeth. A fa...  130     304       5   \n",
       "2  Yes! Dental bleaching is commonly done for imp...  123     248       1   \n",
       "3  Believe it or not, this is one of the most com...  101     216       5   \n",
       "4  I'm very sorry to hear that. the child is prob...  108     283       5   \n",
       "\n",
       "   normalised_char_count_ques  normalised_char_count_ans  \n",
       "0                    0.027356                   0.092054  \n",
       "1                    0.091185                   0.216365  \n",
       "2                    0.069909                   0.172305  \n",
       "3                    0.003040                   0.147128  \n",
       "4                    0.024316                   0.199843  "
      ]
     },
     "execution_count": 34,
     "metadata": {},
     "output_type": "execute_result"
    }
   ],
   "source": [
    "table.head()"
   ]
  },
  {
   "cell_type": "code",
   "execution_count": 35,
   "metadata": {
    "collapsed": false
   },
   "outputs": [
    {
     "data": {
      "text/html": [
       "<div>\n",
       "<table border=\"1\" class=\"dataframe\">\n",
       "  <thead>\n",
       "    <tr style=\"text-align: right;\">\n",
       "      <th></th>\n",
       "      <th>rating</th>\n",
       "      <th>normalised_char_count_ans</th>\n",
       "    </tr>\n",
       "  </thead>\n",
       "  <tbody>\n",
       "    <tr>\n",
       "      <th>rating</th>\n",
       "      <td>1.000000</td>\n",
       "      <td>0.133349</td>\n",
       "    </tr>\n",
       "    <tr>\n",
       "      <th>normalised_char_count_ans</th>\n",
       "      <td>0.133349</td>\n",
       "      <td>1.000000</td>\n",
       "    </tr>\n",
       "  </tbody>\n",
       "</table>\n",
       "</div>"
      ],
      "text/plain": [
       "                             rating  normalised_char_count_ans\n",
       "rating                     1.000000                   0.133349\n",
       "normalised_char_count_ans  0.133349                   1.000000"
      ]
     },
     "execution_count": 35,
     "metadata": {},
     "output_type": "execute_result"
    }
   ],
   "source": [
    "table[['rating', 'normalised_char_count_ans']].corr()"
   ]
  },
  {
   "cell_type": "code",
   "execution_count": 36,
   "metadata": {
    "collapsed": false
   },
   "outputs": [
    {
     "data": {
      "text/plain": [
       "<matplotlib.axes._subplots.AxesSubplot at 0x10a2e12d0>"
      ]
     },
     "execution_count": 36,
     "metadata": {},
     "output_type": "execute_result"
    },
    {
     "data": {
      "image/png": "[encoded data removed]",
      "text/plain": [
       "<matplotlib.figure.Figure at 0x10a54c150>"
      ]
     },
     "metadata": {},
     "output_type": "display_data"
    }
   ],
   "source": [
    "table[\"normalised_char_count_ans\"].plot(kind='kde')"
   ]
  },
  {
   "cell_type": "code",
   "execution_count": 15,
   "metadata": {
    "collapsed": false
   },
   "outputs": [],
   "source": [
    "import numpy as np"
   ]
  },
  {
   "cell_type": "code",
   "execution_count": 31,
   "metadata": {
    "collapsed": false
   },
   "outputs": [
    {
     "data": {
      "text/plain": [
       "1213.5199999999977"
      ]
     },
     "execution_count": 31,
     "metadata": {},
     "output_type": "execute_result"
    }
   ],
   "source": [
    "np.percentile(table[\"answer\"], 98)"
   ]
  },
  {
   "cell_type": "code",
   "execution_count": 37,
   "metadata": {
    "collapsed": false
   },
   "outputs": [
    {
     "data": {
      "text/plain": [
       "6087"
      ]
     },
     "execution_count": 37,
     "metadata": {},
     "output_type": "execute_result"
    }
   ],
   "source": [
    "len(table)"
   ]
  },
  {
   "cell_type": "code",
   "execution_count": 38,
   "metadata": {
    "collapsed": false
   },
   "outputs": [
    {
     "data": {
      "text/plain": [
       "array([[ 0.0920535 ],\n",
       "       [ 0.21636507],\n",
       "       [ 0.17230527],\n",
       "       ..., \n",
       "       [ 1.        ],\n",
       "       [ 0.11250983],\n",
       "       [ 0.07159717]])"
      ]
     },
     "execution_count": 38,
     "metadata": {},
     "output_type": "execute_result"
    }
   ],
   "source": [
    "np.array(table[[\"normalised_char_count_ans\"]])"
   ]
  },
  {
   "cell_type": "code",
   "execution_count": 39,
   "metadata": {
    "collapsed": false
   },
   "outputs": [],
   "source": [
    "from sklearn.linear_model import LinearRegression"
   ]
  },
  {
   "cell_type": "code",
   "execution_count": 40,
   "metadata": {
    "collapsed": true
   },
   "outputs": [],
   "source": [
    "lr = LinearRegression(fit_intercept=True, n_jobs=-1)"
   ]
  },
  {
   "cell_type": "code",
   "execution_count": 41,
   "metadata": {
    "collapsed": false
   },
   "outputs": [],
   "source": [
    "lr = lr.fit(np.array(table[[\"normalised_char_count_ans\"]]), table[\"rating\"].values)"
   ]
  },
  {
   "cell_type": "code",
   "execution_count": 42,
   "metadata": {
    "collapsed": false
   },
   "outputs": [
    {
     "data": {
      "text/plain": [
       "array([ 0.7081829])"
      ]
     },
     "execution_count": 42,
     "metadata": {},
     "output_type": "execute_result"
    }
   ],
   "source": [
    "lr.coef_"
   ]
  },
  {
   "cell_type": "code",
   "execution_count": 43,
   "metadata": {
    "collapsed": true
   },
   "outputs": [],
   "source": [
    "total = 0\n",
    "for x in table[\"rating\"] - lr.predict(np.array(table[[\"normalised_char_count_ans\"]])):\n",
    "    total += x*x"
   ]
  },
  {
   "cell_type": "code",
   "execution_count": 44,
   "metadata": {
    "collapsed": false
   },
   "outputs": [
    {
     "name": "stdout",
     "output_type": "stream",
     "text": [
      "1.06407373827\n"
     ]
    }
   ],
   "source": [
    "print(np.sqrt((float(1)/len(table)) * total))"
   ]
  },
  {
   "cell_type": "code",
   "execution_count": 45,
   "metadata": {
    "collapsed": false
   },
   "outputs": [
    {
     "data": {
      "text/plain": [
       "3.5374343478593597"
      ]
     },
     "execution_count": 45,
     "metadata": {},
     "output_type": "execute_result"
    }
   ],
   "source": [
    "lr.intercept_"
   ]
  },
  {
   "cell_type": "code",
   "execution_count": 46,
   "metadata": {
    "collapsed": false
   },
   "outputs": [
    {
     "data": {
      "text/html": [
       "<div>\n",
       "<table border=\"1\" class=\"dataframe\">\n",
       "  <thead>\n",
       "    <tr style=\"text-align: right;\">\n",
       "      <th></th>\n",
       "      <th>rating</th>\n",
       "      <th>normalised_char_count_ans</th>\n",
       "      <th>normalised_char_count_ques</th>\n",
       "    </tr>\n",
       "  </thead>\n",
       "  <tbody>\n",
       "    <tr>\n",
       "      <th>rating</th>\n",
       "      <td>1.000000</td>\n",
       "      <td>0.133349</td>\n",
       "      <td>0.001515</td>\n",
       "    </tr>\n",
       "    <tr>\n",
       "      <th>normalised_char_count_ans</th>\n",
       "      <td>0.133349</td>\n",
       "      <td>1.000000</td>\n",
       "      <td>0.054639</td>\n",
       "    </tr>\n",
       "    <tr>\n",
       "      <th>normalised_char_count_ques</th>\n",
       "      <td>0.001515</td>\n",
       "      <td>0.054639</td>\n",
       "      <td>1.000000</td>\n",
       "    </tr>\n",
       "  </tbody>\n",
       "</table>\n",
       "</div>"
      ],
      "text/plain": [
       "                              rating  normalised_char_count_ans  \\\n",
       "rating                      1.000000                   0.133349   \n",
       "normalised_char_count_ans   0.133349                   1.000000   \n",
       "normalised_char_count_ques  0.001515                   0.054639   \n",
       "\n",
       "                            normalised_char_count_ques  \n",
       "rating                                        0.001515  \n",
       "normalised_char_count_ans                     0.054639  \n",
       "normalised_char_count_ques                    1.000000  "
      ]
     },
     "execution_count": 46,
     "metadata": {},
     "output_type": "execute_result"
    }
   ],
   "source": [
    "table[[\"rating\", \"normalised_char_count_ans\", \"normalised_char_count_ques\"]].corr()"
   ]
  },
  {
   "cell_type": "code",
   "execution_count": 47,
   "metadata": {
    "collapsed": false
   },
   "outputs": [
    {
     "data": {
      "text/plain": [
       "<matplotlib.collections.PathCollection at 0x10a9fc050>"
      ]
     },
     "execution_count": 47,
     "metadata": {},
     "output_type": "execute_result"
    },
    {
     "data": {
      "image/png": "[encoded data removed]",
      "text/plain": [
       "<matplotlib.figure.Figure at 0x109f35090>"
      ]
     },
     "metadata": {},
     "output_type": "display_data"
    }
   ],
   "source": [
    "plt.scatter(table[\"rating\"], table[\"normalised_char_count_ques\"])"
   ]
  },
  {
   "cell_type": "code",
   "execution_count": 48,
   "metadata": {
    "collapsed": false
   },
   "outputs": [
    {
     "data": {
      "text/plain": [
       "<matplotlib.axes._subplots.AxesSubplot at 0x10aa2f410>"
      ]
     },
     "execution_count": 48,
     "metadata": {},
     "output_type": "execute_result"
    },
    {
     "data": {
      "image/png": "[encoded data removed]",
      "text/plain": [
       "<matplotlib.figure.Figure at 0x10a8f54d0>"
      ]
     },
     "metadata": {},
     "output_type": "display_data"
    }
   ],
   "source": [
    "table[[\"rating\", \"normalised_char_count_ans\"]].boxplot(by=\"rating\")"
   ]
  },
  {
   "cell_type": "code",
   "execution_count": 49,
   "metadata": {
    "collapsed": false
   },
   "outputs": [
    {
     "data": {
      "text/plain": [
       "<matplotlib.collections.PathCollection at 0x10ac99ed0>"
      ]
     },
     "execution_count": 49,
     "metadata": {},
     "output_type": "execute_result"
    },
    {
     "data": {
      "image/png": "[encoded data removed]",
      "text/plain": [
       "<matplotlib.figure.Figure at 0x10abcaf10>"
      ]
     },
     "metadata": {},
     "output_type": "display_data"
    }
   ],
   "source": [
    "plt.scatter(lr.predict(np.array(table[[\"normalised_char_count_ans\"]])), table[\"rating\"])"
   ]
  },
  {
   "cell_type": "code",
   "execution_count": null,
   "metadata": {
    "collapsed": true
   },
   "outputs": [],
   "source": []
  }
 ],
 "metadata": {
  "kernelspec": {
   "display_name": "Python 2",
   "language": "python",
   "name": "python2"
  },
  "language_info": {
   "codemirror_mode": {
    "name": "ipython",
    "version": 2
   },
   "file_extension": ".py",
   "mimetype": "text/x-python",
   "name": "python",
   "nbconvert_exporter": "python",
   "pygments_lexer": "ipython2",
   "version": "2.7.10"
  }
 },
 "nbformat": 4,
 "nbformat_minor": 0
}
