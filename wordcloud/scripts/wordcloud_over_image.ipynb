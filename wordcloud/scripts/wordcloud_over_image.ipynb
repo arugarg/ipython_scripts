{
 "cells": [
  {
   "cell_type": "code",
   "execution_count": 1,
   "metadata": {
    "collapsed": false
   },
   "outputs": [],
   "source": [
    "#!/usr/bin/env python\n",
    "\"\"\"\n",
    "Masked wordcloud\n",
    "================\n",
    "Using a mask you can generate wordclouds in arbitrary shapes.\n",
    "\"\"\"\n",
    "\n",
    "# from os import path\n",
    "from PIL import Image\n"
   ]
  },
  {
   "cell_type": "code",
   "execution_count": 2,
   "metadata": {
    "collapsed": true
   },
   "outputs": [],
   "source": [
    "import numpy as np\n",
    "import matplotlib.pyplot as plt\n",
    "\n",
    "from wordcloud import WordCloud, STOPWORDS"
   ]
  },
  {
   "cell_type": "code",
   "execution_count": 9,
   "metadata": {
    "collapsed": false
   },
   "outputs": [],
   "source": [
    "# d = path.dirname(__file__)\n",
    "\n",
    "# Read the whole text.\n",
    "# text = open(path.join(d, 'ss.txt')).read()\n",
    "text = open('kk_text_final.txt').read()\n",
    "\n",
    "# read the mask image\n",
    "# taken from\n",
    "# http://www.stencilry.org/stencils/movies/alice%20in%20wonderland/255fk.jpg\n",
    "# alice_mask = np.array(Image.open(path.join(d, \"kk.png\")))\n",
    "alice_mask = np.array(Image.open(\"pattern_pp2.png\"))\n",
    "\n",
    "stopwords = set(STOPWORDS)\n",
    "stopwords.add(\"said\")\n",
    "stopwords.add(\"kumartalks\")\n",
    "stopwords.add(\"html\")\n",
    "stopwords.add(\"us\")\n",
    "stopwords.add(\"if\")\n",
    "stopwords.add(\"ago\")\n",
    "stopwords.add(\"thing\")\n",
    "stopwords.add(open('ss copy.txt').read())\n"
   ]
  },
  {
   "cell_type": "code",
   "execution_count": 10,
   "metadata": {
    "collapsed": false
   },
   "outputs": [
    {
     "name": "stdout",
     "output_type": "stream",
     "text": [
      "set(['', 'all', \"she'll\", 'just', \"don't\", 'being', 'over', 'through', 'during', 'its', 'before', \"he's\", \"when's\", \"we've\", 'had', 'html', 'should', \"he'd\", 'to', 'only', 'does', \"here's\", 'under', 'ours', 'has', \"haven't\", 'do', 'them', 'his', 'above', 'get', 'very', \"who's\", \"they'd\", 'cannot', \"you've\", 'they', 'not', 'yourselves', 'him', 'nor', \"we'll\", 'like', 'did', \"they've\", \"wasn't\", 'she', 'each', \"won't\", 'where', \"mustn't\", \"isn't\", \"i'll\", \"why's\", 'www', 'because', \"you'd\", 'doing', 'theirs', 'some', \"hasn't\", 'are', 'further', 'ourselves', 'out', 'what', 'said', 'for', 'herself', 'below', \"there's\", \"shouldn't\", \"they'll\", 'between', 'can', 'be', 'we', 'after', \"doesn't\", 'here', 'hers', \"aren't\", 'by', 'both', 'about', 'her', 'of', 'could', 'against', 'thing', \"i'd\", \"weren't\", \"i'm\", 'com', 'or', \"can't\", \"a\\nabout\\nabove\\nafter\\nagain\\nagainst\\nall\\nam\\nan\\nand\\nany\\nare\\naren't\\nas\\nat\\nbe\\nbecause\\nbeen\\nbefore\\nbeing\\nbelow\\nbetween\\nboth\\nbut\\nby\\ncan't\\ncannot\\ncould\\ncouldn't\\ndid\\ndidn't\\ndo\\ndoes\\ndoesn't\\ndoing\\ndon't\\ndown\\nduring\\neach\\nfew\\nfor\\nfrom\\nfurther\\nhad\\nhadn't\\nhas\\nhasn't\\nhave\\nhaven't\\nhaving\\nhe\\nhe'd\\nhe'll\\nhe's\\nher\\nhere\\nhere's\\nhers\\nherself\\nhim\\nhimself\\nhis\\nhow\\nhow's\\ni\\ni'd\\ni'll\\ni'm\\ni've\\nif\\nin\\ninto\\nis\\nisn't\\nit\\nit's\\nits\\nitself\\nlet's\\nme\\nmore\\nmost\\nmustn't\\nmy\\nmyself\\nno\\nnor\\nnot\\nof\\noff\\non\\nonce\\nonly\\nor\\nother\\nought\\nshan't\\nshe'd\\nshe'll\\nshe's\\nshould\\nshouldn't\\nso\\nsome\\nsuch\\nthan\\nthat\\nthat's\\nthe\\ntheir\\ntheirs\\nthem\\nthemselves\\nthen\\nthere\\nthere's\\nthese\\nthey\\nthey'd\\nthey'll\\nthey're\\nthey've\\nthis\\nthose\\nthrough\\nto\\ntoo\\nunder\\nuntil\\nup\\nvery\\nwas\\nwasn't\\nwe\\nwe'd\\nwe'll\\nwe're\\nwe've\\nwere\\nweren't\\nwhat\\nwhat's\\nwhen\\nwhen's\\nwhere\\nwhere's\\nwhich\\nwhile\\nwho\\nwho's\\nwhom\\nwhy\\nwhy's\\nwith\\nwon't\\nwould\\nwouldn't\\nyou\\nyou'd\\nyou'll\\nyou're\\nyou've\\nthat\\nthis\\nwill\\nhave\\n\\n\\n\", 'own', 'into', 'yourself', 'down', \"hadn't\", \"couldn't\", 'your', \"you're\", 'from', \"how's\", 'would', 'their', \"it's\", 'there', 'been', \"he'll\", 'whom', 'too', 'themselves', 'was', 'until', 'more', 'ago', 'himself', \"i've\", 'am', \"what's\", 'but', 'it', 'with', 'than', 'those', 'he', 'me', \"they're\", 'myself', 'this', 'up', 'us', 'while', 'r', 'ought', 'were', 'kumartalks', 'my', \"wouldn't\", \"we'd\", 'and', 'then', 'is', \"didn't\", 'few', 'an', 'as', 'itself', 'at', 'have', 'in', 'any', 'if', 'these', \"let's\", 'no', 'that', 'when', 'same', 'how', 'other', 'which', 'you', \"shan't\", 'http', 'again', 'our', 'who', \"where's\", 'most', 'such', 'on', 'why', 'a', 'off', 'i', \"she'd\", 'having', \"you'll\", 'so', \"we're\", \"she's\", 'the', 'once', 'yours', \"that's\"])\n"
     ]
    }
   ],
   "source": [
    "print stopwords"
   ]
  },
  {
   "cell_type": "code",
   "execution_count": 11,
   "metadata": {
    "collapsed": false
   },
   "outputs": [
    {
     "data": {
      "text/plain": [
       "<wordcloud.wordcloud.WordCloud at 0x105727a10>"
      ]
     },
     "execution_count": 11,
     "metadata": {},
     "output_type": "execute_result"
    }
   ],
   "source": [
    "\n",
    "wc = WordCloud(background_color=\"black\", max_words=2000, mask=alice_mask,\n",
    "               stopwords=stopwords)\n",
    "\n",
    "# generate word cloud\n",
    "wc.generate(text)\n",
    "\n",
    "# store to file\n",
    "# wc.to_file(path.join(d, \"alice.png\"))\n",
    "wc.to_file(\"res6.png\")\n",
    "\n"
   ]
  },
  {
   "cell_type": "code",
   "execution_count": 12,
   "metadata": {
    "collapsed": true
   },
   "outputs": [],
   "source": [
    "# show\n",
    "plt.imshow(wc)\n",
    "plt.axis(\"off\")\n",
    "plt.figure()\n",
    "plt.imshow(alice_mask, cmap=plt.cm.gray)\n",
    "plt.axis(\"off\")\n",
    "plt.show()"
   ]
  },
  {
   "cell_type": "code",
   "execution_count": null,
   "metadata": {
    "collapsed": true
   },
   "outputs": [],
   "source": [
    "WordCloud()"
   ]
  },
  {
   "cell_type": "code",
   "execution_count": null,
   "metadata": {
    "collapsed": false
   },
   "outputs": [],
   "source": []
  },
  {
   "cell_type": "code",
   "execution_count": null,
   "metadata": {
    "collapsed": false
   },
   "outputs": [],
   "source": [
    " "
   ]
  },
  {
   "cell_type": "code",
   "execution_count": null,
   "metadata": {
    "collapsed": true
   },
   "outputs": [],
   "source": []
  },
  {
   "cell_type": "code",
   "execution_count": null,
   "metadata": {
    "collapsed": true
   },
   "outputs": [],
   "source": []
  }
 ],
 "metadata": {
  "kernelspec": {
   "display_name": "Python 2",
   "language": "python",
   "name": "python2"
  },
  "language_info": {
   "codemirror_mode": {
    "name": "ipython",
    "version": 2
   },
   "file_extension": ".py",
   "mimetype": "text/x-python",
   "name": "python",
   "nbconvert_exporter": "python",
   "pygments_lexer": "ipython2",
   "version": "2.7.10"
  }
 },
 "nbformat": 4,
 "nbformat_minor": 1
}
